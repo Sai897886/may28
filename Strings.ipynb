{
 "cells": [
  {
   "cell_type": "code",
   "execution_count": 1,
   "id": "c838af03-2238-43e9-a1cb-f270b385160d",
   "metadata": {},
   "outputs": [
    {
     "data": {
      "text/plain": [
       "'python'"
      ]
     },
     "execution_count": 1,
     "metadata": {},
     "output_type": "execute_result"
    }
   ],
   "source": [
    "str1='python'\n",
    "str1"
   ]
  },
  {
   "cell_type": "code",
   "execution_count": null,
   "id": "9cf0d6a8-3384-4abb-b8db-4a8d6a22d94c",
   "metadata": {},
   "outputs": [],
   "source": [
    "- access the characters or elements use square brackets"
   ]
  },
  {
   "cell_type": "code",
   "execution_count": 11,
   "id": "9fa082a6-11ef-45ba-a5dd-28070cd6b1bb",
   "metadata": {},
   "outputs": [
    {
     "data": {
      "text/plain": [
       "('n', 'n')"
      ]
     },
     "execution_count": 11,
     "metadata": {},
     "output_type": "execute_result"
    }
   ],
   "source": [
    "str1[0],str1[-6]\n",
    "str1[1],str1[-5]\n",
    "str1[2],str1[-4]\n",
    "str1[3],str1[-3]\n",
    "str1[4],str1[-2]\n",
    "str1[5],str1[-1]"
   ]
  },
  {
   "cell_type": "code",
   "execution_count": 19,
   "id": "d5659c49-8919-47c2-9d89-9f76b50b24fc",
   "metadata": {},
   "outputs": [
    {
     "name": "stdout",
     "output_type": "stream",
     "text": [
      "p y t h o n "
     ]
    }
   ],
   "source": [
    "for i in str1:\n",
    "    print(i,end=\" \")"
   ]
  },
  {
   "cell_type": "code",
   "execution_count": 21,
   "id": "a306417b-e694-493d-bc5e-f96d2fe0c4cc",
   "metadata": {},
   "outputs": [
    {
     "name": "stdout",
     "output_type": "stream",
     "text": [
      "h\n",
      "i\n",
      " \n",
      "r\n",
      "a\n",
      "v\n",
      "i\n"
     ]
    }
   ],
   "source": [
    "str1='hi ravi'\n",
    "n=len(str1)\n",
    "for i in range(0,n):\n",
    "    print(str1[i])"
   ]
  },
  {
   "cell_type": "code",
   "execution_count": null,
   "id": "af800899-eeef-437f-8ba2-13da0eceb04f",
   "metadata": {},
   "outputs": [],
   "source": [
    "#Q1: \n",
    "#the positive index of p is 0 \n",
    "#the positive index of y is 1\n",
    "#the positive index of n is 2\n",
    "\n",
    "#Q2\n",
    "#the negative index of p is -6\n",
    "#the negative index of y is -5\n",
    "#the negative index of n is -4 and so on \n",
    "\n",
    "#Q3\n",
    "#the positive index is 0 and negative index is -6 for p"
   ]
  },
  {
   "cell_type": "code",
   "execution_count": 43,
   "id": "fea5ebca-0090-4250-8dba-1502c74baaea",
   "metadata": {},
   "outputs": [
    {
     "name": "stdout",
     "output_type": "stream",
     "text": [
      "the positive index ofp is 0 \n",
      "the positive index ofy is 1 \n",
      "the positive index oft is 2 \n"
     ]
    }
   ],
   "source": [
    "n='python'\n",
    "for i in range(0,3):\n",
    "    print(f'the positive index of{n[i]} is {i} ')"
   ]
  },
  {
   "cell_type": "code",
   "execution_count": 41,
   "id": "85e07d19-bebc-449d-b155-4fb2758fb851",
   "metadata": {},
   "outputs": [
    {
     "name": "stdout",
     "output_type": "stream",
     "text": [
      "the negative index of p is -6 \n",
      "the negative index of y is -5 \n",
      "the negative index of t is -4 \n",
      "the negative index of h is -3 \n",
      "the negative index of o is -2 \n",
      "the negative index of n is -1 \n"
     ]
    }
   ],
   "source": [
    "n='python'\n",
    "for i in range(-6,0):\n",
    "    print(f'the negative index of {n[i]} is {i} ')"
   ]
  },
  {
   "cell_type": "code",
   "execution_count": 39,
   "id": "6f936e43-1d5c-46ee-9dd7-226b57bff410",
   "metadata": {},
   "outputs": [
    {
     "name": "stdout",
     "output_type": "stream",
     "text": [
      "0 -6\n",
      "the positive index is 0, negative index-6 for:p\n",
      "1 -5\n",
      "the positive index is 1, negative index-5 for:y\n",
      "2 -4\n",
      "the positive index is 2, negative index-4 for:t\n",
      "3 -3\n",
      "the positive index is 3, negative index-3 for:h\n",
      "4 -2\n",
      "the positive index is 4, negative index-2 for:o\n",
      "5 -1\n",
      "the positive index is 5, negative index-1 for:n\n"
     ]
    }
   ],
   "source": [
    "for i in range(0,6):\n",
    "    print(i,i-6)\n",
    "    print(f'the positive index is {i}, negative index{i-6} for:{ n[i]}')"
   ]
  },
  {
   "cell_type": "code",
   "execution_count": null,
   "id": "1945e0ad-e103-4815-ad18-0af765b27536",
   "metadata": {},
   "outputs": [],
   "source": [
    "**when to use in operator **\n",
    "-in operator directly access the elements\n",
    "**when to use range operator**\n",
    "-access the elements using index or numbers\n",
    "\n",
    "-any problem statement if you need numbers go for range\n",
    "- otherwise go for in operator directly"
   ]
  },
  {
   "cell_type": "code",
   "execution_count": null,
   "id": "fdd1393a-8952-4bea-a363-4b32988647ea",
   "metadata": {},
   "outputs": [],
   "source": [
    "#Q4\n",
    "#Write a program to find the indexes of 'a' in a given string\n",
    "# str1='ola ola ola'\n",
    "#Q5\n",
    "#Write a program to find the sum of all indexes of 'a' in a given string\n",
    "# str1='ola ola ola'\n",
    "#Q6\n",
    "#Write a program to find the number of 'a' in a given string\n",
    "# str1='ola ola ola'\n",
    "#Q7\n",
    "#Write a program to find the vowels and its count in a string\n",
    "# str1='hai how are you'\n"
   ]
  },
  {
   "cell_type": "code",
   "execution_count": 55,
   "id": "41769b45-219e-400f-966d-0f67fa1e2bb9",
   "metadata": {},
   "outputs": [
    {
     "name": "stdout",
     "output_type": "stream",
     "text": [
      "the index of a is :2\n",
      "the index of a is :6\n",
      "the index of a is :10\n"
     ]
    }
   ],
   "source": [
    "str1='ola ola ola'\n",
    "n=len(str1)\n",
    "for i in range(0,n):\n",
    "    if str1[i]=='a':\n",
    "        print(f'the index of a is :{i}')"
   ]
  },
  {
   "cell_type": "code",
   "execution_count": 63,
   "id": "d11e106d-bfd8-4bf6-8ef1-5ec572171295",
   "metadata": {},
   "outputs": [
    {
     "name": "stdout",
     "output_type": "stream",
     "text": [
      "the index of a is :2\n",
      "the index of a is :6\n",
      "the index of a is :10\n",
      "the sum of index of a is :18\n"
     ]
    }
   ],
   "source": [
    "str2='ola ola ola'\n",
    "n=len(str1)\n",
    "sp=0\n",
    "for i in range(0,n):\n",
    "    if str1[i]=='a':\n",
    "        print(f'the index of a is :{i}')\n",
    "        sp=sp+i\n",
    "print(f'the sum of index of a is :{sp}')\n",
    "    "
   ]
  },
  {
   "cell_type": "code",
   "execution_count": 65,
   "id": "3e087125-186d-4ddc-96f1-d3abe5e004f0",
   "metadata": {},
   "outputs": [
    {
     "name": "stdout",
     "output_type": "stream",
     "text": [
      "a\n",
      "i\n",
      "o\n",
      "a\n",
      "e\n",
      "o\n",
      "u\n",
      "7\n"
     ]
    }
   ],
   "source": [
    "str1='hai how are you'\n",
    "s1='aeiou'\n",
    "count=0\n",
    "for i in str1:\n",
    "    if i in s1:\n",
    "        print(i)\n",
    "        count=count+1\n",
    "print(count)"
   ]
  },
  {
   "cell_type": "code",
   "execution_count": 71,
   "id": "d96a47d2-b2a3-4fa6-a8b6-3bc5866f368b",
   "metadata": {},
   "outputs": [
    {
     "name": "stdout",
     "output_type": "stream",
     "text": [
      "a\n",
      "e\n"
     ]
    }
   ],
   "source": [
    "str1='aaae'\n",
    "s1=''\n",
    "for i in str1:\n",
    "    if i in 'aeiou' and i not in s1:\n",
    "        print(i)\n",
    "        s1=s1+i\n"
   ]
  },
  {
   "cell_type": "code",
   "execution_count": null,
   "id": "6ad8a9bd-ad0b-4c1a-b108-4c0af1cce9df",
   "metadata": {},
   "outputs": [],
   "source": [
    "mutable-immutable\n",
    "-mutable means changes\n",
    "-immutable means cannot change\n",
    "-we cannot change the elements using index operations\n",
    "-strings are immutable\n",
    "-lists are mutable"
   ]
  }
 ],
 "metadata": {
  "kernelspec": {
   "display_name": "Python [conda env:base] *",
   "language": "python",
   "name": "conda-base-py"
  },
  "language_info": {
   "codemirror_mode": {
    "name": "ipython",
    "version": 3
   },
   "file_extension": ".py",
   "mimetype": "text/x-python",
   "name": "python",
   "nbconvert_exporter": "python",
   "pygments_lexer": "ipython3",
   "version": "3.12.7"
  }
 },
 "nbformat": 4,
 "nbformat_minor": 5
}

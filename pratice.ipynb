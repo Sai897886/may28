{
 "cells": [
  {
   "cell_type": "code",
   "execution_count": 1,
   "id": "7f218250-e581-44c8-b57f-140e24ffbc7e",
   "metadata": {},
   "outputs": [
    {
     "name": "stdout",
     "output_type": "stream",
     "text": [
      "1\n",
      "2\n",
      "3\n",
      "4\n",
      "5\n",
      "6\n",
      "7\n",
      "8\n",
      "9\n"
     ]
    }
   ],
   "source": [
    "for i in range(1,10):\n",
    "    print(i)"
   ]
  },
  {
   "cell_type": "code",
   "execution_count": 11,
   "id": "54b0f52e-b110-41bc-a21e-ed4a99148f63",
   "metadata": {},
   "outputs": [
    {
     "name": "stdout",
     "output_type": "stream",
     "text": [
      "the square of1: {1}\n",
      "the square of2: {4}\n",
      "the square of3: {9}\n",
      "the square of4: {16}\n",
      "the square of5: {25}\n",
      "the square of6: {36}\n",
      "the square of7: {49}\n",
      "the square of8: {64}\n",
      "the square of9: {81}\n"
     ]
    }
   ],
   "source": [
    "for i in range(1,10):\n",
    "    print(f\"the square of{i}:\",{i*i})"
   ]
  },
  {
   "cell_type": "code",
   "execution_count": 15,
   "id": "45fa2cfe-7167-4a67-8eb9-2024df085e43",
   "metadata": {},
   "outputs": [
    {
     "name": "stdout",
     "output_type": "stream",
     "text": [
      "the addition of1: {2}\n",
      "the addition of2: {4}\n",
      "the addition of3: {6}\n",
      "the addition of4: {8}\n",
      "the addition of5: {10}\n",
      "the addition of6: {12}\n",
      "the addition of7: {14}\n",
      "the addition of8: {16}\n",
      "the addition of9: {18}\n"
     ]
    }
   ],
   "source": [
    "for i in range(1,10):\n",
    "    print(f\"the addition of{i}:\",{i+i})"
   ]
  },
  {
   "cell_type": "code",
   "execution_count": 17,
   "id": "55481459-e806-41dd-a092-63559e65ba33",
   "metadata": {},
   "outputs": [
    {
     "name": "stdout",
     "output_type": "stream",
     "text": [
      "the division of1: {1.0}\n",
      "the division of2: {1.0}\n",
      "the division of3: {1.0}\n",
      "the division of4: {1.0}\n",
      "the division of5: {1.0}\n",
      "the division of6: {1.0}\n",
      "the division of7: {1.0}\n",
      "the division of8: {1.0}\n",
      "the division of9: {1.0}\n"
     ]
    }
   ],
   "source": [
    "for i in range(1,10):\n",
    "    print(f\"the division of{i}:\",{i/i})"
   ]
  },
  {
   "cell_type": "code",
   "execution_count": 23,
   "id": "d177543d-282f-4683-881f-19ae9a1a1c1c",
   "metadata": {},
   "outputs": [
    {
     "name": "stdout",
     "output_type": "stream",
     "text": [
      "1  2  3  4  "
     ]
    }
   ],
   "source": [
    "for i in range(1,5):\n",
    "    print(i,end='  ')"
   ]
  },
  {
   "cell_type": "code",
   "execution_count": 11,
   "id": "82d1388b-1cf4-4cd8-9541-da6bdd989f33",
   "metadata": {},
   "outputs": [
    {
     "name": "stdout",
     "output_type": "stream",
     "text": [
      "[5, 2, 4, 8, 6, 7]\n"
     ]
    }
   ],
   "source": [
    "l=[5,2,5,4,5,8,6,5,7,8,8,4,7,8,7,8,4,8,4,7,7]\n",
    "l1=[]\n",
    "for i in l:\n",
    "    if i not in l1:\n",
    "        l1.append(i)\n",
    "print(l1)"
   ]
  },
  {
   "cell_type": "code",
   "execution_count": 71,
   "id": "398df25a-6d43-42bd-8a8e-5952ccff7d4a",
   "metadata": {},
   "outputs": [
    {
     "data": {
      "text/plain": [
       "'he  o i am sai'"
      ]
     },
     "execution_count": 71,
     "metadata": {},
     "output_type": "execute_result"
    }
   ],
   "source": [
    "str='hello i am sai'\n",
    "l=str.split('l')\n",
    "l\n",
    "' '.join(l)\n"
   ]
  },
  {
   "cell_type": "code",
   "execution_count": 31,
   "id": "7d107831-46d9-41a3-9bad-099427ce4a05",
   "metadata": {},
   "outputs": [
    {
     "name": "stdout",
     "output_type": "stream",
     "text": [
      "527554265456\n"
     ]
    }
   ],
   "source": [
    "l=[6,546,1256,21,527554265456,15,154,154,157,5698956874666666666744444444444444444444444444444444444444444444444111110000000000000000000000000000000000000000000000000000000000000000000000000000000000000000000000000000000000000000000000000000000000000000000000000000000000000000]\n",
    "timon=0\n",
    "for i in l:\n",
    "    if i>timon:\n",
    "        timon=i\n",
    "print(timon)"
   ]
  },
  {
   "cell_type": "code",
   "execution_count": 3,
   "id": "0fecceae-5c41-4763-933b-a9324edc6ea9",
   "metadata": {},
   "outputs": [
    {
     "data": {
      "text/plain": [
       "6"
      ]
     },
     "execution_count": 3,
     "metadata": {},
     "output_type": "execute_result"
    }
   ],
   "source": [
    "l[0]"
   ]
  },
  {
   "cell_type": "code",
   "execution_count": null,
   "id": "c742f5d1-b5a5-4553-8c71-3c5f9f866e7d",
   "metadata": {},
   "outputs": [],
   "source": []
  },
  {
   "cell_type": "code",
   "execution_count": null,
   "id": "0a43ef01-42e8-476d-baca-50356f4800f9",
   "metadata": {},
   "outputs": [],
   "source": []
  },
  {
   "cell_type": "code",
   "execution_count": null,
   "id": "cb0f1aad-90bb-4186-839a-e3d66059a21c",
   "metadata": {},
   "outputs": [],
   "source": []
  },
  {
   "cell_type": "code",
   "execution_count": null,
   "id": "2fc74657-5b7b-454c-bf89-5a19afd4aa5e",
   "metadata": {},
   "outputs": [],
   "source": []
  },
  {
   "cell_type": "code",
   "execution_count": null,
   "id": "96b1d5c1-a6ca-43aa-91b6-b20f2cf0805e",
   "metadata": {},
   "outputs": [],
   "source": []
  },
  {
   "cell_type": "code",
   "execution_count": null,
   "id": "390b1115-c151-4728-9e30-0b94d22db87e",
   "metadata": {},
   "outputs": [],
   "source": []
  },
  {
   "cell_type": "code",
   "execution_count": null,
   "id": "a072a746-ec27-4981-adf7-0a8014256e27",
   "metadata": {},
   "outputs": [],
   "source": []
  },
  {
   "cell_type": "code",
   "execution_count": null,
   "id": "e094add4-b7d7-4d1b-97c5-6bc6557fb981",
   "metadata": {},
   "outputs": [],
   "source": []
  },
  {
   "cell_type": "code",
   "execution_count": null,
   "id": "47e55693-45da-4b32-9f65-b2681905a65b",
   "metadata": {},
   "outputs": [],
   "source": []
  }
 ],
 "metadata": {
  "kernelspec": {
   "display_name": "Python [conda env:base] *",
   "language": "python",
   "name": "conda-base-py"
  },
  "language_info": {
   "codemirror_mode": {
    "name": "ipython",
    "version": 3
   },
   "file_extension": ".py",
   "mimetype": "text/x-python",
   "name": "python",
   "nbconvert_exporter": "python",
   "pygments_lexer": "ipython3",
   "version": "3.12.7"
  }
 },
 "nbformat": 4,
 "nbformat_minor": 5
}

{
 "cells": [
  {
   "cell_type": "code",
   "execution_count": null,
   "id": "c3c78826-f0b5-4e5f-bb95-7600df46d21f",
   "metadata": {},
   "outputs": [],
   "source": [
    "CONDITIONAL STATEMENTS\n",
    "- conditional statements are used to execute the code based on some conditions\n",
    "- assume a statement\n",
    "    - if rain comes i will stay at hostel\n",
    "    - if rain comes i will stay at hostel otherwise i will go to play cricket\n",
    "    - if rain comes i will stay at hostel otherwise i will go to around but if omkar sir call i will go\n",
    "- if rain comes i will stay at hostel else i will go to cricket\n",
    "-if\n",
    "-if-else\n",
    "-if-elif-else"
   ]
  },
  {
   "cell_type": "code",
   "execution_count": null,
   "id": "8304efe2-efaf-49ea-bac0-8155fab91416",
   "metadata": {},
   "outputs": [],
   "source": [
    "if <condition>:\n",
    "    # write your code here\n",
    "\n",
    "# whenever the condition is true\n",
    "# then python will go inside the if area then the line will be execute"
   ]
  },
  {
   "cell_type": "code",
   "execution_count": 1,
   "id": "241282e0-6ce1-4c20-8131-8791837fca06",
   "metadata": {},
   "outputs": [
    {
     "name": "stdout",
     "output_type": "stream",
     "text": [
      "False\n",
      "True\n",
      "False\n",
      "False\n",
      "True\n",
      "True\n"
     ]
    }
   ],
   "source": [
    "num=10 # assignment 10 is a value stored in a variable name\n",
    "print(num==100) # condition check num value equal to 10 or not\n",
    "print(num==10)\n",
    "print(num>10)\n",
    "print(num<10)\n",
    "print(num>=10)\n",
    "print(num<=10)"
   ]
  },
  {
   "cell_type": "code",
   "execution_count": 5,
   "id": "2a372fdd-42fd-47c6-bb0f-a54bf2e1cf71",
   "metadata": {},
   "outputs": [
    {
     "name": "stdout",
     "output_type": "stream",
     "text": [
      "False\n",
      "True\n",
      "False\n",
      "False\n",
      "True\n",
      "True\n"
     ]
    }
   ],
   "source": [
    "num=20\n",
    "print(num==90)\n",
    "print(num==20)\n",
    "print(num>20)\n",
    "print(num<20)\n",
    "print(num>=20)\n",
    "print(num<=20)"
   ]
  },
  {
   "cell_type": "code",
   "execution_count": 7,
   "id": "4af54c0a-af25-40d1-9c1d-00fe12423c56",
   "metadata": {},
   "outputs": [
    {
     "name": "stdout",
     "output_type": "stream",
     "text": [
      "hello\n"
     ]
    }
   ],
   "source": [
    "if 100>10:\n",
    "    print('hello')\n",
    "#step-1: 100>10 true\n",
    "#step-2: hello"
   ]
  },
  {
   "cell_type": "code",
   "execution_count": null,
   "id": "9d876a89-ee85-4475-9e54-b592db785aa6",
   "metadata": {},
   "outputs": [],
   "source": [
    "**mistake-1**\n",
    "**indention error**\n",
    "-whenever a line starts with keyword at last: will be there\n",
    "-whenever: there then we have indentation"
   ]
  },
  {
   "cell_type": "code",
   "execution_count": 9,
   "id": "80a645d0-5c65-45ab-8f67-774deb793472",
   "metadata": {},
   "outputs": [
    {
     "name": "stdout",
     "output_type": "stream",
     "text": [
      "hello\n",
      "hai\n",
      "im with condition bye\n",
      "im without condition bye\n"
     ]
    }
   ],
   "source": [
    " if 100>10:\n",
    "     print('hello')\n",
    "     print('hai')\n",
    "     print('im with condition bye')\n",
    "\n",
    "print('im without condition bye')"
   ]
  },
  {
   "cell_type": "code",
   "execution_count": null,
   "id": "fc6e36bb-0a01-4212-9773-f70b2e709b58",
   "metadata": {},
   "outputs": [],
   "source": [
    "if 100>0:\n",
    "    print('positive number')\n",
    "else: \n",
    "    print('negative number')\n",
    "#########################################\n",
    "n=eval(input('enter the number:'))\n",
    "if n>0:\n",
    "    print('positive number')\n",
    "    "
   ]
  },
  {
   "cell_type": "code",
   "execution_count": 1,
   "id": "a2782464-d132-44b5-8bd7-9f9840bf9d30",
   "metadata": {},
   "outputs": [
    {
     "name": "stdout",
     "output_type": "stream",
     "text": [
      "hello\n",
      "positive number\n",
      "condition is false\n",
      "bye\n"
     ]
    }
   ],
   "source": [
    "print('hello')\n",
    "if 100>0:\n",
    "    print('positive number')\n",
    "    print('condition is false')\n",
    "else:\n",
    "    print('negative mumber')\n",
    "    print('condition is false')\n",
    "print('bye')"
   ]
  },
  {
   "cell_type": "code",
   "execution_count": 3,
   "id": "a7298299-0c46-486f-a498-dc3d68c098c8",
   "metadata": {},
   "outputs": [
    {
     "name": "stdin",
     "output_type": "stream",
     "text": [
      "enter the number 100\n",
      "enter the number 90\n"
     ]
    },
    {
     "name": "stdout",
     "output_type": "stream",
     "text": [
      "100 is a greater number\n"
     ]
    }
   ],
   "source": [
    "# wap askmthe user enter two numbers\n",
    "#find the greatest number\n",
    "\n",
    "n1=eval(input('enter the number'))\n",
    "n2=eval(input('enter the number'))\n",
    "if n1>n2:\n",
    "    print(f'{n1} is a greater number')\n",
    "else:\n",
    "    print(f'{n2} is a greater number')"
   ]
  },
  {
   "cell_type": "code",
   "execution_count": null,
   "id": "6caf3715-a316-44a2-b872-750ef8d7ee7a",
   "metadata": {},
   "outputs": [],
   "source": [
    "# wap ask the user enter distance\n",
    "# if distance greater than 25km\n",
    "# then ask the charge per km\n",
    "# then calculate total charge\n",
    "# otherwise print free ride\n",
    "\n",
    "# step-1: enter the distance\n",
    "# step-2: if distance>25\n",
    "# step-3: ask the charge\n",
    "# step-4: calculate the total charge\n",
    "# step-5: else\n",
    "# step-6: free ride\n",
    "\n"
   ]
  },
  {
   "cell_type": "code",
   "execution_count": 33,
   "id": "e07b597a-452b-43bb-9c79-bf9c2dcc9eb7",
   "metadata": {},
   "outputs": [
    {
     "name": "stdin",
     "output_type": "stream",
     "text": [
      "enter the distance: 30\n",
      "enter the charge per km: 10\n"
     ]
    },
    {
     "name": "stdout",
     "output_type": "stream",
     "text": [
      "The total charge is: 50\n"
     ]
    }
   ],
   "source": [
    "distance=eval(input('enter the distance:'))\n",
    "if distance>25:\n",
    "    charge=eval(input('enter the charge per km:'))\n",
    "    total_charge=(distance-25)*charge\n",
    "    print(\"The total charge is:\",total_charge)\n",
    "else:\n",
    "    print('free ride')"
   ]
  },
  {
   "cell_type": "code",
   "execution_count": 21,
   "id": "1b05b9e4-d62e-42ff-b7ee-17bd920ac1cc",
   "metadata": {},
   "outputs": [
    {
     "name": "stdin",
     "output_type": "stream",
     "text": [
      "enter the number between 1 to 10 1\n"
     ]
    },
    {
     "name": "stdout",
     "output_type": "stream",
     "text": [
      "Lucky Lucky: you lost better luck next time\n"
     ]
    }
   ],
   "source": [
    "import random\n",
    "n1=eval(input('enter the number between 1 to 10'))\n",
    "n2=random.randint(1,10)\n",
    "if n1==n2:\n",
    "    print('lucky won')\n",
    "else:\n",
    "    print('Lucky Lucky: you lost better luck next time')"
   ]
  },
  {
   "cell_type": "markdown",
   "id": "56e17fa6-1bd8-4a18-90bd-7dcb527c7c72",
   "metadata": {},
   "source": [
    "**if-elif-else**"
   ]
  },
  {
   "cell_type": "markdown",
   "id": "3ebd10a0-427c-427b-80e2-0e041a139a9b",
   "metadata": {},
   "source": [
    "- whenever we have multiple conditions we will do **if-elif-else**\n",
    "- if single condition is there we will go if-else\n",
    "   - two answers\n",
    "   - if needs condition then else doesnot reqire any condition\n",
    "\n",
    "- if two conditions are there will go if-elif-else\n",
    "   - three answers\n",
    "    - if and elif need condition else doesnot require any condition\n",
    "\n",
    "- if three conditions are there will go if-elif-elif-else\n",
    "    - four answers\n",
    "    - if elif and elif need condition and else doesnot require any condition"
   ]
  },
  {
   "cell_type": "code",
   "execution_count": null,
   "id": "cf64a258-e31d-49f6-bb5c-dd6aa4ace24d",
   "metadata": {},
   "outputs": [],
   "source": [
    "if <condition>:\n",
    "    <write your code here>\n",
    "elif<condition>:\n",
    "    <write your code here>\n",
    "elif<condition>:\n",
    "    <write yor code here>\n",
    "else:\n",
    "    <write your code here>\n",
    "    "
   ]
  },
  {
   "cell_type": "markdown",
   "id": "b929a959-9a11-45e8-990f-eabb91d9cca4",
   "metadata": {},
   "source": [
    "# wap ask the user enter a number\n",
    "# if number equal to one then print one\n",
    "# if number equal to two then print two\n",
    "# if number equal to three then print three\n",
    "# otherwise print enter a valid number\n",
    "\n",
    "num=eval(input('enter a number'))\n",
    "if num==1:\n",
    "    print('one')\n",
    "elif num==2:\n",
    "    print('two')\n",
    "elif num==3:\n",
    "    print('three')\n",
    "else:\n",
    "    print('enter a valid number')\n",
    "    "
   ]
  },
  {
   "cell_type": "code",
   "execution_count": 12,
   "id": "90f42b68-e650-41d6-8e4b-76a0a86699ca",
   "metadata": {},
   "outputs": [
    {
     "name": "stdin",
     "output_type": "stream",
     "text": [
      "enter marks 80\n"
     ]
    },
    {
     "name": "stdout",
     "output_type": "stream",
     "text": [
      "B grade\n"
     ]
    }
   ],
   "source": [
    "# wap ask the user enter percentage of marks\n",
    "# if marks greater than 90 then print A grade\n",
    "# if marks between 70 to 90 then print b grade\n",
    "# if marks between 50 to 70 then print C grade\n",
    "# if marks between 30 to 50 then print D grade\n",
    "# otherwise print fail\n",
    "\n",
    "p=eval(input('enter marks'))\n",
    "if p>90:\n",
    "    print('A grade')\n",
    "elif p>=70:\n",
    "    print('B grade')\n",
    "elif p>=50:\n",
    "    print('C grade')\n",
    "elif p>=30:\n",
    "    print('D grade')\n",
    "else:\n",
    "    print('fail')"
   ]
  },
  {
   "cell_type": "code",
   "execution_count": null,
   "id": "0fe0609f-ee5b-4dfa-958f-183d5949ea71",
   "metadata": {},
   "outputs": [],
   "source": [
    "# wap ask the user enter age \n",
    "# if age betwwen \n",
    "\n",
    "\n",
    "\n",
    "\n",
    "age=eval(input('enter age'))\n",
    "if age>100:\n",
    "    print('unlucky')\n",
    "elif age>=80:\n",
    "    print('old guy')\n",
    "elif age>=60:\n",
    "    print('ss')\n",
    "elif age>=40:\n",
    "    print('MA')\n",
    "elif age>=20:\n",
    "    print('young')\n",
    "elif age>=10:\n",
    "    print('teenage')\n",
    "else:\n",
    "    print()"
   ]
  }
 ],
 "metadata": {
  "kernelspec": {
   "display_name": "Python [conda env:base] *",
   "language": "python",
   "name": "conda-base-py"
  },
  "language_info": {
   "codemirror_mode": {
    "name": "ipython",
    "version": 3
   },
   "file_extension": ".py",
   "mimetype": "text/x-python",
   "name": "python",
   "nbconvert_exporter": "python",
   "pygments_lexer": "ipython3",
   "version": "3.12.7"
  }
 },
 "nbformat": 4,
 "nbformat_minor": 5
}

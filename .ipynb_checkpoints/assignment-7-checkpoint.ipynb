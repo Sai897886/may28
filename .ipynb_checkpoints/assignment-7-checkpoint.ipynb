{
 "cells": [
  {
   "cell_type": "code",
   "execution_count": 5,
   "id": "b6012dd5-6d28-46d9-895c-c73a21f928dd",
   "metadata": {},
   "outputs": [],
   "source": [
    "# wap ask the user to enter 3 numbers n1,n2,n3 from keyword\n",
    "def AVG():\n",
    "     try:\n",
    "         n1=eval(input(\"Enter num1:\"))\n",
    "         n2=eval(input(\"Enter num2:\"))\n",
    "         n3=eval(input(\"Enter num3:\"))\n",
    "         avg=(n1+n2+n3)/3\n",
    "         avg1=round(avg,3)\n",
    "         print(f\"The avg of {n1},{n2},{n3} is: {avg1}\")\n",
    "     except Exception as e:\n",
    "         print(e)"
   ]
  },
  {
   "cell_type": "code",
   "execution_count": 7,
   "id": "f8e1dfcf-865f-4d67-9bcf-5c542fe9a3c8",
   "metadata": {},
   "outputs": [
    {
     "name": "stdin",
     "output_type": "stream",
     "text": [
      "Enter num1: 20\n",
      "Enter num2: 30\n",
      "Enter num3: 12\n"
     ]
    },
    {
     "name": "stdout",
     "output_type": "stream",
     "text": [
      "The avg of 20,30,12 is: 20.667\n"
     ]
    }
   ],
   "source": [
    "AVG()"
   ]
  },
  {
   "cell_type": "code",
   "execution_count": 13,
   "id": "600f4816-a1eb-4cfd-affe-1dec6028be63",
   "metadata": {},
   "outputs": [],
   "source": [
    "#wap ask the user enter name age city\n",
    "def details():\n",
    "    try:\n",
    "        name=input('enter the name:')\n",
    "        city=input('enter the city name:')\n",
    "        age=eval(input('enter the age:'))\n",
    "        print(f\"my name is {name} im {age} old and came from {city}\")\n",
    "    except Exception as e:\n",
    "        print(e)    \n",
    "        "
   ]
  },
  {
   "cell_type": "code",
   "execution_count": 15,
   "id": "c46e201d-9886-4bbc-a383-68f80d631095",
   "metadata": {},
   "outputs": [
    {
     "name": "stdin",
     "output_type": "stream",
     "text": [
      "enter the name: sai\n",
      "enter the city name: vzm\n",
      "enter the age: 22\n"
     ]
    },
    {
     "name": "stdout",
     "output_type": "stream",
     "text": [
      "my name is sai im 22 old and came from vzm\n"
     ]
    }
   ],
   "source": [
    "details()"
   ]
  },
  {
   "cell_type": "code",
   "execution_count": 19,
   "id": "133f5027-26ee-4836-b1d7-d2438095ffcb",
   "metadata": {},
   "outputs": [],
   "source": [
    "# wap ask the user to enter the radius and calculate the area of circle\n",
    "\n",
    "def area():\n",
    "     try:\n",
    "         rad=eval(input(\"Enter radius of the circle:\"))\n",
    "         pi=3.14\n",
    "         area=pi*rad*rad\n",
    "         x=(round(area,2))\n",
    "         print(f\"The area of circle with radius {rad} is : {x} cm2\")\n",
    "     except Exception as e:\n",
    "         print(e)\n"
   ]
  },
  {
   "cell_type": "code",
   "execution_count": 22,
   "id": "a7ae5584-f8fa-4ecb-be2a-bf3827bdf135",
   "metadata": {},
   "outputs": [
    {
     "name": "stdin",
     "output_type": "stream",
     "text": [
      "Enter radius of the circle: 6\n"
     ]
    },
    {
     "name": "stdout",
     "output_type": "stream",
     "text": [
      "The area of circle with radius 6 is : 113.04 cm2\n"
     ]
    }
   ],
   "source": [
    "area()"
   ]
  },
  {
   "cell_type": "code",
   "execution_count": 29,
   "id": "aa7a08c7-05ca-4b2f-bd2b-1c4df02837a5",
   "metadata": {},
   "outputs": [],
   "source": [
    "# wap ask the user enter breadth and height of a right angle triangle \n",
    "def area1():\n",
    "    try:\n",
    "         B=eval(input(\"Enter breadth of the triangle:\"))\n",
    "         H=eval(input(\"Enter height of *B*the triangle:\"))\n",
    "         area=0.5H\n",
    "         print(f\"The area of Right angled triangle with Breadth {B}cm & Height {H}cm is :{area}cm2\")\n",
    "    except Exception as e:\n",
    "         print(e)"
   ]
  },
  {
   "cell_type": "code",
   "execution_count": 31,
   "id": "3513dad1-f5f2-4913-ba2a-1f11299e1fbb",
   "metadata": {},
   "outputs": [
    {
     "name": "stdin",
     "output_type": "stream",
     "text": [
      "Enter breadth of the triangle: 5\n",
      "Enter height of the triangle: 7\n"
     ]
    },
    {
     "name": "stdout",
     "output_type": "stream",
     "text": [
      "The area of Right angled triangle with Breadth 5cm & Height 7cm is :17.5cm2\n"
     ]
    }
   ],
   "source": [
    "area1()"
   ]
  },
  {
   "cell_type": "code",
   "execution_count": 33,
   "id": "8ab53a9a-74eb-472a-ac07-447fe44f9dfe",
   "metadata": {},
   "outputs": [],
   "source": [
    "# wap ask the user to enter bill amount and tip\n",
    "def bill():\n",
    "    try:\n",
    "         B=int(input(\"Enter Bill amount:\"))\n",
    "         Tip=int(input(\"Enter Tip amount:\"))\n",
    "         T_Bill=B+Tip\n",
    "         print(f\"The total bill amount {B} with Tip amount {Tip} is : {T_Bill}\")\n",
    "    except Exception as e:\n",
    "         print(e)\n"
   ]
  },
  {
   "cell_type": "code",
   "execution_count": 35,
   "id": "68c7173e-20aa-4289-8ef8-6a209350e22d",
   "metadata": {},
   "outputs": [
    {
     "name": "stdin",
     "output_type": "stream",
     "text": [
      "Enter Bill amount: 1000\n",
      "Enter Tip amount: 20\n"
     ]
    },
    {
     "name": "stdout",
     "output_type": "stream",
     "text": [
      "The total bill amount 1000 with Tip amount 20 is : 1020\n"
     ]
    }
   ],
   "source": [
    "bill()"
   ]
  },
  {
   "cell_type": "code",
   "execution_count": 37,
   "id": "8f56d11b-73b5-4ef2-9af0-b8d9c301adc0",
   "metadata": {},
   "outputs": [],
   "source": [
    "# wap ask the user to enter bill amount and percentage of the tip\n",
    "def bill1():\n",
    "    try:\n",
    "         bill_amnt=eval(input(\"Enter the bill amount:\"))\n",
    "         tip=eval(input(\"Enter the tip %:\"))\n",
    "         total_bill=bill_amnt+(bill_amnt*tip)/100\n",
    "         print(f\"Total bill with tip percentage added is:{total_bill}\")\n",
    "    except Exception as e:\n",
    "         print(e)"
   ]
  },
  {
   "cell_type": "code",
   "execution_count": 39,
   "id": "82c15d29-a89f-462d-8008-ecad2abc8ed0",
   "metadata": {},
   "outputs": [
    {
     "name": "stdin",
     "output_type": "stream",
     "text": [
      "Enter the bill amount: 2500\n",
      "Enter the tip %: 2\n"
     ]
    },
    {
     "name": "stdout",
     "output_type": "stream",
     "text": [
      "Total bill with tip percentage added is:2550.0\n"
     ]
    }
   ],
   "source": [
    "bill1()"
   ]
  },
  {
   "cell_type": "code",
   "execution_count": 41,
   "id": "50edd3af-9276-4fb7-8188-68946a7d0246",
   "metadata": {},
   "outputs": [],
   "source": [
    "# 7)wap ask the length and breadth of a rectangle calculate area\n",
    "def area_rec():\n",
    "    try:\n",
    "         L=eval(input(\"Enter Length of the Rectangle:\"))\n",
    "         B=eval(input(\"Enter Breadth of the Rectangle:\"))\n",
    "         area=L*B\n",
    "         print(f\"The area of Rectangle with Length {L}cm and Breadth {B}cm is :{area}cm2\")\n",
    "    except Exception as e:\n",
    "         print(e)"
   ]
  },
  {
   "cell_type": "code",
   "execution_count": 43,
   "id": "2ff82c8d-5b9b-4db3-8b82-35be37318f05",
   "metadata": {},
   "outputs": [
    {
     "name": "stdin",
     "output_type": "stream",
     "text": [
      "Enter Length of the Rectangle: 10\n",
      "Enter Breadth of the Rectangle: 7\n"
     ]
    },
    {
     "name": "stdout",
     "output_type": "stream",
     "text": [
      "The area of Rectangle with Length 10cm and Breadth 7cm is :70cm2\n"
     ]
    }
   ],
   "source": [
    "area_rec()"
   ]
  },
  {
   "cell_type": "code",
   "execution_count": 45,
   "id": "06e8728a-f006-4799-bfc8-e59a533f316e",
   "metadata": {},
   "outputs": [],
   "source": [
    "# 8) wap ask the user take the radius and calculate volume of sphere\n",
    "def volume_S():\n",
    "    try:\n",
    "         rad=eval(input(\"Enter radius of the circle:\"))\n",
    "         pi=3.14\n",
    "         vol=(4/3)*pi*rad*rad*rad\n",
    "         x=(round(vol,2))\n",
    "         print(f\"The volume of Sphere with radius {rad} is : {x} cm3\")\n",
    "    except Exception as e:\n",
    "         print(e)"
   ]
  },
  {
   "cell_type": "code",
   "execution_count": 51,
   "id": "1e2a62bc-45f8-4eb7-937a-78c1fa00565c",
   "metadata": {},
   "outputs": [
    {
     "name": "stdin",
     "output_type": "stream",
     "text": [
      "Enter radius of the circle: 5\n"
     ]
    },
    {
     "name": "stdout",
     "output_type": "stream",
     "text": [
      "The volume of Sphere with radius 5 is : 523.33 cm3\n"
     ]
    }
   ],
   "source": [
    "volume_S()"
   ]
  },
  {
   "cell_type": "code",
   "execution_count": 53,
   "id": "a2e11e86-fcd6-4a4c-be64-794f39bf0679",
   "metadata": {},
   "outputs": [],
   "source": [
    "# 9) wap ask the user enter amount in dollars convert into rupees\n",
    "def convert():\n",
    "    try:\n",
    "         Dollar=eval(input(\"Enter Dollars to convert into Rupees:\"))\n",
    "         rup=80\n",
    "         converted=Dollar*rup\n",
    "         print(f\"The amount of {Dollar}$ in Rupees is : {converted}.\")\n",
    "    except Exception as e:\n",
    "         print(e)\n"
   ]
  },
  {
   "cell_type": "code",
   "execution_count": 55,
   "id": "a93dd81b-1665-4729-9087-e01c94cf18f1",
   "metadata": {},
   "outputs": [
    {
     "name": "stdin",
     "output_type": "stream",
     "text": [
      "Enter Dollars to convert into Rupees: 200\n"
     ]
    },
    {
     "name": "stdout",
     "output_type": "stream",
     "text": [
      "The amount of 200$ in Rupees is : 16000.\n"
     ]
    }
   ],
   "source": [
    "convert()"
   ]
  },
  {
   "cell_type": "code",
   "execution_count": 57,
   "id": "c8375643-fcb8-4159-9ba6-68797ef28f47",
   "metadata": {},
   "outputs": [],
   "source": [
    "# 10)wap ask the user enter weight in kgs convert into pounds\n",
    "def convert1():\n",
    "    try:\n",
    "         W=eval(input(\"Enter weight to convert into Pounds:\"))\n",
    "         Pound=2.2\n",
    "         converted=W*Pound\n",
    "         print(f\"The weight {W}Kg in Pounds is :{converted} Pounds.\")\n",
    "    except Exception as e:\n",
    "         print(e)"
   ]
  },
  {
   "cell_type": "code",
   "execution_count": 59,
   "id": "f275f0b1-8675-4aec-b7fb-5cf7cd700f16",
   "metadata": {},
   "outputs": [
    {
     "name": "stdin",
     "output_type": "stream",
     "text": [
      "Enter weight to convert into Pounds: 30\n"
     ]
    },
    {
     "name": "stdout",
     "output_type": "stream",
     "text": [
      "The weight 30Kg in Pounds is :66.0 Pounds.\n"
     ]
    }
   ],
   "source": [
    "convert1()"
   ]
  },
  {
   "cell_type": "code",
   "execution_count": null,
   "id": "1f32aba4-416c-4d0a-a87b-7c51d2c38556",
   "metadata": {},
   "outputs": [],
   "source": []
  }
 ],
 "metadata": {
  "kernelspec": {
   "display_name": "Python [conda env:base] *",
   "language": "python",
   "name": "conda-base-py"
  },
  "language_info": {
   "codemirror_mode": {
    "name": "ipython",
    "version": 3
   },
   "file_extension": ".py",
   "mimetype": "text/x-python",
   "name": "python",
   "nbconvert_exporter": "python",
   "pygments_lexer": "ipython3",
   "version": "3.12.7"
  }
 },
 "nbformat": 4,
 "nbformat_minor": 5
}

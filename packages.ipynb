{
 "cells": [
  {
   "cell_type": "code",
   "execution_count": null,
   "id": "d3e7ee0c-4cad-4e18-b4fb-efc1d57f3038",
   "metadata": {},
   "outputs": [],
   "source": [
    "import<package name>\n"
   ]
  },
  {
   "cell_type": "code",
   "execution_count": null,
   "id": "99e256db-638a-4249-8a0e-9cdaa3fc1760",
   "metadata": {},
   "outputs": [],
   "source": [
    "package name: random\n",
    "package name: math\n",
    "package name: time\n",
    "package name: keyword\n",
    "package name: pandas\n",
    "package name: numpy\n",
    "package name: cv2"
   ]
  },
  {
   "cell_type": "code",
   "execution_count": null,
   "id": "71390979-e45b-4296-b829-f52b2c7613cb",
   "metadata": {},
   "outputs": [],
   "source": [
    "import random"
   ]
  },
  {
   "cell_type": "code",
   "execution_count": null,
   "id": "a1deea0d-74d6-4a6d-98c0-284fe7393678",
   "metadata": {},
   "outputs": [],
   "source": [
    "import math"
   ]
  },
  {
   "cell_type": "code",
   "execution_count": null,
   "id": "59d7b71f-7d32-4b3e-a8d9-4081ff2e3bdb",
   "metadata": {},
   "outputs": [],
   "source": [
    "import time"
   ]
  },
  {
   "cell_type": "code",
   "execution_count": null,
   "id": "2eed35e3-bcdd-48b0-ad54-e3c6da72ab75",
   "metadata": {},
   "outputs": [],
   "source": [
    "import keyword"
   ]
  },
  {
   "cell_type": "code",
   "execution_count": null,
   "id": "129cbd27-a51b-4c29-b253-61308d905d97",
   "metadata": {},
   "outputs": [],
   "source": [
    "import pandas"
   ]
  },
  {
   "cell_type": "code",
   "execution_count": null,
   "id": "8d4f4720-6b89-4917-aae2-dcd4eff145a5",
   "metadata": {},
   "outputs": [],
   "source": [
    "import numpy"
   ]
  },
  {
   "cell_type": "code",
   "execution_count": null,
   "id": "467704fb-e059-49b9-a2f0-701d79a21912",
   "metadata": {},
   "outputs": [],
   "source": [
    "import cv2"
   ]
  },
  {
   "cell_type": "code",
   "execution_count": null,
   "id": "36677e14-d90b-4522-8d40-7c7a60e18382",
   "metadata": {},
   "outputs": [],
   "source": [
    "import random"
   ]
  },
  {
   "cell_type": "code",
   "execution_count": 5,
   "id": "9ed340af-cade-4dac-b1af-cdcd70a0bc28",
   "metadata": {},
   "outputs": [
    {
     "ename": "NameError",
     "evalue": "name 'random' is not defined",
     "output_type": "error",
     "traceback": [
      "\u001b[1;31m---------------------------------------------------------------------------\u001b[0m",
      "\u001b[1;31mNameError\u001b[0m                                 Traceback (most recent call last)",
      "Cell \u001b[1;32mIn[5], line 1\u001b[0m\n\u001b[1;32m----> 1\u001b[0m random\n",
      "\u001b[1;31mNameError\u001b[0m: name 'random' is not defined"
     ]
    }
   ],
   "source": [
    "random"
   ]
  },
  {
   "cell_type": "markdown",
   "id": "704fad41-da8a-46c5-8446-abd8b06127e1",
   "metadata": {},
   "source": []
  },
  {
   "cell_type": "code",
   "execution_count": 7,
   "id": "81e803e2-2444-4335-9369-40564e4aa45b",
   "metadata": {},
   "outputs": [
    {
     "data": {
      "text/plain": [
       "['BPF',\n",
       " 'LOG4',\n",
       " 'NV_MAGICCONST',\n",
       " 'RECIP_BPF',\n",
       " 'Random',\n",
       " 'SG_MAGICCONST',\n",
       " 'SystemRandom',\n",
       " 'TWOPI',\n",
       " '_ONE',\n",
       " '_Sequence',\n",
       " '__all__',\n",
       " '__builtins__',\n",
       " '__cached__',\n",
       " '__doc__',\n",
       " '__file__',\n",
       " '__loader__',\n",
       " '__name__',\n",
       " '__package__',\n",
       " '__spec__',\n",
       " '_accumulate',\n",
       " '_acos',\n",
       " '_bisect',\n",
       " '_ceil',\n",
       " '_cos',\n",
       " '_e',\n",
       " '_exp',\n",
       " '_fabs',\n",
       " '_floor',\n",
       " '_index',\n",
       " '_inst',\n",
       " '_isfinite',\n",
       " '_lgamma',\n",
       " '_log',\n",
       " '_log2',\n",
       " '_os',\n",
       " '_pi',\n",
       " '_random',\n",
       " '_repeat',\n",
       " '_sha512',\n",
       " '_sin',\n",
       " '_sqrt',\n",
       " '_test',\n",
       " '_test_generator',\n",
       " '_urandom',\n",
       " '_warn',\n",
       " 'betavariate',\n",
       " 'binomialvariate',\n",
       " 'choice',\n",
       " 'choices',\n",
       " 'expovariate',\n",
       " 'gammavariate',\n",
       " 'gauss',\n",
       " 'getrandbits',\n",
       " 'getstate',\n",
       " 'lognormvariate',\n",
       " 'normalvariate',\n",
       " 'paretovariate',\n",
       " 'randbytes',\n",
       " 'randint',\n",
       " 'random',\n",
       " 'randrange',\n",
       " 'sample',\n",
       " 'seed',\n",
       " 'setstate',\n",
       " 'shuffle',\n",
       " 'triangular',\n",
       " 'uniform',\n",
       " 'vonmisesvariate',\n",
       " 'weibullvariate']"
      ]
     },
     "execution_count": 7,
     "metadata": {},
     "output_type": "execute_result"
    }
   ],
   "source": [
    "import random\n",
    "dir(random)"
   ]
  },
  {
   "cell_type": "raw",
   "id": "2f976698-5019-4033-b993-1dd4051fd5ec",
   "metadata": {},
   "source": [
    "import random\n",
    "dir(random)"
   ]
  },
  {
   "cell_type": "code",
   "execution_count": 9,
   "id": "90dcaac3-61e1-47ad-bc64-d3039fdda88c",
   "metadata": {},
   "outputs": [
    {
     "data": {
      "text/plain": [
       "['BPF',\n",
       " 'LOG4',\n",
       " 'NV_MAGICCONST',\n",
       " 'RECIP_BPF',\n",
       " 'Random',\n",
       " 'SG_MAGICCONST',\n",
       " 'SystemRandom',\n",
       " 'TWOPI',\n",
       " '_ONE',\n",
       " '_Sequence',\n",
       " '__all__',\n",
       " '__builtins__',\n",
       " '__cached__',\n",
       " '__doc__',\n",
       " '__file__',\n",
       " '__loader__',\n",
       " '__name__',\n",
       " '__package__',\n",
       " '__spec__',\n",
       " '_accumulate',\n",
       " '_acos',\n",
       " '_bisect',\n",
       " '_ceil',\n",
       " '_cos',\n",
       " '_e',\n",
       " '_exp',\n",
       " '_fabs',\n",
       " '_floor',\n",
       " '_index',\n",
       " '_inst',\n",
       " '_isfinite',\n",
       " '_lgamma',\n",
       " '_log',\n",
       " '_log2',\n",
       " '_os',\n",
       " '_pi',\n",
       " '_random',\n",
       " '_repeat',\n",
       " '_sha512',\n",
       " '_sin',\n",
       " '_sqrt',\n",
       " '_test',\n",
       " '_test_generator',\n",
       " '_urandom',\n",
       " '_warn',\n",
       " 'betavariate',\n",
       " 'binomialvariate',\n",
       " 'choice',\n",
       " 'choices',\n",
       " 'expovariate',\n",
       " 'gammavariate',\n",
       " 'gauss',\n",
       " 'getrandbits',\n",
       " 'getstate',\n",
       " 'lognormvariate',\n",
       " 'normalvariate',\n",
       " 'paretovariate',\n",
       " 'randbytes',\n",
       " 'randint',\n",
       " 'random',\n",
       " 'randrange',\n",
       " 'sample',\n",
       " 'seed',\n",
       " 'setstate',\n",
       " 'shuffle',\n",
       " 'triangular',\n",
       " 'uniform',\n",
       " 'vonmisesvariate',\n",
       " 'weibullvariate']"
      ]
     },
     "execution_count": 9,
     "metadata": {},
     "output_type": "execute_result"
    }
   ],
   "source": [
    "import random \n",
    "dir(random)"
   ]
  },
  {
   "cell_type": "code",
   "execution_count": null,
   "id": "5dc43fff-e136-4fbe-8963-4a4fc5850940",
   "metadata": {},
   "outputs": [],
   "source": [
    "# method: randint\n",
    "# qn : what is radiant\n",
    "# package name: random\n",
    "# method name : randiant\n",
    "\n",
    "#module name : random\n",
    "#attribute name : radiant\n"
   ]
  },
  {
   "cell_type": "code",
   "execution_count": 13,
   "id": "bf229304-2a46-4096-ac21-e36910a838d4",
   "metadata": {},
   "outputs": [
    {
     "data": {
      "text/plain": [
       "<bound method Random.randint of <random.Random object at 0x000001F33C42AE00>>"
      ]
     },
     "execution_count": 13,
     "metadata": {},
     "output_type": "execute_result"
    }
   ],
   "source": [
    "# step-1: import package name\n",
    "# step-2: dir(package name)\n",
    "# step-3: packagename.methodname\n",
    "\n",
    "import random\n",
    "dir(random)\n",
    "random.randint"
   ]
  },
  {
   "cell_type": "raw",
   "id": "a3095f50-2a57-4109-9202-f351846b3592",
   "metadata": {},
   "source": []
  },
  {
   "cell_type": "code",
   "execution_count": 17,
   "id": "8e33a6af-c433-4ac7-828b-e4f59cb9bd1d",
   "metadata": {},
   "outputs": [
    {
     "name": "stdout",
     "output_type": "stream",
     "text": [
      "Help on method randint in module random:\n",
      "\n",
      "randint(a, b) method of random.Random instance\n",
      "    Return random integer in range [a, b], including both end points.\n",
      "\n"
     ]
    },
    {
     "data": {
      "text/plain": [
       "8"
      ]
     },
     "execution_count": 17,
     "metadata": {},
     "output_type": "execute_result"
    }
   ],
   "source": [
    "import random\n",
    "dir(random)\n",
    "help(random.randint)\n",
    "random.randint(1,10)"
   ]
  },
  {
   "cell_type": "code",
   "execution_count": 21,
   "id": "34bc8c17-7205-4b68-b9b6-e833f4f0ebb8",
   "metadata": {},
   "outputs": [
    {
     "name": "stdout",
     "output_type": "stream",
     "text": [
      "Help on method randint in module random:\n",
      "\n",
      "randint(a, b) method of random.Random instance\n",
      "    Return random integer in range [a, b], including both end points.\n",
      "\n"
     ]
    },
    {
     "data": {
      "text/plain": [
       "4"
      ]
     },
     "execution_count": 21,
     "metadata": {},
     "output_type": "execute_result"
    }
   ],
   "source": [
    "import random\n",
    "dir(random)\n",
    "help(random.randint)\n",
    "random.randint(1,30)\n"
   ]
  },
  {
   "cell_type": "code",
   "execution_count": 25,
   "id": "fb1e2e55-5dfb-4829-a59a-00516602f52f",
   "metadata": {},
   "outputs": [
    {
     "name": "stdout",
     "output_type": "stream",
     "text": [
      "Help on method randint in module random:\n",
      "\n",
      "randint(a, b) method of random.Random instance\n",
      "    Return random integer in range [a, b], including both end points.\n",
      "\n"
     ]
    },
    {
     "data": {
      "text/plain": [
       "20"
      ]
     },
     "execution_count": 25,
     "metadata": {},
     "output_type": "execute_result"
    }
   ],
   "source": [
    "import random\n",
    "dir(random)\n",
    "help(random.randint)\n",
    "random.randint(20,30)"
   ]
  },
  {
   "cell_type": "code",
   "execution_count": 29,
   "id": "d1093176-76af-4cb0-bd5b-922d066ec6fa",
   "metadata": {},
   "outputs": [
    {
     "name": "stdout",
     "output_type": "stream",
     "text": [
      "Help on built-in function random:\n",
      "\n",
      "random() method of random.Random instance\n",
      "    random() -> x in the interval [0, 1).\n",
      "\n"
     ]
    },
    {
     "data": {
      "text/plain": [
       "0.1271602861250366"
      ]
     },
     "execution_count": 29,
     "metadata": {},
     "output_type": "execute_result"
    }
   ],
   "source": [
    "import random\n",
    "dir(random)\n",
    "help(random.random)\n",
    "random.random()"
   ]
  },
  {
   "cell_type": "raw",
   "id": "c0b22103-f799-4b48-ba49-63b1bd101bbc",
   "metadata": {},
   "source": [
    "import math\n",
    "dir(math)\n",
    "help(math.sqrt)\n",
    "math.sqrt()"
   ]
  },
  {
   "cell_type": "raw",
   "id": "3d07a47b-a983-47f9-9090-0c514ac42519",
   "metadata": {},
   "source": [
    "import math\n",
    "dir(math)\n",
    "help(math.sqrt)\n",
    "math.sqrt()"
   ]
  },
  {
   "cell_type": "code",
   "execution_count": null,
   "id": "8e7c4da8-91f6-4235-8c33-820e77d84d3e",
   "metadata": {},
   "outputs": [],
   "source": []
  },
  {
   "cell_type": "raw",
   "id": "fa36d64c-3961-418d-aa47-5e21ef36affe",
   "metadata": {},
   "source": [
    "import math\n",
    "dir(math)\n",
    "help(math.pow)\n",
    "math.pow()"
   ]
  },
  {
   "cell_type": "code",
   "execution_count": null,
   "id": "10d26874-cb56-419b-a6b3-a792e4823d7c",
   "metadata": {},
   "outputs": [],
   "source": []
  },
  {
   "cell_type": "raw",
   "id": "ca9b74b2-b281-4e42-adfa-ac7e26f7d1cf",
   "metadata": {},
   "source": [
    "import math\n",
    "dir(math)\n",
    "help(math.pow)\n",
    "math.pow()"
   ]
  },
  {
   "cell_type": "code",
   "execution_count": null,
   "id": "a7022b86-6f22-48db-80af-2a2a42ea7d65",
   "metadata": {},
   "outputs": [],
   "source": []
  },
  {
   "cell_type": "raw",
   "id": "ad10629d-3077-48a3-a107-31f69aeaf14c",
   "metadata": {},
   "source": [
    "import math\n",
    "dir(math)\n",
    "help(math.pow)\n",
    "math.pow()"
   ]
  }
 ],
 "metadata": {
  "kernelspec": {
   "display_name": "Python [conda env:base] *",
   "language": "python",
   "name": "conda-base-py"
  },
  "language_info": {
   "codemirror_mode": {
    "name": "ipython",
    "version": 3
   },
   "file_extension": ".py",
   "mimetype": "text/x-python",
   "name": "python",
   "nbconvert_exporter": "python",
   "pygments_lexer": "ipython3",
   "version": "3.12.7"
  }
 },
 "nbformat": 4,
 "nbformat_minor": 5
}

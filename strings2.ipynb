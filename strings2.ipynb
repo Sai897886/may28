{
 "cells": [
  {
   "cell_type": "code",
   "execution_count": null,
   "id": "43aef93c-29e2-4c85-8eb9-f9b2ec5477f1",
   "metadata": {},
   "outputs": [],
   "source": [
    "str1='virat.kohli@rcb.com'\n",
    "str2='rohit.sharma@mi.com'\n",
    "str3='ms.dhoni@csk.com'\n",
    "# first name\n",
    "# second name\n",
    "# company\n",
    "str4='a.b@c.com'\n",
    "#step-1: first extract . index\n",
    "#step-2: extract the @ index\n",
    "#step-3: extract the second . index\n",
    "\n"
   ]
  },
  {
   "cell_type": "code",
   "execution_count": 21,
   "id": "5f487841-acdf-4906-8ead-e895661a62f3",
   "metadata": {},
   "outputs": [
    {
     "name": "stdout",
     "output_type": "stream",
     "text": [
      "virat\n",
      "kohli\n",
      "rcb\n"
     ]
    }
   ],
   "source": [
    "str1='virat.kohli@rcb.com'\n",
    "n=str1.index('.')\n",
    "n1=str1.index('@')\n",
    "print(str1[0:n])\n",
    "print(str1[n+1:n1])\n",
    "n2=str1.index('.',n+1)\n",
    "print(str1[n1+1:n2])"
   ]
  },
  {
   "cell_type": "code",
   "execution_count": 25,
   "id": "48f0d9c3-57ba-4958-9e0c-4c0918f41c6a",
   "metadata": {},
   "outputs": [
    {
     "name": "stdout",
     "output_type": "stream",
     "text": [
      "rohit\n",
      "sharma\n",
      "mi\n"
     ]
    }
   ],
   "source": [
    "str2='rohit.sharma@mi.com'\n",
    "n=str2.index('.')\n",
    "print(str2[0:n])\n",
    "n1=str2.index('@')\n",
    "print(str2[n+1:n1])\n",
    "n2=str2.index('.',n+1)\n",
    "print(str2[n1+1:n2])"
   ]
  },
  {
   "cell_type": "code",
   "execution_count": null,
   "id": "bbac8592-2e44-45f8-9407-5ebf248bc825",
   "metadata": {},
   "outputs": [],
   "source": [
    "def extract(str1):\n",
    "    first_dot=str1.index('.')\n",
    "    second_dot=str1.index('.',first_dot+1)\n",
    "    at_the_rate=str1.index('@')\n",
    "    print(first_dot,second_dot,at_the_rate)\n",
    "    "
   ]
  },
  {
   "cell_type": "code",
   "execution_count": null,
   "id": "bc8d42e1-1bfd-4a0f-81d9-cbf51b8c08c4",
   "metadata": {},
   "outputs": [],
   "source": [
    "split\n",
    "- split is used to covert a string to list of elements\n",
    "-by default it will split based on space "
   ]
  },
  {
   "cell_type": "code",
   "execution_count": 33,
   "id": "703e9f89-8f68-4a92-89e1-4341cf890754",
   "metadata": {},
   "outputs": [
    {
     "data": {
      "text/plain": [
       "['hi', 'how', 'are', 'you']"
      ]
     },
     "execution_count": 33,
     "metadata": {},
     "output_type": "execute_result"
    }
   ],
   "source": [
    "str1='hi how are you'\n",
    "str1.split()\n"
   ]
  },
  {
   "cell_type": "code",
   "execution_count": 31,
   "id": "bee34a43-04c3-4d1f-a23e-56177a3901a9",
   "metadata": {},
   "outputs": [
    {
     "data": {
      "text/plain": [
       "['hi', 'how', 'are', ',', 'you']"
      ]
     },
     "execution_count": 31,
     "metadata": {},
     "output_type": "execute_result"
    }
   ],
   "source": [
    "str2='hi how are , you '\n",
    "str2.split()"
   ]
  },
  {
   "cell_type": "code",
   "execution_count": 35,
   "id": "3ed41f40-5bd5-43be-8287-d19bc8d705df",
   "metadata": {},
   "outputs": [
    {
     "data": {
      "text/plain": [
       "['hi h', 'w are y', 'u']"
      ]
     },
     "execution_count": 35,
     "metadata": {},
     "output_type": "execute_result"
    }
   ],
   "source": [
    "str1='hi how are you'\n",
    "str1.split('o')\n"
   ]
  },
  {
   "cell_type": "code",
   "execution_count": 37,
   "id": "e452741e-5e6f-4f4f-b061-2dcce2776eff",
   "metadata": {},
   "outputs": [
    {
     "data": {
      "text/plain": [
       "['ab', 'defg']"
      ]
     },
     "execution_count": 37,
     "metadata": {},
     "output_type": "execute_result"
    }
   ],
   "source": [
    "str1='abcdefg'\n",
    "str1.split('c')"
   ]
  },
  {
   "cell_type": "code",
   "execution_count": null,
   "id": "c1928b97-6580-4340-96b8-f91c1d501b8e",
   "metadata": {},
   "outputs": [],
   "source": [
    "**join**"
   ]
  },
  {
   "cell_type": "code",
   "execution_count": 39,
   "id": "9653a656-8c8a-4852-bf59-58619d78ab61",
   "metadata": {},
   "outputs": [
    {
     "data": {
      "text/plain": [
       "'hi how are , you'"
      ]
     },
     "execution_count": 39,
     "metadata": {},
     "output_type": "execute_result"
    }
   ],
   "source": [
    "str2='hi how are , you '\n",
    "l=str2.split()\n",
    "l\n",
    "' '.join(l)"
   ]
  },
  {
   "cell_type": "code",
   "execution_count": 41,
   "id": "cbab57d6-ddd1-4442-bee3-175a6ce76a7e",
   "metadata": {},
   "outputs": [
    {
     "data": {
      "text/plain": [
       "'abcdefg'"
      ]
     },
     "execution_count": 41,
     "metadata": {},
     "output_type": "execute_result"
    }
   ],
   "source": [
    "str1='abcdefg'\n",
    "l=str1.split('c')\n",
    "l\n",
    "'c'.join(l)"
   ]
  },
  {
   "cell_type": "code",
   "execution_count": 21,
   "id": "d86ab2b6-68d9-4940-be94-f342bfe11cc2",
   "metadata": {},
   "outputs": [
    {
     "name": "stdout",
     "output_type": "stream",
     "text": [
      "1\n",
      "2\n",
      "3\n",
      "4\n",
      "5\n",
      "6\n"
     ]
    }
   ],
   "source": [
    "str1='the telephone number is 123456'\n",
    "str1.split()\n",
    "for i in str1:\n",
    "    if i.isdigit():\n",
    "        print(i)\n",
    "    "
   ]
  },
  {
   "cell_type": "code",
   "execution_count": null,
   "id": "9360ddce-703b-45dd-a02c-c8d9ddd125f2",
   "metadata": {},
   "outputs": [],
   "source": []
  }
 ],
 "metadata": {
  "kernelspec": {
   "display_name": "Python [conda env:base] *",
   "language": "python",
   "name": "conda-base-py"
  },
  "language_info": {
   "codemirror_mode": {
    "name": "ipython",
    "version": 3
   },
   "file_extension": ".py",
   "mimetype": "text/x-python",
   "name": "python",
   "nbconvert_exporter": "python",
   "pygments_lexer": "ipython3",
   "version": "3.12.7"
  }
 },
 "nbformat": 4,
 "nbformat_minor": 5
}

{
 "cells": [
  {
   "cell_type": "code",
   "execution_count": 5,
   "id": "8808b18b-fbc4-4f5f-8057-4c61c04873a2",
   "metadata": {},
   "outputs": [
    {
     "name": "stdout",
     "output_type": "stream",
     "text": [
      "76:passed students\n",
      "89:passed students\n",
      "53:passed students\n",
      "67:passed students\n",
      "90:passed students\n",
      "82:passed students\n",
      "99:passed students\n"
     ]
    }
   ],
   "source": [
    "marks=[45,76,89,53,67,90,82,49,33,99]\n",
    "for i in marks:\n",
    "    if i>=50:\n",
    "        print(f'{i}:passed students')\n"
   ]
  },
  {
   "cell_type": "code",
   "execution_count": 19,
   "id": "cff697fa-897e-4910-9309-af0ce105c277",
   "metadata": {},
   "outputs": [
    {
     "data": {
      "text/plain": [
       "['76:passed students',\n",
       " '89:passed students',\n",
       " '53:passed students',\n",
       " '67:passed students',\n",
       " '90:passed students',\n",
       " '82:passed students',\n",
       " '99:passed students']"
      ]
     },
     "execution_count": 19,
     "metadata": {},
     "output_type": "execute_result"
    }
   ],
   "source": [
    "[f'{i}:passed students'  for i in marks if i>=50]"
   ]
  },
  {
   "cell_type": "code",
   "execution_count": 33,
   "id": "092398e8-c1c8-4d86-a4f6-9ddc1aba1b34",
   "metadata": {},
   "outputs": [
    {
     "name": "stdout",
     "output_type": "stream",
     "text": [
      "45:Fail\n",
      "76:B grade\n",
      "89:A grade\n",
      "53:C grade\n",
      "67:C grade\n",
      "90:A grade\n",
      "82:B grade\n",
      "49:Fail\n",
      "33:Fail\n",
      "99:A grade\n"
     ]
    }
   ],
   "source": [
    "marks=[45,76,89,53,67,90,82,49,33,99]\n",
    "for i in marks:\n",
    "    if i>=85:\n",
    "        print(f'{i}:A grade')\n",
    "    elif i>=70:\n",
    "        print(f'{i}:B grade')\n",
    "    elif i>=50:\n",
    "        print(f'{i}:C grade')\n",
    "    else:\n",
    "        print(f'{i}:Fail')\n"
   ]
  },
  {
   "cell_type": "code",
   "execution_count": 35,
   "id": "f2b4b9fb-1c8e-412f-b511-0115e289d3ef",
   "metadata": {},
   "outputs": [
    {
     "data": {
      "text/plain": [
       "['45:Fail',\n",
       " '76:B grade',\n",
       " '89:A grade',\n",
       " '53:C grade',\n",
       " '67:C grade',\n",
       " '90:A grade',\n",
       " '82:B grade',\n",
       " '49:Fail',\n",
       " '33:Fail',\n",
       " '99:A grade']"
      ]
     },
     "execution_count": 35,
     "metadata": {},
     "output_type": "execute_result"
    }
   ],
   "source": [
    "[f'{i}:A grade' if i>=85 else f'{i}:B grade' if i>=70 else f'{i}:C grade' if i>=50 else f'{i}:Fail'for i in marks ]"
   ]
  },
  {
   "cell_type": "code",
   "execution_count": 37,
   "id": "61acfa24-9590-4281-b44c-90db8d784de5",
   "metadata": {},
   "outputs": [
    {
     "data": {
      "text/plain": [
       "[50, 54, 38]"
      ]
     },
     "execution_count": 37,
     "metadata": {},
     "output_type": "execute_result"
    }
   ],
   "source": [
    "[i+5 for i in marks if i<50]"
   ]
  },
  {
   "cell_type": "code",
   "execution_count": 39,
   "id": "b140f91e-5014-45eb-8bfe-b6e9c3e54231",
   "metadata": {},
   "outputs": [
    {
     "name": "stdout",
     "output_type": "stream",
     "text": [
      "99\n",
      "90\n",
      "89\n"
     ]
    }
   ],
   "source": [
    "marks=[45,76,89,53,67,90,82,49,33,99]\n",
    "max_val=max(marks)\n",
    "for i in range(3):\n",
    "    max_val=max(marks)\n",
    "    print(max_val)\n",
    "    marks.remove(max_val)"
   ]
  },
  {
   "cell_type": "code",
   "execution_count": 41,
   "id": "ece93143-81ec-460a-9b7e-fc24e11e152f",
   "metadata": {},
   "outputs": [
    {
     "data": {
      "text/plain": [
       "68.3"
      ]
     },
     "execution_count": 41,
     "metadata": {},
     "output_type": "execute_result"
    }
   ],
   "source": [
    "summ=0\n",
    "marks=[45,76,89,53,67,90,82,49,33,99]\n",
    "[summ:=summ+i for i in marks]\n",
    "summ/len(marks)"
   ]
  },
  {
   "cell_type": "markdown",
   "id": "7ce2b95f-d81e-4d85-aeab-90d36101144c",
   "metadata": {},
   "source": [
    "**distance between two points**"
   ]
  },
  {
   "cell_type": "code",
   "execution_count": null,
   "id": "ccd0358d-ccb9-48c1-8aca-e1ec349ba2a5",
   "metadata": {},
   "outputs": [],
   "source": [
    "# find the distance between l2 with all other points from l1\n",
    "# which is the maximum distance give me that\n",
    "l1=[[1,2],[4,5],[7,9]]\n",
    "l2=[10,20]"
   ]
  },
  {
   "cell_type": "code",
   "execution_count": 102,
   "id": "8201e3bd-2b5c-4298-9cb0-48adaab46d8d",
   "metadata": {},
   "outputs": [
    {
     "data": {
      "text/plain": [
       "14.142135623730951"
      ]
     },
     "execution_count": 102,
     "metadata": {},
     "output_type": "execute_result"
    }
   ],
   "source": [
    "import math\n",
    "l1=[10,20]\n",
    "l2=[20,30]\n",
    "d1=l2[0]-l1[0]\n",
    "l1sqrt=math.pow(d1,2)\n",
    "d2=l2[1]-l1[1]\n",
    "l2sqrt=math.pow(d2,2)\n",
    "summ=l1sqrt+l2sqrt\n",
    "math.sqrt(summ)"
   ]
  },
  {
   "cell_type": "code",
   "execution_count": 110,
   "id": "6a7dd238-1ffc-479d-b440-2700add7c636",
   "metadata": {},
   "outputs": [
    {
     "name": "stdout",
     "output_type": "stream",
     "text": [
      "Ramesh age is 20\n",
      "Suresh age is 25\n",
      "Sathish age is 30\n"
     ]
    }
   ],
   "source": [
    "#'Ramesh' age is 20\n",
    "# 'Suresh' age is 25\n",
    "names=['Ramesh','Suresh','Sathish']\n",
    "age=[20,25,30]\n",
    "for i in range(len(names)):\n",
    "    print(f'{names[i]} age is {age[i]}')"
   ]
  },
  {
   "cell_type": "markdown",
   "id": "5079371c-9f7e-45ec-8ba0-3b3388c86d3f",
   "metadata": {},
   "source": [
    "**zip**"
   ]
  },
  {
   "cell_type": "code",
   "execution_count": 115,
   "id": "0a8e2846-3a4f-4ad0-a8b1-7a0b1005f590",
   "metadata": {},
   "outputs": [
    {
     "name": "stdout",
     "output_type": "stream",
     "text": [
      "Ramesh age is 20\n",
      "Suresh age is 25\n",
      "Sathish age is 30\n"
     ]
    }
   ],
   "source": [
    "names=['Ramesh','Suresh','Sathish']\n",
    "age=[20,25,30]\n",
    "for i,j in zip(names,age):\n",
    "    print(f'{i} age is {j}')"
   ]
  },
  {
   "cell_type": "code",
   "execution_count": 117,
   "id": "95faf9ec-d727-4ab4-b173-ff1f3f065e88",
   "metadata": {},
   "outputs": [
    {
     "name": "stdout",
     "output_type": "stream",
     "text": [
      "Ramesh-20\n",
      "Suresh-25\n",
      "Sathish-30\n"
     ]
    }
   ],
   "source": [
    "names=['Ramesh','Suresh','Sathish']\n",
    "age=[20,25,30]\n",
    "for i,j in zip(names,age):\n",
    "    print(f'{i}-{j}')"
   ]
  },
  {
   "cell_type": "markdown",
   "id": "52e06e22-0b76-470d-9f1a-ba04a6ab1136",
   "metadata": {},
   "source": [
    "**dictionary**\n",
    "\n",
    "-In above example names and age both are together\n",
    "- when both are together we can pair them\n",
    "- this can happen using dictionary\n",
    "- dictionary is called as **key-value** pair\n",
    "- it represents with curly braces :**{key:value}**\n",
    "- Ramesh and 20 years both are pair:**{Ramesh:20}**\n",
    "- if the both keys are same it takes the latest value\n",
    "- dictionary doesnot allow duplicates\n",
    "- **list as key fails because list has a mutable behaviour**\n",
    "- **tuple as key works because tuple has **"
   ]
  },
  {
   "cell_type": "code",
   "execution_count": 123,
   "id": "b17c81bb-7c2d-4028-a0e2-efc33e8e2cd2",
   "metadata": {},
   "outputs": [
    {
     "data": {
      "text/plain": [
       "{'Ramesh': 20, 'Suresh': 30, 'Sathish': 40}"
      ]
     },
     "execution_count": 123,
     "metadata": {},
     "output_type": "execute_result"
    }
   ],
   "source": [
    "d1={'Ramesh':20,'Suresh':30,'Sathish':40}\n",
    "d1"
   ]
  },
  {
   "cell_type": "code",
   "execution_count": 133,
   "id": "d596706f-bffb-4f12-af5d-a337deba6e2f",
   "metadata": {},
   "outputs": [
    {
     "data": {
      "text/plain": [
       "{1000: 1000, 11: 11, 12: 19}"
      ]
     },
     "execution_count": 133,
     "metadata": {},
     "output_type": "execute_result"
    }
   ],
   "source": [
    "d2={1000:1000,11:11,12:19}\n",
    "d2"
   ]
  },
  {
   "cell_type": "code",
   "execution_count": 83,
   "id": "50f0d938-c3b1-42ca-9653-8011b551c929",
   "metadata": {},
   "outputs": [
    {
     "data": {
      "text/plain": [
       "[1000, 11, 19]"
      ]
     },
     "execution_count": 83,
     "metadata": {},
     "output_type": "execute_result"
    }
   ],
   "source": [
    "d1={1000:'hi',11:'hello',19:'mrng'}\n",
    "list(d1)"
   ]
  },
  {
   "cell_type": "code",
   "execution_count": 37,
   "id": "7f08a36c-2218-4225-871b-c37c5fb81f8f",
   "metadata": {},
   "outputs": [
    {
     "name": "stdout",
     "output_type": "stream",
     "text": [
      "dict_items([('hlo', 11), ('good', 20), ('morining', 40)])\n"
     ]
    }
   ],
   "source": [
    "d1={'hlo':11,'good':20,'morining':40}\n",
    "print(d1.items())"
   ]
  },
  {
   "cell_type": "code",
   "execution_count": 145,
   "id": "a84ac4a8-f98d-4065-9300-d0af7efb592b",
   "metadata": {},
   "outputs": [
    {
     "data": {
      "text/plain": [
       "{'Ramesh': 40}"
      ]
     },
     "execution_count": 145,
     "metadata": {},
     "output_type": "execute_result"
    }
   ],
   "source": [
    "d1={'Ramesh':20,'Ramesh':40}\n",
    "d1"
   ]
  },
  {
   "cell_type": "code",
   "execution_count": 157,
   "id": "6837c2bb-9344-4492-be15-c7d0b2b09904",
   "metadata": {},
   "outputs": [
    {
     "data": {
      "text/plain": [
       "{True: 'true'}"
      ]
     },
     "execution_count": 157,
     "metadata": {},
     "output_type": "execute_result"
    }
   ],
   "source": [
    "d2={True:'true'}\n",
    "d2"
   ]
  },
  {
   "cell_type": "code",
   "execution_count": 11,
   "id": "766e3fbe-55eb-42b1-b3ab-023920d95307",
   "metadata": {},
   "outputs": [
    {
     "data": {
      "text/plain": [
       "{'name': 'Mohan Sai', 'age': 21, 'city': 'VZM'}"
      ]
     },
     "execution_count": 11,
     "metadata": {},
     "output_type": "execute_result"
    }
   ],
   "source": [
    "d3={'name':'Mohan Sai','age':20,'age':21,'city':'VZM'}\n",
    "d3"
   ]
  },
  {
   "cell_type": "code",
   "execution_count": 13,
   "id": "53d551c9-24c2-47b8-97f4-491270b816e4",
   "metadata": {},
   "outputs": [
    {
     "data": {
      "text/plain": [
       "dict"
      ]
     },
     "execution_count": 13,
     "metadata": {},
     "output_type": "execute_result"
    }
   ],
   "source": [
    "d3={'name':'Mohan Sai','age':20,'age':21,'city':'VZM'}\n",
    "type(d3)"
   ]
  },
  {
   "cell_type": "code",
   "execution_count": 39,
   "id": "cd1df301-46f9-4648-8367-90b34546c4c7",
   "metadata": {},
   "outputs": [
    {
     "data": {
      "text/plain": [
       "{'name': 'Mohan Sai', 'age': 21, 'city': 'vzm'}"
      ]
     },
     "execution_count": 39,
     "metadata": {},
     "output_type": "execute_result"
    }
   ],
   "source": [
    "d3={\"name\":\"Mohan Sai\",\"age\":20,\"city\":\"vzm\",\"age\":21}\n",
    "d3"
   ]
  },
  {
   "cell_type": "code",
   "execution_count": 67,
   "id": "b43f96a3-4771-4c26-a2f4-ed4148a83de0",
   "metadata": {},
   "outputs": [
    {
     "data": {
      "text/plain": [
       "3"
      ]
     },
     "execution_count": 67,
     "metadata": {},
     "output_type": "execute_result"
    }
   ],
   "source": [
    "d3={\"name\":\"Mohan Sai\",\"age\":20,\"city\":\"vzm\",\"age\":21}\n",
    "len(d3)"
   ]
  },
  {
   "cell_type": "code",
   "execution_count": 1,
   "id": "fd9296a7-9a3c-4564-b53f-a9ff51fb59a8",
   "metadata": {},
   "outputs": [
    {
     "data": {
      "text/plain": [
       "{'name': 'Mohan Sai',\n",
       " 'age': 21,\n",
       " 'city': 'vzm',\n",
       " 'Float': 1.5,\n",
       " 'Boolean': True,\n",
       " 'Colours': ['Red', 'Green', 'Blue']}"
      ]
     },
     "execution_count": 1,
     "metadata": {},
     "output_type": "execute_result"
    }
   ],
   "source": [
    "d3={\"name\":\"Mohan Sai\",\"age\":20,\"city\":\"vzm\",\"age\":21,\"Float\":1.5,\"Boolean\":True,\"Colours\":[\"Red\",\"Green\",\"Blue\"]}\n",
    "d3"
   ]
  },
  {
   "cell_type": "code",
   "execution_count": 39,
   "id": "d4105b7c-88c9-420c-bd42-c33e5d515e4e",
   "metadata": {},
   "outputs": [],
   "source": [
    "d1={'apple':20,'banana':30,'cherry':40}\n",
    "d2={'apple':20,'apple':30}\n",
    "d3={20:'apple',30:'banana',50:'cherry'}"
   ]
  },
  {
   "cell_type": "code",
   "execution_count": 55,
   "id": "3089d7c7-85f1-400f-85da-2097af73174d",
   "metadata": {},
   "outputs": [
    {
     "name": "stdout",
     "output_type": "stream",
     "text": [
      "<dict_reversekeyiterator object at 0x000001E2D4906E80>\n",
      "cherry\n",
      "apple\n",
      "['apple', 'banana', 'cherry']\n"
     ]
    }
   ],
   "source": [
    "print(reversed(d1))\n",
    "print(max(d1))\n",
    "print(min(d1))\n",
    "print(sorted(d1))"
   ]
  },
  {
   "cell_type": "code",
   "execution_count": 67,
   "id": "ff0bfe25-5229-44e5-8021-a5eea1c5c37b",
   "metadata": {},
   "outputs": [
    {
     "name": "stdout",
     "output_type": "stream",
     "text": [
      "['apple']\n",
      "apple\n",
      "apple\n",
      "['apple']\n"
     ]
    }
   ],
   "source": [
    "print(list(reversed(d2)))\n",
    "print(max(d2))\n",
    "print(min(d2))\n",
    "print(sorted(d2))"
   ]
  },
  {
   "cell_type": "code",
   "execution_count": 69,
   "id": "e00d1595-681b-445a-9155-77f6c026225f",
   "metadata": {},
   "outputs": [
    {
     "name": "stdout",
     "output_type": "stream",
     "text": [
      "[50, 30, 20]\n",
      "50\n",
      "20\n",
      "[20, 30, 50]\n"
     ]
    }
   ],
   "source": [
    "print(list(reversed(d3)))\n",
    "print(max(d3))\n",
    "print(min(d3))\n",
    "print(sorted(d3))"
   ]
  },
  {
   "cell_type": "code",
   "execution_count": 77,
   "id": "0b380734-bd3e-4591-9eeb-4f4611a40caf",
   "metadata": {},
   "outputs": [
    {
     "name": "stdout",
     "output_type": "stream",
     "text": [
      "apple\n",
      "banana\n",
      "cherry\n"
     ]
    }
   ],
   "source": [
    "d1={'apple':20,'banana':30,'cherry':10}\n",
    "for i in d1:\n",
    "    print(i)"
   ]
  },
  {
   "cell_type": "code",
   "execution_count": 89,
   "id": "64c5cb9b-087d-4f18-80aa-93b5c5e4e87c",
   "metadata": {},
   "outputs": [],
   "source": [
    "d1={'apple':20,'banana':30,'cherry':10}\n",
    "for i in range(0):\n",
    "    print(i)"
   ]
  },
  {
   "cell_type": "markdown",
   "id": "59b79c89-2885-4cbf-8e91-5a90bcd91764",
   "metadata": {},
   "source": [
    "**Key Error**"
   ]
  },
  {
   "cell_type": "code",
   "execution_count": 92,
   "id": "c0571da1-f1ee-4477-875c-732d5de765d3",
   "metadata": {},
   "outputs": [
    {
     "ename": "KeyError",
     "evalue": "0",
     "output_type": "error",
     "traceback": [
      "\u001b[1;31m---------------------------------------------------------------------------\u001b[0m",
      "\u001b[1;31mKeyError\u001b[0m                                  Traceback (most recent call last)",
      "Cell \u001b[1;32mIn[92], line 2\u001b[0m\n\u001b[0;32m      1\u001b[0m d1\u001b[38;5;241m=\u001b[39m{\u001b[38;5;124m'\u001b[39m\u001b[38;5;124mapple\u001b[39m\u001b[38;5;124m'\u001b[39m:\u001b[38;5;241m20\u001b[39m,\u001b[38;5;124m'\u001b[39m\u001b[38;5;124mbanana\u001b[39m\u001b[38;5;124m'\u001b[39m:\u001b[38;5;241m30\u001b[39m,\u001b[38;5;124m'\u001b[39m\u001b[38;5;124mcherry\u001b[39m\u001b[38;5;124m'\u001b[39m:\u001b[38;5;241m10\u001b[39m}\n\u001b[1;32m----> 2\u001b[0m d1[\u001b[38;5;241m0\u001b[39m]\n",
      "\u001b[1;31mKeyError\u001b[0m: 0"
     ]
    }
   ],
   "source": [
    "d1={'apple':20,'banana':30,'cherry':10}\n",
    "d1[0]"
   ]
  },
  {
   "cell_type": "markdown",
   "id": "4b956e05-3437-4a30-a40c-93eb6778dadd",
   "metadata": {},
   "source": [
    "**How to extract the values**\n",
    "- in dictionary we have a concept key:value\n",
    "- keys are very important\n",
    "- in order to get the value we need to take keys help\n"
   ]
  },
  {
   "cell_type": "code",
   "execution_count": 103,
   "id": "c75afdcd-912c-4c2e-97cb-1df5444e67b6",
   "metadata": {},
   "outputs": [
    {
     "data": {
      "text/plain": [
       "10"
      ]
     },
     "execution_count": 103,
     "metadata": {},
     "output_type": "execute_result"
    }
   ],
   "source": [
    "d1={'apple':20,'banana':30,'cherry':10}\n",
    "d1['apple']\n",
    "d1['banana']\n",
    "d1['cherry']"
   ]
  },
  {
   "cell_type": "code",
   "execution_count": 105,
   "id": "92075a06-1a92-45c8-9410-10a79ed24708",
   "metadata": {},
   "outputs": [
    {
     "name": "stdout",
     "output_type": "stream",
     "text": [
      "apple 20\n",
      "banana 30\n",
      "cherry 10\n"
     ]
    }
   ],
   "source": [
    "for i in d1:\n",
    "    print(i,d1[i])"
   ]
  },
  {
   "cell_type": "code",
   "execution_count": 123,
   "id": "ffbc2ba3-d162-4100-bc75-013a52643365",
   "metadata": {},
   "outputs": [
    {
     "name": "stdout",
     "output_type": "stream",
     "text": [
      "Ramesh age is 20\n",
      "Suresh age is 30\n",
      "Sathish age is 35\n"
     ]
    }
   ],
   "source": [
    "names={20:'Ramesh',30:'Suresh',35:'Sathish'}\n",
    "for i in names:\n",
    "    print(f'{names[i]} age is {i}')"
   ]
  },
  {
   "cell_type": "code",
   "execution_count": 133,
   "id": "ce751c6f-1a8e-489c-a042-7f559144f181",
   "metadata": {},
   "outputs": [
    {
     "data": {
      "text/plain": [
       "'cherry'"
      ]
     },
     "execution_count": 133,
     "metadata": {},
     "output_type": "execute_result"
    }
   ],
   "source": [
    "d={'Fruits':['apple','banana','cherry']}\n",
    "d['Fruits'][2]"
   ]
  },
  {
   "cell_type": "code",
   "execution_count": 151,
   "id": "6551d176-151c-44b1-a579-473c92698875",
   "metadata": {},
   "outputs": [
    {
     "data": {
      "text/plain": [
       "50"
      ]
     },
     "execution_count": 151,
     "metadata": {},
     "output_type": "execute_result"
    }
   ],
   "source": [
    "d={'fruits':[{'cost':[50]}]}\n",
    "d['fruits'][0]['cost'][0]"
   ]
  },
  {
   "cell_type": "code",
   "execution_count": 183,
   "id": "5f325fd8-6348-4070-877d-030f2b589ab6",
   "metadata": {},
   "outputs": [
    {
     "data": {
      "text/plain": [
       "40"
      ]
     },
     "execution_count": 183,
     "metadata": {},
     "output_type": "execute_result"
    }
   ],
   "source": [
    "d1={'fruits':['apple'],'cost':[{'1kg':[20,30,40],'2kg':None}]}\n",
    "len(d1['cost'])\n",
    "d1['cost'][0]['1kg'][2]"
   ]
  },
  {
   "cell_type": "code",
   "execution_count": 197,
   "id": "40dbd754-756b-40cd-8f7e-d8adb515f546",
   "metadata": {},
   "outputs": [
    {
     "data": {
      "text/plain": [
       "{'Shambaji'}"
      ]
     },
     "execution_count": 197,
     "metadata": {},
     "output_type": "execute_result"
    }
   ],
   "source": [
    "d1={'Fruites':{'Orange':{'Nagpur':{'MH':{'King':{'Shivaji':{'Shambaji'}}}}}}}\n",
    "len(d1)\n",
    "d1['Fruites']['Orange']['Nagpur']['MH']['King']['Shivaji']"
   ]
  },
  {
   "cell_type": "markdown",
   "id": "0b56be6c-4cd0-44cc-8d08-048eab61144e",
   "metadata": {},
   "source": [
    "**How to create empty dictionary**\n",
    "- now onwards focus on creation of empty list ,strings and dictionary\n",
    "- we will take empty list we use the append operation\n",
    "- we will take empty sting using conactentation\n",
    "- we will take empty dictionary will use key:value pair concept"
   ]
  },
  {
   "cell_type": "code",
   "execution_count": 201,
   "id": "d5fb793c-9b5a-42ad-8ab0-07a37b81a69c",
   "metadata": {},
   "outputs": [
    {
     "data": {
      "text/plain": [
       "[10, 20]"
      ]
     },
     "execution_count": 201,
     "metadata": {},
     "output_type": "execute_result"
    }
   ],
   "source": [
    "l=[]\n",
    "l.append(10)\n",
    "l.append(20)\n",
    "l"
   ]
  },
  {
   "cell_type": "code",
   "execution_count": 203,
   "id": "99e2d590-a43d-4b93-b340-da10e0aa26fd",
   "metadata": {},
   "outputs": [
    {
     "data": {
      "text/plain": [
       "'py'"
      ]
     },
     "execution_count": 203,
     "metadata": {},
     "output_type": "execute_result"
    }
   ],
   "source": [
    "s=''\n",
    "s=s+'p'\n",
    "s=s+'y'\n",
    "s"
   ]
  },
  {
   "cell_type": "code",
   "execution_count": 214,
   "id": "cdf76798-5cd7-4000-ab92-e91051399df7",
   "metadata": {},
   "outputs": [
    {
     "data": {
      "text/plain": [
       "{'ramesh': 20, 'suresh': 30, 'sathish': 40}"
      ]
     },
     "execution_count": 214,
     "metadata": {},
     "output_type": "execute_result"
    }
   ],
   "source": [
    "d={}\n",
    "d['ramesh']=20\n",
    "d['suresh']=30\n",
    "d['sathish']=40\n",
    "d"
   ]
  },
  {
   "cell_type": "code",
   "execution_count": 224,
   "id": "ab527537-d474-4913-ada5-321ae73fc855",
   "metadata": {},
   "outputs": [
    {
     "data": {
      "text/plain": [
       "{'Ramesh': 20, 'Suresh': 25, 'Sathish': 30}"
      ]
     },
     "execution_count": 224,
     "metadata": {},
     "output_type": "execute_result"
    }
   ],
   "source": [
    "names=['Ramesh','Suresh','Sathish']\n",
    "age=[20,25,30]\n",
    "dict={}\n",
    "for i,j in zip(names,age):\n",
    "    dict[i]=j\n",
    "\n",
    "dict"
   ]
  },
  {
   "cell_type": "code",
   "execution_count": 226,
   "id": "fc875258-11dc-46e7-8798-3f93e35f3006",
   "metadata": {},
   "outputs": [
    {
     "data": {
      "text/plain": [
       "{'Sai': 20, 'Manoj': 22, 'Ravi': 20}"
      ]
     },
     "execution_count": 226,
     "metadata": {},
     "output_type": "execute_result"
    }
   ],
   "source": [
    "names=['Sai','Manoj','Ravi']\n",
    "age=[20,22,20]\n",
    "dict={}\n",
    "for i,j in zip(names,age):\n",
    "    dict[i]=j\n",
    "dict"
   ]
  },
  {
   "cell_type": "markdown",
   "id": "da7c0a98-9286-48ff-80c7-2eb984f3cc1f",
   "metadata": {},
   "source": [
    "**Dictionary Comprehension**\n",
    "- for list comprehension we writeen inside the list\n",
    "- "
   ]
  },
  {
   "cell_type": "code",
   "execution_count": 235,
   "id": "3aa440d3-d511-42dc-91a6-ede70e511092",
   "metadata": {},
   "outputs": [
    {
     "data": {
      "text/plain": [
       "{'Sai': 20, 'Manoj': 22, 'Ravi': 20}"
      ]
     },
     "execution_count": 235,
     "metadata": {},
     "output_type": "execute_result"
    }
   ],
   "source": [
    "{i:j for i,j in zip(names,age)}"
   ]
  },
  {
   "cell_type": "markdown",
   "id": "d7905fb9-315a-4d73-b593-2a3af0c87b1c",
   "metadata": {},
   "source": [
    "**Mutable-Immutable**\n",
    "- lists are mutable\n",
    "- dictionary are mutable\n",
    "- strings are immutable\n",
    "- tuples are immutable\n",
    "- in dictionary we can change the value using keys"
   ]
  },
  {
   "cell_type": "code",
   "execution_count": 242,
   "id": "788a67fe-3604-4bd6-9d97-f4c187ecc80a",
   "metadata": {},
   "outputs": [
    {
     "data": {
      "text/plain": [
       "{'Ramesh': 22, 'Suresh': 42, 'Sathish': 46}"
      ]
     },
     "execution_count": 242,
     "metadata": {},
     "output_type": "execute_result"
    }
   ],
   "source": [
    "d1={'Ramesh':20,'Suresh':30,'Sathish':40}\n",
    "d1['Ramesh']=22\n",
    "d1['Suresh']=42\n",
    "d1['Sathish']=46\n",
    "d1"
   ]
  },
  {
   "cell_type": "code",
   "execution_count": 244,
   "id": "f2244cb0-a0ba-459c-a744-8be9828a1786",
   "metadata": {},
   "outputs": [
    {
     "data": {
      "text/plain": [
       "['__class__',\n",
       " '__class_getitem__',\n",
       " '__contains__',\n",
       " '__delattr__',\n",
       " '__delitem__',\n",
       " '__dir__',\n",
       " '__doc__',\n",
       " '__eq__',\n",
       " '__format__',\n",
       " '__ge__',\n",
       " '__getattribute__',\n",
       " '__getitem__',\n",
       " '__getstate__',\n",
       " '__gt__',\n",
       " '__hash__',\n",
       " '__init__',\n",
       " '__init_subclass__',\n",
       " '__ior__',\n",
       " '__iter__',\n",
       " '__le__',\n",
       " '__len__',\n",
       " '__lt__',\n",
       " '__ne__',\n",
       " '__new__',\n",
       " '__or__',\n",
       " '__reduce__',\n",
       " '__reduce_ex__',\n",
       " '__repr__',\n",
       " '__reversed__',\n",
       " '__ror__',\n",
       " '__setattr__',\n",
       " '__setitem__',\n",
       " '__sizeof__',\n",
       " '__str__',\n",
       " '__subclasshook__',\n",
       " 'clear',\n",
       " 'copy',\n",
       " 'fromkeys',\n",
       " 'get',\n",
       " 'items',\n",
       " 'keys',\n",
       " 'pop',\n",
       " 'popitem',\n",
       " 'setdefault',\n",
       " 'update',\n",
       " 'values']"
      ]
     },
     "execution_count": 244,
     "metadata": {},
     "output_type": "execute_result"
    }
   ],
   "source": [
    "dir({})"
   ]
  },
  {
   "cell_type": "code",
   "execution_count": 5,
   "id": "4a76723d-b6d9-40a6-b812-e686134d92a2",
   "metadata": {},
   "outputs": [
    {
     "data": {
      "text/plain": [
       "{}"
      ]
     },
     "execution_count": 5,
     "metadata": {},
     "output_type": "execute_result"
    }
   ],
   "source": [
    "d1={'Ramesh':20,'Suresh':30,'Sathish':40}\n",
    "d1.clear()\n",
    "d1"
   ]
  },
  {
   "cell_type": "code",
   "execution_count": 19,
   "id": "0ab2f4d5-c450-4d57-9709-6ef22029a51e",
   "metadata": {},
   "outputs": [
    {
     "data": {
      "text/plain": [
       "{'Ramesh': 20, 'Suresh': 30, 'Sathish': 40}"
      ]
     },
     "execution_count": 19,
     "metadata": {},
     "output_type": "execute_result"
    }
   ],
   "source": [
    "d1={'Ramesh':20,'Suresh':30,'Sathish':40}\n",
    "s=d1.copy()\n",
    "d1"
   ]
  },
  {
   "cell_type": "code",
   "execution_count": 21,
   "id": "f0f71e5f-1552-4adb-a449-67ab8bcb8032",
   "metadata": {},
   "outputs": [
    {
     "data": {
      "text/plain": [
       "{'Ramesh': 50, 'Suresh': 30, 'Sathish': 40}"
      ]
     },
     "execution_count": 21,
     "metadata": {},
     "output_type": "execute_result"
    }
   ],
   "source": [
    "d1['Ramesh']=50\n",
    "d1"
   ]
  },
  {
   "cell_type": "code",
   "execution_count": 23,
   "id": "5fbf378b-3143-4efe-a8fc-e9c465838f15",
   "metadata": {},
   "outputs": [
    {
     "data": {
      "text/plain": [
       "{'Ramesh': 20, 'Suresh': 30, 'Sathish': 40}"
      ]
     },
     "execution_count": 23,
     "metadata": {},
     "output_type": "execute_result"
    }
   ],
   "source": [
    "s"
   ]
  },
  {
   "cell_type": "code",
   "execution_count": 49,
   "id": "d1997475-f3b6-42da-88e0-8b0e480a0d0d",
   "metadata": {},
   "outputs": [
    {
     "name": "stdout",
     "output_type": "stream",
     "text": [
      "[('Ramesh', 20), ('Suresh', 30), ('Sathish', 40)]\n"
     ]
    }
   ],
   "source": [
    "d1={'Ramesh':20,'Suresh':30,'Sathish':40}\n",
    "print(list((d1.items())))"
   ]
  },
  {
   "cell_type": "code",
   "execution_count": 53,
   "id": "52b2f525-2a97-4f03-b0cd-6daa3aef1026",
   "metadata": {},
   "outputs": [
    {
     "data": {
      "text/plain": [
       "['Ramesh', 'Suresh', 'Sathish']"
      ]
     },
     "execution_count": 53,
     "metadata": {},
     "output_type": "execute_result"
    }
   ],
   "source": [
    "d1={'Ramesh':20,'Suresh':30,'Sathish':40}\n",
    "list(d1.keys())"
   ]
  },
  {
   "cell_type": "code",
   "execution_count": 55,
   "id": "5dda13d9-c2c7-4858-9950-2fc47f48d42f",
   "metadata": {},
   "outputs": [
    {
     "data": {
      "text/plain": [
       "[20, 30, 40]"
      ]
     },
     "execution_count": 55,
     "metadata": {},
     "output_type": "execute_result"
    }
   ],
   "source": [
    "d1={'Ramesh':20,'Suresh':30,'Sathish':40}\n",
    "list(d1.values())"
   ]
  },
  {
   "cell_type": "code",
   "execution_count": 63,
   "id": "d979f752-8a02-44a6-8891-846ecdfe2e0c",
   "metadata": {},
   "outputs": [
    {
     "data": {
      "text/plain": [
       "{'Suresh': 30, 'Sathish': 40}"
      ]
     },
     "execution_count": 63,
     "metadata": {},
     "output_type": "execute_result"
    }
   ],
   "source": [
    "d1={'Ramesh':20,'Suresh':30,'Sathish':40}\n",
    "del d1['Ramesh']\n",
    "d1"
   ]
  },
  {
   "cell_type": "code",
   "execution_count": 69,
   "id": "bb95c457-8d22-44ce-888c-1cd0a66b61de",
   "metadata": {},
   "outputs": [
    {
     "data": {
      "text/plain": [
       "{'Suresh': 30, 'Sathish': 40}"
      ]
     },
     "execution_count": 69,
     "metadata": {},
     "output_type": "execute_result"
    }
   ],
   "source": [
    "d1={'Ramesh':20,'Suresh':30,'Sathish':40}\n",
    "d1.pop('Ramesh')\n",
    "d1"
   ]
  },
  {
   "cell_type": "code",
   "execution_count": 75,
   "id": "8a2d251b-22d6-4832-a35d-54a0a2d73d10",
   "metadata": {},
   "outputs": [
    {
     "data": {
      "text/plain": [
       "'Mohan Sai'"
      ]
     },
     "execution_count": 75,
     "metadata": {},
     "output_type": "execute_result"
    }
   ],
   "source": [
    "d3={\"name\":\"Mohan Sai\",\"age\":20,\"city\":\"vzm\",\"age\":21,\"Float\":1.5,\"Boolean\":True,\"Colours\":[\"Red\",\"Green\",\"Blue\"]}\n",
    "d3['name']"
   ]
  },
  {
   "cell_type": "markdown",
   "id": "4afb95ff-3ed9-45cf-9972-88a362370fd9",
   "metadata": {},
   "source": [
    "**Sets**"
   ]
  },
  {
   "cell_type": "code",
   "execution_count": 91,
   "id": "21a2c0a9-7c11-42e6-8ab9-deea23ed4e5a",
   "metadata": {},
   "outputs": [
    {
     "name": "stdout",
     "output_type": "stream",
     "text": [
      "{'VAIBHAV', 'TUSHAR', 'SAI'}\n"
     ]
    }
   ],
   "source": [
    "a={\"SAI\",\"VAIBHAV\",\"TUSHAR\"}\n",
    "print(a)"
   ]
  },
  {
   "cell_type": "code",
   "execution_count": 93,
   "id": "b02b2d5d-f9f0-4700-b0a2-0400069cd8d2",
   "metadata": {},
   "outputs": [
    {
     "data": {
      "text/plain": [
       "['__and__',\n",
       " '__class__',\n",
       " '__class_getitem__',\n",
       " '__contains__',\n",
       " '__delattr__',\n",
       " '__dir__',\n",
       " '__doc__',\n",
       " '__eq__',\n",
       " '__format__',\n",
       " '__ge__',\n",
       " '__getattribute__',\n",
       " '__getstate__',\n",
       " '__gt__',\n",
       " '__hash__',\n",
       " '__iand__',\n",
       " '__init__',\n",
       " '__init_subclass__',\n",
       " '__ior__',\n",
       " '__isub__',\n",
       " '__iter__',\n",
       " '__ixor__',\n",
       " '__le__',\n",
       " '__len__',\n",
       " '__lt__',\n",
       " '__ne__',\n",
       " '__new__',\n",
       " '__or__',\n",
       " '__rand__',\n",
       " '__reduce__',\n",
       " '__reduce_ex__',\n",
       " '__repr__',\n",
       " '__ror__',\n",
       " '__rsub__',\n",
       " '__rxor__',\n",
       " '__setattr__',\n",
       " '__sizeof__',\n",
       " '__str__',\n",
       " '__sub__',\n",
       " '__subclasshook__',\n",
       " '__xor__',\n",
       " 'add',\n",
       " 'clear',\n",
       " 'copy',\n",
       " 'difference',\n",
       " 'difference_update',\n",
       " 'discard',\n",
       " 'intersection',\n",
       " 'intersection_update',\n",
       " 'isdisjoint',\n",
       " 'issubset',\n",
       " 'issuperset',\n",
       " 'pop',\n",
       " 'remove',\n",
       " 'symmetric_difference',\n",
       " 'symmetric_difference_update',\n",
       " 'union',\n",
       " 'update']"
      ]
     },
     "execution_count": 93,
     "metadata": {},
     "output_type": "execute_result"
    }
   ],
   "source": [
    "dir(set)"
   ]
  },
  {
   "cell_type": "code",
   "execution_count": 99,
   "id": "f799bed0-4cdb-4b73-971f-08e504a072b4",
   "metadata": {},
   "outputs": [
    {
     "data": {
      "text/plain": [
       "{'SAI', 'TUSHAR', 'VAIBHAV'}"
      ]
     },
     "execution_count": 99,
     "metadata": {},
     "output_type": "execute_result"
    }
   ],
   "source": [
    "a={\"SAI\",\"VAIBHAV\",\"TUSHAR\"}\n",
    "a.update()\n",
    "a"
   ]
  },
  {
   "cell_type": "code",
   "execution_count": 113,
   "id": "cdee97bd-7b64-447f-855a-77934141e171",
   "metadata": {},
   "outputs": [
    {
     "data": {
      "text/plain": [
       "set()"
      ]
     },
     "execution_count": 113,
     "metadata": {},
     "output_type": "execute_result"
    }
   ],
   "source": [
    "a={\"SAI\",\"VAIBHAV\",\"TUSHAR\"}\n",
    "a.clear()\n",
    "a"
   ]
  },
  {
   "cell_type": "code",
   "execution_count": 111,
   "id": "1fca78f9-fc0a-444e-96cf-ae2fd2dcfd06",
   "metadata": {},
   "outputs": [
    {
     "data": {
      "text/plain": [
       "{'SAI', 'VAIBHAV'}"
      ]
     },
     "execution_count": 111,
     "metadata": {},
     "output_type": "execute_result"
    }
   ],
   "source": [
    "a={\"SAI\",\"VAIBHAV\",\"TUSHAR\"}\n",
    "a.remove(\"TUSHAR\")\n",
    "a"
   ]
  },
  {
   "cell_type": "code",
   "execution_count": 122,
   "id": "821d2a83-0750-44e2-88d3-916845cfc063",
   "metadata": {},
   "outputs": [
    {
     "data": {
      "text/plain": [
       "{'SAI', 'TUSHAR'}"
      ]
     },
     "execution_count": 122,
     "metadata": {},
     "output_type": "execute_result"
    }
   ],
   "source": [
    "a={\"SAI\",\"VAIBHAV\",\"TUSHAR\"}\n",
    "a.pop()\n",
    "a"
   ]
  },
  {
   "cell_type": "code",
   "execution_count": 124,
   "id": "9634639c-135d-4543-aafc-729641a67d2d",
   "metadata": {},
   "outputs": [
    {
     "data": {
      "text/plain": [
       "{'SAI', 'TUSHAR'}"
      ]
     },
     "execution_count": 124,
     "metadata": {},
     "output_type": "execute_result"
    }
   ],
   "source": [
    "a={\"SAI\",\"VAIBHAV\",\"TUSHAR\"}\n",
    "a.pop()\n",
    "a"
   ]
  },
  {
   "cell_type": "code",
   "execution_count": 130,
   "id": "7343d715-7f0a-479c-ae21-2b242c49e086",
   "metadata": {},
   "outputs": [
    {
     "data": {
      "text/plain": [
       "{'SAI', 'TUSHAR', 'VAIBHAV'}"
      ]
     },
     "execution_count": 130,
     "metadata": {},
     "output_type": "execute_result"
    }
   ],
   "source": [
    "a={\"SAI\",\"VAIBHAV\",\"TUSHAR\"}\n",
    "a.union()"
   ]
  },
  {
   "cell_type": "markdown",
   "id": "0d8a3891-a1a0-4b58-89c2-7fa08380c71b",
   "metadata": {},
   "source": [
    "**Convert dictionary to list**\n",
    "- in order to convert dictionary to list\n",
    "- first we need to seperate keys and values\n",
    "- then apply list type casting"
   ]
  },
  {
   "cell_type": "code",
   "execution_count": 3,
   "id": "42623f94-cae3-4d21-8684-f4bc980ab3e6",
   "metadata": {},
   "outputs": [
    {
     "data": {
      "text/plain": [
       "['Ramesh', 'Suresh', 'Sathish']"
      ]
     },
     "execution_count": 3,
     "metadata": {},
     "output_type": "execute_result"
    }
   ],
   "source": [
    "d1={'Ramesh':20,'Suresh':30,'Sathish':40}\n",
    "list(d1.keys())"
   ]
  },
  {
   "cell_type": "markdown",
   "id": "93e6bbe3-05d8-481e-96c1-68971f63539f",
   "metadata": {},
   "source": [
    "list === string - using join\n",
    "string === list - using split\n",
    "list === dict - using zip\n",
    "dict === list - typecasting"
   ]
  },
  {
   "cell_type": "code",
   "execution_count": 8,
   "id": "3732c0a5-4b51-4331-ad97-345648bacd8e",
   "metadata": {},
   "outputs": [
    {
     "data": {
      "text/plain": [
       "[20, 30, 40]"
      ]
     },
     "execution_count": 8,
     "metadata": {},
     "output_type": "execute_result"
    }
   ],
   "source": [
    "d1={'Ramesh':20,'Suresh':30,'Sathish':40}\n",
    "list(d1.values())"
   ]
  },
  {
   "cell_type": "code",
   "execution_count": 10,
   "id": "3a1c97b5-0c91-4771-a783-44b8826826d4",
   "metadata": {},
   "outputs": [
    {
     "data": {
      "text/plain": [
       "[('Ramesh', 20), ('Suresh', 30), ('Sathish', 40)]"
      ]
     },
     "execution_count": 10,
     "metadata": {},
     "output_type": "execute_result"
    }
   ],
   "source": [
    "d1={'Ramesh':20,'Suresh':30,'Sathish':40}\n",
    "list(d1.items())"
   ]
  },
  {
   "cell_type": "code",
   "execution_count": 40,
   "id": "0565724d-3ec4-4176-9164-51e335d8156e",
   "metadata": {},
   "outputs": [
    {
     "data": {
      "text/plain": [
       "{'fname': ['virat', 'rohit', 'ms'],\n",
       " 'sname': ['kohli', 'sharma', 'dhoni'],\n",
       " 'cname': ['rcb', 'mi', 'csk']}"
      ]
     },
     "execution_count": 40,
     "metadata": {},
     "output_type": "execute_result"
    }
   ],
   "source": [
    "input='virat.kohli@rcb.com;rohit.sharma@mi.com;ms.dhoni@csk.com'\n",
    "l1=input.split(';')\n",
    "fname,sname,cname=[],[],[]\n",
    "d={}\n",
    "for i in l1:\n",
    "    first_dot=i.index('.')\n",
    "    second_dot=i.index('.',first_dot+1)\n",
    "    at_the_rate=i.index('@')\n",
    "    fname.append(i[:first_dot])\n",
    "    sname.append(i[first_dot+1:at_the_rate])\n",
    "    cname.append(i[at_the_rate+1:second_dot])\n",
    "\n",
    "d['fname']=fname\n",
    "d['sname']=sname\n",
    "d['cname']=cname\n",
    "d"
   ]
  },
  {
   "cell_type": "code",
   "execution_count": 52,
   "id": "3a75273d-23d7-46bc-b908-2b008a3bbf6f",
   "metadata": {},
   "outputs": [
    {
     "data": {
      "text/plain": [
       "20"
      ]
     },
     "execution_count": 52,
     "metadata": {},
     "output_type": "execute_result"
    }
   ],
   "source": [
    "d1={'Ramesh':20,'Suresh':30,'Sathish':40}\n",
    "d1.pop('Ramesh')"
   ]
  },
  {
   "cell_type": "code",
   "execution_count": 46,
   "id": "4eba2ba2-f6f0-448e-9fa1-dc6cf61ef270",
   "metadata": {},
   "outputs": [
    {
     "data": {
      "text/plain": [
       "{'Ramesh': 20, 'Suresh': 30}"
      ]
     },
     "execution_count": 46,
     "metadata": {},
     "output_type": "execute_result"
    }
   ],
   "source": [
    "d1={'Ramesh':20,'Suresh':30,'Sathish':40}\n",
    "d1.popitem()\n",
    "d1"
   ]
  },
  {
   "cell_type": "markdown",
   "id": "cda2e4e5-15cf-4e9d-ac94-f28ba24280d4",
   "metadata": {},
   "source": [
    "- **pop** in dictionary, similar to analog **remove** in list\n",
    "\n",
    "- **pop-item** in dictionary, similar to analog **pop** in list"
   ]
  },
  {
   "cell_type": "code",
   "execution_count": 58,
   "id": "727b762d-7f5b-4f5d-9022-76957d268f2d",
   "metadata": {},
   "outputs": [
    {
     "data": {
      "text/plain": [
       "20"
      ]
     },
     "execution_count": 58,
     "metadata": {},
     "output_type": "execute_result"
    }
   ],
   "source": [
    "d1={'Ramesh':20,'Suresh':30,'Sathish':40}\n",
    "d1.get('Ramesh')"
   ]
  },
  {
   "cell_type": "code",
   "execution_count": 62,
   "id": "ea962df6-d566-446e-898f-4118c4c23934",
   "metadata": {},
   "outputs": [
    {
     "data": {
      "text/plain": [
       "20"
      ]
     },
     "execution_count": 62,
     "metadata": {},
     "output_type": "execute_result"
    }
   ],
   "source": [
    "d1['Ramesh'] # key as an index"
   ]
  },
  {
   "cell_type": "code",
   "execution_count": 76,
   "id": "f43931a4-ff5c-458c-a3dc-80537cd84e54",
   "metadata": {},
   "outputs": [
    {
     "data": {
      "text/plain": [
       "{'Ramesh': 20, 'Suresh': 30, 'Sathish': 40, 'Sai': 40, 'Sira': 50}"
      ]
     },
     "execution_count": 76,
     "metadata": {},
     "output_type": "execute_result"
    }
   ],
   "source": [
    "d1={'Ramesh':20,'Suresh':30,'Sathish':40}\n",
    "d2={'Ramesh':20,'Sai':40,'Sira':50}\n",
    "d1.update(d2)\n",
    "d1"
   ]
  },
  {
   "cell_type": "code",
   "execution_count": 82,
   "id": "61ab011e-729a-4b29-9a10-ca6124344d77",
   "metadata": {},
   "outputs": [
    {
     "data": {
      "text/plain": [
       "['Ramesh', 'Suresh', 'Sathish', 'Ramesh', 'Sai', 'Sira']"
      ]
     },
     "execution_count": 82,
     "metadata": {},
     "output_type": "execute_result"
    }
   ],
   "source": [
    "l1=['Ramesh','Suresh','Sathish']\n",
    "l2=['Ramesh','Sai','Sira']\n",
    "l1.extend(l2)\n",
    "l1"
   ]
  },
  {
   "cell_type": "markdown",
   "id": "fd931333-7b4c-4ea3-9e17-78004180d1b3",
   "metadata": {},
   "source": [
    "**setdefault**\n",
    "- suppose an already exists dictionary available\n",
    "- we can update the dictionary with the new key:value pair"
   ]
  },
  {
   "cell_type": "code",
   "execution_count": 89,
   "id": "52cca4a2-47f0-4cab-bf33-c3a4964ac0a9",
   "metadata": {},
   "outputs": [
    {
     "data": {
      "text/plain": [
       "{'Ramesh': 20, 'Suresh': 30, 'Sathish': 40, 'Sai': 46, 'Chandu': None}"
      ]
     },
     "execution_count": 89,
     "metadata": {},
     "output_type": "execute_result"
    }
   ],
   "source": [
    "d1={'Ramesh':20,'Suresh':30,'Sathish':40}\n",
    "d1.setdefault('Sai',46)\n",
    "d1.setdefault('Chandu')\n",
    "d1"
   ]
  },
  {
   "cell_type": "markdown",
   "id": "21fe5747-b9e8-4c54-83c2-b88c60902895",
   "metadata": {},
   "source": [
    "- **setdefault** in dictionary,similar analog **list append**\n",
    "- always remember dictionary is a key:value pair concept\n",
    "- it never involves index operations\n",
    "- thats why we dont have any index or find methods\n",
    "- we have get method to extract values using key"
   ]
  },
  {
   "cell_type": "markdown",
   "id": "bf32a59c-5193-480c-a01a-db52ca7b59a6",
   "metadata": {},
   "source": [
    "**fromkeys**\n",
    "- create a dictionary with different keys bit same value\n",
    "- fromkeys will take an argument **iterable**\n",
    "- try to provide an iterator i.e string,tuple"
   ]
  },
  {
   "cell_type": "code",
   "execution_count": 100,
   "id": "94b9e25a-df57-428e-aa8b-cd009e1dca21",
   "metadata": {},
   "outputs": [
    {
     "data": {
      "text/plain": [
       "{'Ramesh': '20', 'Suresh': '20', 'Sathish': '20'}"
      ]
     },
     "execution_count": 100,
     "metadata": {},
     "output_type": "execute_result"
    }
   ],
   "source": [
    "d={}\n",
    "names=['Ramesh','Suresh','Sathish']\n",
    "d.fromkeys(names,'20')"
   ]
  },
  {
   "cell_type": "code",
   "execution_count": 102,
   "id": "1409b391-f0c0-4c3e-9456-cc5d91beaf73",
   "metadata": {},
   "outputs": [
    {
     "data": {
      "text/plain": [
       "{'Ramesh': 'Nareshit', 'Suresh': 'Nareshit', 'Sathish': 'Nareshit'}"
      ]
     },
     "execution_count": 102,
     "metadata": {},
     "output_type": "execute_result"
    }
   ],
   "source": [
    "d={}\n",
    "names=['Ramesh','Suresh','Sathish']\n",
    "d.fromkeys(names,'Nareshit')"
   ]
  },
  {
   "cell_type": "code",
   "execution_count": 108,
   "id": "e64fb07e-87a9-4598-bcc0-17d12ca6b5a8",
   "metadata": {},
   "outputs": [
    {
     "data": {
      "text/plain": [
       "{'p': 123456, 'y': 123456, 't': 123456, 'h': 123456, 'o': 123456, 'n': 123456}"
      ]
     },
     "execution_count": 108,
     "metadata": {},
     "output_type": "execute_result"
    }
   ],
   "source": [
    "d={}\n",
    "d.fromkeys('python',123456)"
   ]
  },
  {
   "cell_type": "code",
   "execution_count": null,
   "id": "b468de0d-1d52-49a3-80e5-ebb42497dc6f",
   "metadata": {},
   "outputs": [],
   "source": []
  }
 ],
 "metadata": {
  "kernelspec": {
   "display_name": "Python [conda env:base] *",
   "language": "python",
   "name": "conda-base-py"
  },
  "language_info": {
   "codemirror_mode": {
    "name": "ipython",
    "version": 3
   },
   "file_extension": ".py",
   "mimetype": "text/x-python",
   "name": "python",
   "nbconvert_exporter": "python",
   "pygments_lexer": "ipython3",
   "version": "3.12.7"
  }
 },
 "nbformat": 4,
 "nbformat_minor": 5
}

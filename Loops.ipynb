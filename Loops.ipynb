{
 "cells": [
  {
   "cell_type": "code",
   "execution_count": null,
   "id": "ac83e3ac-44e8-4ba1-8fef-8997683cc546",
   "metadata": {},
   "outputs": [],
   "source": [
    "**Loops**\n",
    "-Loops are used to iterate the code multiple times\n",
    "-functions are used to reuse the code block\n",
    "-the code block can be repeated multiple times\n",
    "-whenever you are doing same task multiple times then think about loop\n",
    "-We have two loops \n",
    "   - for loop \n",
    "   - while loop\n",
    "-any loop we need three things \n",
    " - Initilization\n",
    " - increment or decrement\n",
    " - condition to stop\n"
   ]
  },
  {
   "cell_type": "code",
   "execution_count": null,
   "id": "f4eef38e-00b7-47d6-8576-5fa4d5bbc6c2",
   "metadata": {},
   "outputs": [],
   "source": [
    "For loop"
   ]
  },
  {
   "cell_type": "code",
   "execution_count": 1,
   "id": "8dc9001b-ca9e-4b26-9d33-781bba881fd2",
   "metadata": {},
   "outputs": [
    {
     "name": "stdout",
     "output_type": "stream",
     "text": [
      "0\n",
      "1\n",
      "2\n",
      "3\n",
      "4\n"
     ]
    }
   ],
   "source": [
    "for i in range(5):\n",
    "    print(i)"
   ]
  },
  {
   "cell_type": "code",
   "execution_count": 3,
   "id": "b04ae8ec-64bb-406a-afdb-7a13a35b7e2c",
   "metadata": {},
   "outputs": [
    {
     "name": "stdout",
     "output_type": "stream",
     "text": [
      "0\n",
      "1\n"
     ]
    }
   ],
   "source": [
    "for sai in range(2):\n",
    "    print(sai)"
   ]
  },
  {
   "cell_type": "code",
   "execution_count": 21,
   "id": "a12fc624-2422-46b0-95af-51311ddfe019",
   "metadata": {},
   "outputs": [
    {
     "name": "stdout",
     "output_type": "stream",
     "text": [
      "0  1  2  "
     ]
    }
   ],
   "source": [
    "for i in range(3):\n",
    "    print(i,end='  ') # horizantal:-(end='')"
   ]
  },
  {
   "cell_type": "code",
   "execution_count": 29,
   "id": "9d45f684-6323-4d73-9956-cbac66c01647",
   "metadata": {},
   "outputs": [
    {
     "name": "stdout",
     "output_type": "stream",
     "text": [
      "good morning\n",
      "good morning\n",
      "good morning\n",
      "good morning\n"
     ]
    }
   ],
   "source": [
    "for i in range(4):\n",
    "    print('good morning')"
   ]
  },
  {
   "cell_type": "code",
   "execution_count": null,
   "id": "9dc0eee6-6f39-4bc2-bf6b-6de634eb1d1c",
   "metadata": {},
   "outputs": [],
   "source": [
    "**Case-2**\n"
   ]
  },
  {
   "cell_type": "code",
   "execution_count": 31,
   "id": "7a30ebb8-3fec-41e2-9971-dcbd7e9cbf39",
   "metadata": {},
   "outputs": [
    {
     "name": "stdout",
     "output_type": "stream",
     "text": [
      "20\n",
      "21\n",
      "22\n",
      "23\n",
      "24\n",
      "25\n",
      "26\n",
      "27\n",
      "28\n",
      "29\n"
     ]
    }
   ],
   "source": [
    "for i in range(20,30):\n",
    "    print(i)"
   ]
  },
  {
   "cell_type": "code",
   "execution_count": 35,
   "id": "f1eb6431-3156-48a0-bc30-8fd214fba260",
   "metadata": {},
   "outputs": [
    {
     "name": "stdout",
     "output_type": "stream",
     "text": [
      "20 21 22 23 24 25 26 27 28 29 "
     ]
    }
   ],
   "source": [
    "for i in range(20,30):\n",
    "    print(i,end=' ')"
   ]
  },
  {
   "cell_type": "code",
   "execution_count": 41,
   "id": "9ad89bec-0b52-417b-8008-036d6dd94344",
   "metadata": {},
   "outputs": [
    {
     "name": "stdout",
     "output_type": "stream",
     "text": [
      "the square of 1 is:1\n",
      "the square of 2 is:4\n",
      "the square of 3 is:9\n",
      "the square of 4 is:16\n",
      "the square of 5 is:25\n"
     ]
    }
   ],
   "source": [
    "for i in range(1,6):\n",
    "    print(f\"the square of {i} is:{i*i}\")"
   ]
  },
  {
   "cell_type": "code",
   "execution_count": 3,
   "id": "d5a441e1-f6e5-42b6-865e-4de059bc74c8",
   "metadata": {},
   "outputs": [
    {
     "name": "stdout",
     "output_type": "stream",
     "text": [
      "3 7 11 15 19 "
     ]
    }
   ],
   "source": [
    "for i in range(3,20,4):\n",
    "    print(i,end=' ')"
   ]
  },
  {
   "cell_type": "code",
   "execution_count": 7,
   "id": "bcc697a1-c928-4156-8233-04d636a7af3d",
   "metadata": {},
   "outputs": [],
   "source": [
    "for i in range(3,20,-2):\n",
    "    print(i,end=' ')\n",
    "# no answer"
   ]
  },
  {
   "cell_type": "code",
   "execution_count": 11,
   "id": "3eb40ca2-889a-4745-b8c7-8690854e7188",
   "metadata": {},
   "outputs": [
    {
     "name": "stdout",
     "output_type": "stream",
     "text": [
      "3  1  -1  -3  -5  -7  -9  -11  -13  -15  -17  -19  "
     ]
    }
   ],
   "source": [
    "for i in range(3,-20,-2):\n",
    "    print(i,end='  ')"
   ]
  },
  {
   "cell_type": "code",
   "execution_count": 17,
   "id": "a111fefb-7c3c-4190-9845-23d64f6a0eee",
   "metadata": {},
   "outputs": [
    {
     "name": "stdout",
     "output_type": "stream",
     "text": [
      "10 15 20 25 30 35 40 45 "
     ]
    }
   ],
   "source": [
    "for i in range(10,50,5):\n",
    "    print(i,end=' ')"
   ]
  },
  {
   "cell_type": "code",
   "execution_count": null,
   "id": "ca106198-57a8-4a28-b726-721657177d17",
   "metadata": {},
   "outputs": [],
   "source": []
  }
 ],
 "metadata": {
  "kernelspec": {
   "display_name": "Python [conda env:base] *",
   "language": "python",
   "name": "conda-base-py"
  },
  "language_info": {
   "codemirror_mode": {
    "name": "ipython",
    "version": 3
   },
   "file_extension": ".py",
   "mimetype": "text/x-python",
   "name": "python",
   "nbconvert_exporter": "python",
   "pygments_lexer": "ipython3",
   "version": "3.12.7"
  }
 },
 "nbformat": 4,
 "nbformat_minor": 5
}

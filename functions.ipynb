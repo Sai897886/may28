{
 "cells": [
  {
   "cell_type": "code",
   "execution_count": null,
   "id": "1e0f8199-2c0f-4aaf-b684-e69b72b804d5",
   "metadata": {},
   "outputs": [],
   "source": [
    "## Function\n",
    "\n",
    "-function also called as method\n",
    "-function without arguments is one concept\n",
    "-function with arguments\n",
    "-function with default arguments\n",
    "-function with return \n",
    "-function with keywords arguments(kwargs)\n",
    "-function with global and local variable\n",
    "function in function\n",
    "-operation and task \n",
    "-block of code which executes on a call\n",
    "-reduce redundency\n",
    "-reuse of the code"
   ]
  },
  {
   "cell_type": "code",
   "execution_count": 1,
   "id": "bab3959e-ac9f-4604-b76b-2ce010b37a6f",
   "metadata": {},
   "outputs": [
    {
     "name": "stdin",
     "output_type": "stream",
     "text": [
      "enter the income 80000\n",
      "enter the tax percentage 3\n"
     ]
    },
    {
     "name": "stdout",
     "output_type": "stream",
     "text": [
      "2400.0\n"
     ]
    }
   ],
   "source": [
    "income=eval(input('enter the income'))\n",
    "tax=eval(input('enter the tax percentage'))\n",
    "tax_pay=income*tax/100\n",
    "print(tax_pay)"
   ]
  },
  {
   "cell_type": "code",
   "execution_count": null,
   "id": "a5268bb5-3175-4c1b-8376-93ec0c25fbfc",
   "metadata": {},
   "outputs": [],
   "source": [
    "**function without arguments**"
   ]
  },
  {
   "cell_type": "code",
   "execution_count": null,
   "id": "9e9b1c9a-0766-4023-a3d7-5242a43e3c57",
   "metadata": {},
   "outputs": [],
   "source": [
    "#syntax\n",
    "def <function name>():\n",
    "    <write your lines here>"
   ]
  },
  {
   "cell_type": "code",
   "execution_count": 42,
   "id": "8d7de1cc-18fc-47d2-9206-39446a0a249b",
   "metadata": {},
   "outputs": [],
   "source": [
    "def addition():\n",
    "    n1=eval(input('enter the number'))\n",
    "    n2=eval(input('enter the number'))\n",
    "    add=n1+n2\n",
    "    print(f'the addition of {n1} and {n2} is: {add}')"
   ]
  },
  {
   "cell_type": "code",
   "execution_count": 44,
   "id": "5c484162-9502-4fef-aeb9-40c5183081ad",
   "metadata": {},
   "outputs": [],
   "source": [
    "def subtration():\n",
    "    n1=eval(input('enter the number'))\n",
    "    n2=eval(input('enter the number'))\n",
    "    sub=n1-n2\n",
    "    print(f'the subtration of {n1} and {n2} is: {sub}')"
   ]
  },
  {
   "cell_type": "code",
   "execution_count": 46,
   "id": "a1230dc3-69d8-4571-a852-618e0766ffef",
   "metadata": {},
   "outputs": [
    {
     "name": "stdin",
     "output_type": "stream",
     "text": [
      "enter the number 10\n",
      "enter the number 10\n"
     ]
    },
    {
     "name": "stdout",
     "output_type": "stream",
     "text": [
      "the subtration of 10 and 10 is: 0\n"
     ]
    }
   ],
   "source": [
    "subtration()"
   ]
  },
  {
   "cell_type": "code",
   "execution_count": null,
   "id": "448e7af8-e840-4446-abb9-a51379b46dc6",
   "metadata": {},
   "outputs": [],
   "source": [
    "-While define the function we doesnot know whether the error is there or not\n",
    "-For that we need to call the function"
   ]
  },
  {
   "cell_type": "code",
   "execution_count": 66,
   "id": "3b8cee68-767f-4930-8d61-71d3e37e975d",
   "metadata": {},
   "outputs": [],
   "source": [
    "try:\n",
    "    def subtration2():\n",
    "        n1=eval(input('enter the number'))\n",
    "        n2=eval(input('enter the number'))\n",
    "        sub2=n1-n2\n",
    "        print(f'the subtration of {n1} and {n2} is: {sub2}')\n",
    "except Exception as e:\n",
    "    print(e)"
   ]
  },
  {
   "cell_type": "code",
   "execution_count": 68,
   "id": "c6666905-7fb2-4def-8de9-677354b13212",
   "metadata": {},
   "outputs": [
    {
     "name": "stdin",
     "output_type": "stream",
     "text": [
      "enter the number 10\n",
      "enter the number 8\n"
     ]
    },
    {
     "name": "stdout",
     "output_type": "stream",
     "text": [
      "the subtration of 10 and 8 is: 2\n"
     ]
    }
   ],
   "source": [
    "subtration2()"
   ]
  },
  {
   "cell_type": "code",
   "execution_count": 56,
   "id": "337098c7-9903-4321-9a63-15b17d2a0aae",
   "metadata": {},
   "outputs": [],
   "source": [
    "def subtration3():\n",
    "    try:\n",
    "        n1=eval(input('enter the number'))\n",
    "        n2=eval(input('enter the number'))\n",
    "        sub2=n1-n2\n",
    "        print(f'the subtration of {n1} and {n2} is: {sub2}')\n",
    "    except Exception as e:\n",
    "        print(e)\n",
    "        "
   ]
  },
  {
   "cell_type": "code",
   "execution_count": 58,
   "id": "0364170d-a450-4ed7-914a-cbb1a6400124",
   "metadata": {},
   "outputs": [
    {
     "name": "stdin",
     "output_type": "stream",
     "text": [
      "enter the number 20\n",
      "enter the number 10\n"
     ]
    },
    {
     "name": "stdout",
     "output_type": "stream",
     "text": [
      "the subtration of 20 and 10 is: 10\n"
     ]
    }
   ],
   "source": [
    "## subtration3()"
   ]
  },
  {
   "cell_type": "code",
   "execution_count": 70,
   "id": "2d75c26b-98d5-4c69-abce-22fbeaf2e5f8",
   "metadata": {},
   "outputs": [],
   "source": [
    "def AVG():\n",
    "    n1=eval(input('enter the number'))\n",
    "    n2=eval(input('enter the number'))\n",
    "    avg=(n1+n2)/2\n",
    "    avg1=round(avg,2)\n",
    "    print(f'avg of {n1} and {n2} is: {avg1}')\n",
    "    "
   ]
  },
  {
   "cell_type": "code",
   "execution_count": 72,
   "id": "68e6302c-cd24-479b-bc10-afc4d552a265",
   "metadata": {},
   "outputs": [
    {
     "name": "stdin",
     "output_type": "stream",
     "text": [
      "enter the number 10\n",
      "enter the number 20\n"
     ]
    },
    {
     "name": "stdout",
     "output_type": "stream",
     "text": [
      "avg of 10 and 20 is: 15.0\n"
     ]
    }
   ],
   "source": [
    "AVG()\n"
   ]
  },
  {
   "cell_type": "code",
   "execution_count": 1,
   "id": "ee26a0d9-6a34-47e1-b70a-c29e64140ae4",
   "metadata": {},
   "outputs": [],
   "source": [
    "#wap ask the user enter name age city\n",
    "def details():\n",
    "    try:\n",
    "        name=input('enter the name:')\n",
    "        city=input('enter the city name:')\n",
    "        age=eval(input('enter the age:'))\n",
    "        print(f\"my name is {name} im {age} old and came from {city}\")\n",
    "    except Exception as e:\n",
    "        print(e)    \n",
    "        \n",
    "        "
   ]
  },
  {
   "cell_type": "code",
   "execution_count": 106,
   "id": "6480b1c1-70c7-48bb-9e65-627dfb2a77d6",
   "metadata": {},
   "outputs": [
    {
     "name": "stdin",
     "output_type": "stream",
     "text": [
      "enter the name: sai\n",
      "enter the city name: vzm\n",
      "enter the age: 22\n"
     ]
    },
    {
     "name": "stdout",
     "output_type": "stream",
     "text": [
      "my name is sai im 22 old and came from vzm\n"
     ]
    }
   ],
   "source": [
    "details()\n"
   ]
  },
  {
   "cell_type": "code",
   "execution_count": null,
   "id": "79a4fa5c-9703-4014-a8ac-3755b04c5d92",
   "metadata": {},
   "outputs": [],
   "source": [
    "def area_of_circle():\n",
    "    try:\n",
    "        radius=input('enter the ')"
   ]
  },
  {
   "cell_type": "code",
   "execution_count": 5,
   "id": "6e820126-7180-4f72-92e9-26102e100170",
   "metadata": {},
   "outputs": [],
   "source": [
    "def addition1(n1,n2):\n",
    "    add=n1+n2\n",
    "    print(f'the addition of {n1} and {n2} is: {add}')"
   ]
  },
  {
   "cell_type": "code",
   "execution_count": 9,
   "id": "a064584a-8559-4b1d-805d-2c8436a6d327",
   "metadata": {},
   "outputs": [
    {
     "name": "stdout",
     "output_type": "stream",
     "text": [
      "the addition of 200 and 400 is: 600\n"
     ]
    }
   ],
   "source": [
    "addition1(200,400)"
   ]
  },
  {
   "cell_type": "code",
   "execution_count": 15,
   "id": "230c474e-c7fd-4f8d-93bc-95fd3d32886e",
   "metadata": {},
   "outputs": [],
   "source": [
    "def addition2(n1,n2):\n",
    "    print('n1:',n1)\n",
    "    print('n2:',n2)\n",
    "    add=n1+n2\n",
    "    print(f'the addition of {n1} and {n2} is: {add}')"
   ]
  },
  {
   "cell_type": "code",
   "execution_count": 31,
   "id": "a0080e20-20eb-4f5b-91fe-fec73759ba46",
   "metadata": {},
   "outputs": [],
   "source": [
    "def addition():\n",
    "    n1=eval(input('enter the number'))\n",
    "    n2=eval(input('enter the number'))\n",
    "    add=n1+n2\n",
    "    print(f'the addition of {n1} and {n2} is: {add}')\n",
    "\n",
    "\n",
    "def addition1(n1,n2):\n",
    "    adds=n1+n2\n",
    "    print(f'the addition of {n1} and {n2} is: {adds}')\n",
    "\n",
    "def addition3(n1):\n",
    "    n2=eval(input('enter the n2'))\n",
    "    addss=n1+n2\n",
    "    print(f'the addition of {n1} and {n2} is: {addss}')\n",
    "\n",
    "    "
   ]
  },
  {
   "cell_type": "code",
   "execution_count": 39,
   "id": "fb3c18b8-2541-4d7c-9034-fdef0abfbe5f",
   "metadata": {},
   "outputs": [
    {
     "name": "stdin",
     "output_type": "stream",
     "text": [
      "enter the number 66\n",
      "enter the number 99\n"
     ]
    },
    {
     "name": "stdout",
     "output_type": "stream",
     "text": [
      "the addition of 66 and 99 is: 165\n",
      "the addition of 300 and 400 is: 700\n"
     ]
    },
    {
     "name": "stdin",
     "output_type": "stream",
     "text": [
      "enter the n2 4\n"
     ]
    },
    {
     "name": "stdout",
     "output_type": "stream",
     "text": [
      "the addition of 500 and 4 is: 504\n"
     ]
    }
   ],
   "source": [
    "addition()\n",
    "addition1(300,400)\n",
    "addition3(500)"
   ]
  },
  {
   "cell_type": "code",
   "execution_count": null,
   "id": "5a0c92ec-3bf1-47a8-82b0-2082a40c144f",
   "metadata": {},
   "outputs": [],
   "source": [
    "**default argument**\n",
    "- in above fumcrion the tip_per is fixed as 20\n",
    "- this is called default arguments\n",
    "- while calling the function no need to provide tip_per again\n",
    "- if you provide again the value will be changed\n"
   ]
  },
  {
   "cell_type": "code",
   "execution_count": 9,
   "id": "340d67a5-18b9-424b-993e-e4a8aacdd4de",
   "metadata": {},
   "outputs": [
    {
     "name": "stdout",
     "output_type": "stream",
     "text": [
      "n1: 100\n",
      "n2: 200\n",
      "n3: 300\n",
      "the avg of 100,200,and 300 is: 200.0\n"
     ]
    }
   ],
   "source": [
    "def AVG3(n1,n2,n3=30):\n",
    "    print('n1:',n1)\n",
    "    print('n2:',n2)\n",
    "    print('n3:',n3)\n",
    "    avg=(n1+n2+n3)/3\n",
    "    avg1=round(avg,2)\n",
    "    print(f'the avg of {n1},{n2},and {n3} is: {avg1}')\n",
    "\n",
    "AVG3(100,200,300)\n",
    "# note:- defaults arguments are always last"
   ]
  },
  {
   "cell_type": "code",
   "execution_count": null,
   "id": "7cd0c82b-c2a2-4daf-becb-4aae571ee0da",
   "metadata": {},
   "outputs": [],
   "source": [
    "n1,n2,n3=100 #works\n",
    "n1,n2=100,n3 #fails\n",
    "n1=100,n2,n3=100 #fails\n",
    "n1=100,n2,n3 #fails \n",
    "n"
   ]
  },
  {
   "cell_type": "code",
   "execution_count": null,
   "id": "c75c10a7-6abb-4bb4-87ca-d1d24a7d0090",
   "metadata": {},
   "outputs": [],
   "source": []
  }
 ],
 "metadata": {
  "kernelspec": {
   "display_name": "Python [conda env:base] *",
   "language": "python",
   "name": "conda-base-py"
  },
  "language_info": {
   "codemirror_mode": {
    "name": "ipython",
    "version": 3
   },
   "file_extension": ".py",
   "mimetype": "text/x-python",
   "name": "python",
   "nbconvert_exporter": "python",
   "pygments_lexer": "ipython3",
   "version": "3.12.7"
  }
 },
 "nbformat": 4,
 "nbformat_minor": 5
}

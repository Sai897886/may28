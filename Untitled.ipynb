{
 "cells": [
  {
   "cell_type": "code",
   "execution_count": 9,
   "id": "9953de1d-fad6-4363-839f-461a9947e017",
   "metadata": {},
   "outputs": [
    {
     "name": "stdout",
     "output_type": "stream",
     "text": [
      "The avg of three numbers is 20.0\n"
     ]
    }
   ],
   "source": [
    "# 1)wap ask the user enter 3 numbers n1,n2,n3 from ketboard\n",
    "# calculate average\n",
    "def avg(n1,n2,n3):\n",
    "    n4=(n1+n2+n3)/3\n",
    "    print(\"The avg of three numbers is {}\".format(n4))\n",
    "avg(10,20,30)"
   ]
  },
  {
   "cell_type": "code",
   "execution_count": 13,
   "id": "de29c710-6125-43a0-b18d-c07fad670e51",
   "metadata": {},
   "outputs": [],
   "source": [
    "# 2)wap ask the user enter name age city\n",
    "# print my name is python im 10 years old and came from hyd\n",
    "\n",
    "def details():\n",
    "    name=input('enter the name:')\n",
    "    city=input('enter the city name:')\n",
    "    age=eval(input('enter the age:'))\n",
    "    print(f\"my name is {name} im {age} old and came from {city}\")"
   ]
  },
  {
   "cell_type": "code",
   "execution_count": 17,
   "id": "f72d4b1b-970e-4ed1-a628-ec04103664a0",
   "metadata": {},
   "outputs": [
    {
     "name": "stdin",
     "output_type": "stream",
     "text": [
      "enter the name: sai\n",
      "enter the city name: hyd\n",
      "enter the age: 24\n"
     ]
    },
    {
     "name": "stdout",
     "output_type": "stream",
     "text": [
      "my name is sai im 24 old and came from hyd\n"
     ]
    }
   ],
   "source": [
    "details()"
   ]
  },
  {
   "cell_type": "code",
   "execution_count": 25,
   "id": "72f154e9-8a5b-4562-b035-304edae259a6",
   "metadata": {},
   "outputs": [],
   "source": [
    "# 3)wap ask the user to enter radidus of a circle calculate area of the circle\n",
    "# var: radidus  var: pi=3.14\n",
    "# formuale: pi*radius*radius#\n",
    "# print the answers using f string and format\n",
    "\n",
    "def area():\n",
    "    rad=eval(input(\"Enter radius of the circle:\"))\n",
    "    pi=3.14\n",
    "    area=pi*rad*rad\n",
    "    x=(round(area,2))\n",
    "    print(f\"The area of circle with radius {rad} is : {x} cm2\")\n"
   ]
  },
  {
   "cell_type": "code",
   "execution_count": 27,
   "id": "8c695518-57a0-4f2e-9790-bb7e6bf83d03",
   "metadata": {},
   "outputs": [
    {
     "name": "stdin",
     "output_type": "stream",
     "text": [
      "Enter radius of the circle: 12\n"
     ]
    },
    {
     "name": "stdout",
     "output_type": "stream",
     "text": [
      "The area of circle with radius 12 is : 452.16 cm2\n"
     ]
    }
   ],
   "source": [
    "area()"
   ]
  },
  {
   "cell_type": "code",
   "execution_count": 33,
   "id": "ce83d602-03b3-4294-8e9a-67e1fdb94ee5",
   "metadata": {},
   "outputs": [
    {
     "name": "stdin",
     "output_type": "stream",
     "text": [
      "Enter breadth of the triangle: 6\n",
      "Enter height of the triangle: 5\n"
     ]
    },
    {
     "name": "stdout",
     "output_type": "stream",
     "text": [
      "The area of Right angled triangle with Breadth 6cm & Height 5cm is :15.0cm2\n"
     ]
    }
   ],
   "source": [
    "# 4)wap ask the user enter breadth and height of a right angle triangle\n",
    "# calculate the area\n",
    "# var1: bredath  var2: height\n",
    "# formuale : 0.5*breadth*heigh\n",
    "\n",
    "def area1():\n",
    "    B=eval(input(\"Enter breadth of the triangle:\"))\n",
    "    H=eval(input(\"Enter height of the triangle:\"))\n",
    "    area=0.5*B*H\n",
    "    print(f\"The area of Right angled triangle with Breadth {B}cm & Height {H}cm is :{area}cm2\")\n",
    "\n",
    "\n",
    "area1()"
   ]
  },
  {
   "cell_type": "code",
   "execution_count": 37,
   "id": "4379225d-441c-4d69-8cb9-68b5b2e81076",
   "metadata": {},
   "outputs": [
    {
     "name": "stdin",
     "output_type": "stream",
     "text": [
      "Enter Bill amount: 1500\n",
      "Enter Tip amount: 20\n"
     ]
    },
    {
     "name": "stdout",
     "output_type": "stream",
     "text": [
      "The total bill amount 1500 with Tip amount 20 is : 1520\n"
     ]
    }
   ],
   "source": [
    "# 5)wap ask the user the bill amount and tip amount\n",
    "#   calculate total bill\n",
    "#   var1: bill amount var2: tip amount\n",
    "#   formuale\n",
    "def bill():\n",
    "     B=int(input(\"Enter Bill amount:\"))\n",
    "     Tip=int(input(\"Enter Tip amount:\"))\n",
    "     T_Bill=B+Tip\n",
    "     print(f\"The total bill amount {B} with Tip amount {Tip} is : {T_Bill}\")\n",
    "\n",
    "bill()"
   ]
  },
  {
   "cell_type": "code",
   "execution_count": 43,
   "id": "299fbdde-571f-469b-bf84-6e8ea3c93d5c",
   "metadata": {},
   "outputs": [
    {
     "name": "stdin",
     "output_type": "stream",
     "text": [
      "Enter Bill amount: 2002\n",
      "Enter Tip amount: 11\n"
     ]
    },
    {
     "name": "stdout",
     "output_type": "stream",
     "text": [
      "The total bill amount 2002 with Tip amount 11 is : 2222.22\n"
     ]
    }
   ],
   "source": [
    "# 6)wap ask the user the bill amount and tip percentage\n",
    "#    take tip percentage as 10\n",
    "#   calculate total bill= bill amount+ bill amount*tip per/100\n",
    "#   var1: bill amount var2: tip amount\n",
    "#    formuale\n",
    "\n",
    "def bill1():\n",
    "     B=int(input(\"Enter Bill amount:\"))\n",
    "     Tip=int(input(\"Enter Tip amount:\"))\n",
    "     T_Bill=B+(B*Tip)/100\n",
    "     print(f\"The total bill amount {B} with Tip amount {Tip} is : {T_Bill}\")\n",
    "\n",
    "bill1()"
   ]
  },
  {
   "cell_type": "code",
   "execution_count": 47,
   "id": "eab74362-0a65-4c0d-858f-3690c86c66f6",
   "metadata": {},
   "outputs": [
    {
     "name": "stdin",
     "output_type": "stream",
     "text": [
      "Enter length of the rectangle: 10\n",
      "Enter breadth of the rectangle: 20\n"
     ]
    },
    {
     "name": "stdout",
     "output_type": "stream",
     "text": [
      "The area of Rectangle with Length 10cm and Breadth 20cm is :200cm2\n"
     ]
    }
   ],
   "source": [
    "# 7)wap ask the length and breadth of a rectangle calculate area\n",
    "#   var1: length  var2: breadth\n",
    "#   formulae: length * breadth\n",
    "\n",
    "def area2():\n",
    "    L=eval(input(\"Enter length of the rectangle:\"))\n",
    "    B=eval(input(\"Enter breadth of the rectangle:\"))\n",
    "    area=L*B\n",
    "    print(f\"The area of Rectangle with Length {L}cm and Breadth {B}cm is :{area}cm2\")\n",
    "\n",
    "area2()"
   ]
  },
  {
   "cell_type": "code",
   "execution_count": 55,
   "id": "9fd73ec3-c071-432f-8608-7968b6f03d8f",
   "metadata": {},
   "outputs": [
    {
     "name": "stdin",
     "output_type": "stream",
     "text": [
      "Enter radius of the circle: 10\n"
     ]
    },
    {
     "name": "stdout",
     "output_type": "stream",
     "text": [
      "The volume of Sphere with radius 10 is : 4186.67 cm3\n"
     ]
    }
   ],
   "source": [
    "# 8) wap ask the user take the radius and calculate volume of sphere\n",
    "#   formulae: pi*r**3(pi*r*r*r)\n",
    "def volume_S():\n",
    "    rad=eval(input(\"Enter radius of the circle:\"))\n",
    "    pi=3.14\n",
    "    vol=(4/3)*pi*rad*rad*rad\n",
    "    x=(round(vol,2))\n",
    "    print(f\"The volume of Sphere with radius {rad} is : {x} cm3\")\n",
    "\n",
    "volume_S()"
   ]
  },
  {
   "cell_type": "code",
   "execution_count": null,
   "id": "fe7e899b-571c-4ad5-9dce-c94ae6e83f93",
   "metadata": {},
   "outputs": [],
   "source": [
    "# 9) wap ask the user enter amount in dollars convert into rupees\n",
    "#     1$=85rs\n",
    "\n",
    "def convert():\n",
    "    "
   ]
  }
 ],
 "metadata": {
  "kernelspec": {
   "display_name": "Python [conda env:base] *",
   "language": "python",
   "name": "conda-base-py"
  },
  "language_info": {
   "codemirror_mode": {
    "name": "ipython",
    "version": 3
   },
   "file_extension": ".py",
   "mimetype": "text/x-python",
   "name": "python",
   "nbconvert_exporter": "python",
   "pygments_lexer": "ipython3",
   "version": "3.12.7"
  }
 },
 "nbformat": 4,
 "nbformat_minor": 5
}

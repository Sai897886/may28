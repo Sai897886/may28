{
 "cells": [
  {
   "cell_type": "code",
   "execution_count": null,
   "id": "bf7f2e89-37b8-444f-abf2-dc36ba57ac78",
   "metadata": {},
   "outputs": [],
   "source": [
    "Basic Represntation\n",
    "- strings elments is in quotes\n",
    "-list elements are in square brackets"
   ]
  },
  {
   "cell_type": "code",
   "execution_count": 1,
   "id": "f1e01fcf-8b02-4e4a-9b84-3a0423a5dfb7",
   "metadata": {},
   "outputs": [
    {
     "data": {
      "text/plain": [
       "[1, 2, 3, 4]"
      ]
     },
     "execution_count": 1,
     "metadata": {},
     "output_type": "execute_result"
    }
   ],
   "source": [
    "list1=[1,2,3,4]\n",
    "list1"
   ]
  },
  {
   "cell_type": "code",
   "execution_count": 7,
   "id": "52ef50ed-4b63-47ad-959d-7a9ad958cd60",
   "metadata": {},
   "outputs": [
    {
     "data": {
      "text/plain": [
       "['A', 'B', 'C', 'D']"
      ]
     },
     "execution_count": 7,
     "metadata": {},
     "output_type": "execute_result"
    }
   ],
   "source": [
    "list2=['A','B','C','D']\n",
    "list2"
   ]
  },
  {
   "cell_type": "code",
   "execution_count": 27,
   "id": "ddf197b7-d6d9-43f4-88a9-417a41c51ed7",
   "metadata": {},
   "outputs": [
    {
     "name": "stdout",
     "output_type": "stream",
     "text": [
      "[1, 2, 3, 4] ['A', 'B', 'C', 'D'] [1, 2, 3, 'A', 'B', 'C', 'D']\n"
     ]
    }
   ],
   "source": [
    "list1=[1,2,3,4]\n",
    "list2=['A','B','C','D']\n",
    "list3=[1,2,3,'A','B','C','D']\n",
    "print(list1,list2,list3)"
   ]
  },
  {
   "cell_type": "code",
   "execution_count": 11,
   "id": "7f818dc0-16d4-4647-bf0b-1449665078d3",
   "metadata": {},
   "outputs": [
    {
     "data": {
      "text/plain": [
       "list[10, 20, 30]"
      ]
     },
     "execution_count": 11,
     "metadata": {},
     "output_type": "execute_result"
    }
   ],
   "source": [
    "list[10,20,30]"
   ]
  },
  {
   "cell_type": "code",
   "execution_count": 13,
   "id": "4a81d716-425f-4a1a-97fb-a26ab12ebb24",
   "metadata": {},
   "outputs": [
    {
     "data": {
      "text/plain": [
       "list[10, 20, 30, 10.5, 20.5, 30.5]"
      ]
     },
     "execution_count": 13,
     "metadata": {},
     "output_type": "execute_result"
    }
   ],
   "source": [
    "list[10,20,30,10.5,20.5,30.5]"
   ]
  },
  {
   "cell_type": "code",
   "execution_count": 29,
   "id": "c2b09ce0-2b5a-4852-ba32-342c7deeae78",
   "metadata": {},
   "outputs": [
    {
     "name": "stdout",
     "output_type": "stream",
     "text": [
      "[10, 20, 30, 40] ['apple', 'banana', 'cherry'] [10, 20, 2, 5, 7, 'apple', 'cherry', 'banana']\n"
     ]
    }
   ],
   "source": [
    "list1=[10,20,30,40]\n",
    "list2=['apple','banana','cherry']\n",
    "list3=[10,20,2,5,7,'apple','cherry','banana']\n",
    "print(list1,list2,list3)"
   ]
  },
  {
   "cell_type": "code",
   "execution_count": 33,
   "id": "c9f0dc94-2044-4557-80cc-832942ed7c81",
   "metadata": {},
   "outputs": [
    {
     "data": {
      "text/plain": [
       "4"
      ]
     },
     "execution_count": 33,
     "metadata": {},
     "output_type": "execute_result"
    }
   ],
   "source": [
    "list1=[10,20,30,40]\n",
    "len(list1)"
   ]
  },
  {
   "cell_type": "code",
   "execution_count": 35,
   "id": "92e6b71f-2c05-48d7-9814-c4d36b6183bf",
   "metadata": {},
   "outputs": [
    {
     "data": {
      "text/plain": [
       "40"
      ]
     },
     "execution_count": 35,
     "metadata": {},
     "output_type": "execute_result"
    }
   ],
   "source": [
    "list1=[10,20,30,40]\n",
    "max(list1)"
   ]
  },
  {
   "cell_type": "code",
   "execution_count": 37,
   "id": "8750ab07-e7e1-4389-91bb-191f9576ec3e",
   "metadata": {},
   "outputs": [
    {
     "data": {
      "text/plain": [
       "'cherry'"
      ]
     },
     "execution_count": 37,
     "metadata": {},
     "output_type": "execute_result"
    }
   ],
   "source": [
    "list2=['apple','banana','cherry']\n",
    "max(list2)"
   ]
  },
  {
   "cell_type": "code",
   "execution_count": 43,
   "id": "4fda65c9-63fe-4eb0-8677-2d84ad99e8d3",
   "metadata": {},
   "outputs": [
    {
     "ename": "TypeError",
     "evalue": "'>' not supported between instances of 'str' and 'int'",
     "output_type": "error",
     "traceback": [
      "\u001b[1;31m---------------------------------------------------------------------------\u001b[0m",
      "\u001b[1;31mTypeError\u001b[0m                                 Traceback (most recent call last)",
      "Cell \u001b[1;32mIn[43], line 2\u001b[0m\n\u001b[0;32m      1\u001b[0m list3\u001b[38;5;241m=\u001b[39m[\u001b[38;5;241m10\u001b[39m,\u001b[38;5;241m20\u001b[39m,\u001b[38;5;241m2\u001b[39m,\u001b[38;5;241m5\u001b[39m,\u001b[38;5;241m7\u001b[39m,\u001b[38;5;124m'\u001b[39m\u001b[38;5;124mapple\u001b[39m\u001b[38;5;124m'\u001b[39m,\u001b[38;5;124m'\u001b[39m\u001b[38;5;124mcherry\u001b[39m\u001b[38;5;124m'\u001b[39m,\u001b[38;5;124m'\u001b[39m\u001b[38;5;124mbanana\u001b[39m\u001b[38;5;124m'\u001b[39m]\n\u001b[1;32m----> 2\u001b[0m \u001b[38;5;28mmax\u001b[39m(list3)\n",
      "\u001b[1;31mTypeError\u001b[0m: '>' not supported between instances of 'str' and 'int'"
     ]
    }
   ],
   "source": [
    "list3=[10,20,2,5,7,'apple','cherry','banana']\n",
    "max(list3)"
   ]
  },
  {
   "cell_type": "code",
   "execution_count": 45,
   "id": "4e5a053c-ede4-4e27-a72e-86aebbc00030",
   "metadata": {},
   "outputs": [
    {
     "data": {
      "text/plain": [
       "10"
      ]
     },
     "execution_count": 45,
     "metadata": {},
     "output_type": "execute_result"
    }
   ],
   "source": [
    "list1=[10,20,30,40]\n",
    "min(list1)"
   ]
  },
  {
   "cell_type": "code",
   "execution_count": 47,
   "id": "6e5f24ec-d257-4b59-be80-47083204ef7c",
   "metadata": {},
   "outputs": [
    {
     "data": {
      "text/plain": [
       "'apple'"
      ]
     },
     "execution_count": 47,
     "metadata": {},
     "output_type": "execute_result"
    }
   ],
   "source": [
    "list2=['apple','banana','cherry']\n",
    "min(list2)"
   ]
  },
  {
   "cell_type": "code",
   "execution_count": 49,
   "id": "4247985f-e0a5-4457-b756-04422a280c29",
   "metadata": {},
   "outputs": [
    {
     "ename": "TypeError",
     "evalue": "'<' not supported between instances of 'str' and 'int'",
     "output_type": "error",
     "traceback": [
      "\u001b[1;31m---------------------------------------------------------------------------\u001b[0m",
      "\u001b[1;31mTypeError\u001b[0m                                 Traceback (most recent call last)",
      "Cell \u001b[1;32mIn[49], line 2\u001b[0m\n\u001b[0;32m      1\u001b[0m list3\u001b[38;5;241m=\u001b[39m[\u001b[38;5;241m10\u001b[39m,\u001b[38;5;241m20\u001b[39m,\u001b[38;5;241m2\u001b[39m,\u001b[38;5;241m5\u001b[39m,\u001b[38;5;241m7\u001b[39m,\u001b[38;5;124m'\u001b[39m\u001b[38;5;124mapple\u001b[39m\u001b[38;5;124m'\u001b[39m,\u001b[38;5;124m'\u001b[39m\u001b[38;5;124mcherry\u001b[39m\u001b[38;5;124m'\u001b[39m,\u001b[38;5;124m'\u001b[39m\u001b[38;5;124mbanana\u001b[39m\u001b[38;5;124m'\u001b[39m]\n\u001b[1;32m----> 2\u001b[0m \u001b[38;5;28mmin\u001b[39m(list3)\n",
      "\u001b[1;31mTypeError\u001b[0m: '<' not supported between instances of 'str' and 'int'"
     ]
    }
   ],
   "source": [
    "list3=[10,20,2,5,7,'apple','cherry','banana']\n",
    "min(list3)"
   ]
  },
  {
   "cell_type": "code",
   "execution_count": 51,
   "id": "38285c76-5a2a-473b-a9d5-58b2eb81080f",
   "metadata": {},
   "outputs": [
    {
     "data": {
      "text/plain": [
       "100"
      ]
     },
     "execution_count": 51,
     "metadata": {},
     "output_type": "execute_result"
    }
   ],
   "source": [
    "list1=[10,20,30,40]\n",
    "sum(list1)"
   ]
  },
  {
   "cell_type": "code",
   "execution_count": 53,
   "id": "0b9a1c44-0541-409d-837b-981b27b7329c",
   "metadata": {},
   "outputs": [
    {
     "ename": "TypeError",
     "evalue": "unsupported operand type(s) for +: 'int' and 'str'",
     "output_type": "error",
     "traceback": [
      "\u001b[1;31m---------------------------------------------------------------------------\u001b[0m",
      "\u001b[1;31mTypeError\u001b[0m                                 Traceback (most recent call last)",
      "Cell \u001b[1;32mIn[53], line 2\u001b[0m\n\u001b[0;32m      1\u001b[0m list2\u001b[38;5;241m=\u001b[39m[\u001b[38;5;124m'\u001b[39m\u001b[38;5;124mapple\u001b[39m\u001b[38;5;124m'\u001b[39m,\u001b[38;5;124m'\u001b[39m\u001b[38;5;124mbanana\u001b[39m\u001b[38;5;124m'\u001b[39m,\u001b[38;5;124m'\u001b[39m\u001b[38;5;124mcherry\u001b[39m\u001b[38;5;124m'\u001b[39m]\n\u001b[1;32m----> 2\u001b[0m \u001b[38;5;28msum\u001b[39m(list2)\n",
      "\u001b[1;31mTypeError\u001b[0m: unsupported operand type(s) for +: 'int' and 'str'"
     ]
    }
   ],
   "source": [
    "list2=['apple','banana','cherry']\n",
    "sum(list2)"
   ]
  },
  {
   "cell_type": "code",
   "execution_count": 55,
   "id": "da221478-26f1-4ce9-9214-527fec8a255f",
   "metadata": {},
   "outputs": [
    {
     "ename": "TypeError",
     "evalue": "unsupported operand type(s) for +: 'int' and 'str'",
     "output_type": "error",
     "traceback": [
      "\u001b[1;31m---------------------------------------------------------------------------\u001b[0m",
      "\u001b[1;31mTypeError\u001b[0m                                 Traceback (most recent call last)",
      "Cell \u001b[1;32mIn[55], line 2\u001b[0m\n\u001b[0;32m      1\u001b[0m list3\u001b[38;5;241m=\u001b[39m[\u001b[38;5;241m10\u001b[39m,\u001b[38;5;241m20\u001b[39m,\u001b[38;5;241m2\u001b[39m,\u001b[38;5;241m5\u001b[39m,\u001b[38;5;241m7\u001b[39m,\u001b[38;5;124m'\u001b[39m\u001b[38;5;124mapple\u001b[39m\u001b[38;5;124m'\u001b[39m,\u001b[38;5;124m'\u001b[39m\u001b[38;5;124mcherry\u001b[39m\u001b[38;5;124m'\u001b[39m,\u001b[38;5;124m'\u001b[39m\u001b[38;5;124mbanana\u001b[39m\u001b[38;5;124m'\u001b[39m]\n\u001b[1;32m----> 2\u001b[0m \u001b[38;5;28msum\u001b[39m(list3)\n",
      "\u001b[1;31mTypeError\u001b[0m: unsupported operand type(s) for +: 'int' and 'str'"
     ]
    }
   ],
   "source": [
    "list3=[10,20,2,5,7,'apple','cherry','banana']\n",
    "sum(list3)"
   ]
  },
  {
   "cell_type": "code",
   "execution_count": 63,
   "id": "30ab19bf-87c0-419b-8014-29c24f6af647",
   "metadata": {},
   "outputs": [
    {
     "data": {
      "text/plain": [
       "([10, 20, 30, 40], ['apple', 'banana', 'cherry'])"
      ]
     },
     "execution_count": 63,
     "metadata": {},
     "output_type": "execute_result"
    }
   ],
   "source": [
    "list1=[10,20,30,40]\n",
    "list2=['apple','banana','cherry']\n",
    "list3=[10,20,2,5,7,'apple','cherry','banana']\n",
    "sorted(list1),sorted(list2)"
   ]
  },
  {
   "cell_type": "code",
   "execution_count": 65,
   "id": "dcc62ccf-fee3-4476-975f-58faa7f66f2a",
   "metadata": {},
   "outputs": [
    {
     "name": "stdout",
     "output_type": "stream",
     "text": [
      "40\n",
      "30\n",
      "20\n",
      "10\n"
     ]
    }
   ],
   "source": [
    "for i in reversed(list1):\n",
    "    print(i)"
   ]
  },
  {
   "cell_type": "code",
   "execution_count": 67,
   "id": "7797d6d5-1a3f-446a-8c66-336caee44521",
   "metadata": {},
   "outputs": [
    {
     "name": "stdout",
     "output_type": "stream",
     "text": [
      "cherry\n",
      "banana\n",
      "apple\n"
     ]
    }
   ],
   "source": [
    "for i in reversed(list2):\n",
    "    print(i)"
   ]
  },
  {
   "cell_type": "code",
   "execution_count": 69,
   "id": "b9dde80d-c518-4f21-b6e6-a38966c401dd",
   "metadata": {},
   "outputs": [
    {
     "name": "stdout",
     "output_type": "stream",
     "text": [
      "banana\n",
      "cherry\n",
      "apple\n",
      "7\n",
      "5\n",
      "2\n",
      "20\n",
      "10\n"
     ]
    }
   ],
   "source": [
    "for i in reversed(list3):\n",
    "    print(i)"
   ]
  },
  {
   "cell_type": "code",
   "execution_count": null,
   "id": "42f889c6-4a12-4109-a43e-e881a01b6f01",
   "metadata": {},
   "outputs": [],
   "source": [
    "# In the interview \n",
    "#list=[10,20,2,25,75]\n",
    "# Sort the list without sorted function\n",
    "# Q2) find the max value with out max function\n",
    "# Q3) find the min value with out min function\n",
    "# Q4) Reverse the elements with out reversed function\n",
    "# Q5) sum the elements with out using sum function\n",
    "# Q6) find the second max and second min"
   ]
  },
  {
   "cell_type": "code",
   "execution_count": 79,
   "id": "2ad0f771-a17c-45bf-afec-32b75e1087e7",
   "metadata": {},
   "outputs": [
    {
     "name": "stdout",
     "output_type": "stream",
     "text": [
      "[1, 2, 3, 4, 'a', 'b', 'c', 'd']\n",
      "[1, 2, 3, 4, 1, 2, 3, 4]\n",
      "['a', 'b', 'c', 'd', 'a', 'b', 'c', 'd']\n"
     ]
    }
   ],
   "source": [
    "list1=[1,2,3,4]\n",
    "list2=['a','b','c','d']\n",
    "print(list1+list2)\n",
    "print(list1*2)\n",
    "print(list2*2)"
   ]
  },
  {
   "cell_type": "code",
   "execution_count": 85,
   "id": "92d4ff0d-1ce6-430d-a583-18b89f3b7025",
   "metadata": {},
   "outputs": [
    {
     "data": {
      "text/plain": [
       "(20, 10)"
      ]
     },
     "execution_count": 85,
     "metadata": {},
     "output_type": "execute_result"
    }
   ],
   "source": [
    "list1=[10,20,30,'a','b','c']\n",
    "list1[1],list1[-6]"
   ]
  },
  {
   "cell_type": "code",
   "execution_count": 89,
   "id": "d255c880-f3b5-42e1-8fd2-a46158e7a3b9",
   "metadata": {},
   "outputs": [
    {
     "data": {
      "text/plain": [
       "10"
      ]
     },
     "execution_count": 89,
     "metadata": {},
     "output_type": "execute_result"
    }
   ],
   "source": [
    "list1=[10,20,30,'a','b','c']\n",
    "list1[0]"
   ]
  },
  {
   "cell_type": "code",
   "execution_count": 91,
   "id": "65023b29-410c-470e-af31-63aeae486082",
   "metadata": {},
   "outputs": [
    {
     "data": {
      "text/plain": [
       "10"
      ]
     },
     "execution_count": 91,
     "metadata": {},
     "output_type": "execute_result"
    }
   ],
   "source": [
    "list1=[10,20,30,'a','b','c']\n",
    "list1[-6]"
   ]
  },
  {
   "cell_type": "code",
   "execution_count": 105,
   "id": "594a7705-0920-4e19-ac79-e126c2f5da3d",
   "metadata": {},
   "outputs": [
    {
     "data": {
      "text/plain": [
       "(10, 10)"
      ]
     },
     "execution_count": 105,
     "metadata": {},
     "output_type": "execute_result"
    }
   ],
   "source": [
    "list1=[10,20,30,'a','b','c']\n",
    "list1[0],list1[-6]"
   ]
  },
  {
   "cell_type": "code",
   "execution_count": 131,
   "id": "1df4e511-ac76-42bd-943f-b9942cc01d24",
   "metadata": {},
   "outputs": [
    {
     "name": "stdout",
     "output_type": "stream",
     "text": [
      "the postitive index of 10 is 0\n",
      "the postitive index of 20 is 1\n",
      "the postitive index of 30 is 2\n",
      "the postitive index of a is 3\n",
      "the postitive index of b is 4\n",
      "the postitive index of c is 5\n"
     ]
    }
   ],
   "source": [
    "list1=[10,20,30,'a','b','c']\n",
    "for i in range(0,6):\n",
    "    print(f'the postitive index of {list1[i]} is {i}')"
   ]
  },
  {
   "cell_type": "code",
   "execution_count": 133,
   "id": "e48f3ca6-5802-49a4-a595-0a098c4efab4",
   "metadata": {},
   "outputs": [
    {
     "data": {
      "text/plain": [
       "20"
      ]
     },
     "execution_count": 133,
     "metadata": {},
     "output_type": "execute_result"
    }
   ],
   "source": [
    "list1=[10,[20]]\n",
    "list1[1][0]"
   ]
  },
  {
   "cell_type": "code",
   "execution_count": 135,
   "id": "d495fb38-a1ac-4067-97c6-f2a01073e5bb",
   "metadata": {},
   "outputs": [
    {
     "data": {
      "text/plain": [
       "'cherry'"
      ]
     },
     "execution_count": 135,
     "metadata": {},
     "output_type": "execute_result"
    }
   ],
   "source": [
    "list1=[10,20,30,'a',['banana','cherry']]\n",
    "list1[4][1]"
   ]
  },
  {
   "cell_type": "code",
   "execution_count": 157,
   "id": "067d1c4f-5164-4678-8c81-f4d759c43e4e",
   "metadata": {},
   "outputs": [
    {
     "data": {
      "text/plain": [
       "'dragon fruit'"
      ]
     },
     "execution_count": 157,
     "metadata": {},
     "output_type": "execute_result"
    }
   ],
   "source": [
    "list1=['a',['apple','b',['banana','c',['cherry','d',['dragon fruit']]]]]\n",
    "list1[1][2][2][2][0]"
   ]
  },
  {
   "cell_type": "code",
   "execution_count": 167,
   "id": "8edf8475-8149-4c06-a380-3f802c533731",
   "metadata": {},
   "outputs": [
    {
     "data": {
      "text/plain": [
       "'bat'"
      ]
     },
     "execution_count": 167,
     "metadata": {},
     "output_type": "execute_result"
    }
   ],
   "source": [
    "list1=['apple',['kashmir',['india',['cricket',['bat']]]]]\n",
    "list1[1][1][1][1][0]"
   ]
  },
  {
   "cell_type": "code",
   "execution_count": null,
   "id": "473c3f49-c808-4742-8f2c-a7e51df75a54",
   "metadata": {},
   "outputs": [],
   "source": [
    "range vs in\n",
    "- when we have use with index then go to range\n",
    "- when we have only elemnts go for in"
   ]
  },
  {
   "cell_type": "code",
   "execution_count": null,
   "id": "4f407879-c555-4ee3-87bb-e3bbe6d2d269",
   "metadata": {},
   "outputs": [],
   "source": [
    "**mutable vs immutable**"
   ]
  },
  {
   "cell_type": "code",
   "execution_count": 7,
   "id": "ac025177-43f9-4546-93b0-27bf048e78d7",
   "metadata": {},
   "outputs": [
    {
     "data": {
      "text/plain": [
       "[40, 200, 300, 400]"
      ]
     },
     "execution_count": 7,
     "metadata": {},
     "output_type": "execute_result"
    }
   ],
   "source": [
    "list1=[100,200,300,400]\n",
    "list1[0]=40\n",
    "list1\n",
    "# lists are mutable"
   ]
  },
  {
   "cell_type": "code",
   "execution_count": null,
   "id": "12ac92cb-6a02-4e55-b9a2-a012473aaec9",
   "metadata": {},
   "outputs": [],
   "source": [
    "**slice**"
   ]
  },
  {
   "cell_type": "code",
   "execution_count": 43,
   "id": "7d1cf8ca-8d25-4208-a2c6-3ee39384eeca",
   "metadata": {},
   "outputs": [
    {
     "data": {
      "text/plain": [
       "[]"
      ]
     },
     "execution_count": 43,
     "metadata": {},
     "output_type": "execute_result"
    }
   ],
   "source": [
    "l1=[10,20,30,40,50,'a','b','c','d','e','apple','banana']\n",
    "l1[:]\n",
    "l1[::]\n",
    "l1[::-1]\n",
    "l1[2:10:2]\n",
    "l1[2:10:-2]\n",
    "l1[2:-10:2]\n",
    "l1[-2:10:2]\n",
    "l1[2:-10:-2]\n",
    "l1[-2:10:-2]\n",
    "l1[10:2:2]\n",
    "l1[10:2:-2]\n",
    "l1[10:-2:2]\n",
    "l1[-10:2:-2]\n",
    "l1[-10:-2:-2]"
   ]
  },
  {
   "cell_type": "code",
   "execution_count": null,
   "id": "8ea7358a-6116-4ff4-96e1-9d29c014b0e3",
   "metadata": {},
   "outputs": [],
   "source": [
    "**methods**"
   ]
  },
  {
   "cell_type": "code",
   "execution_count": 45,
   "id": "66da52b5-79c8-4cd3-8971-650ea5690a19",
   "metadata": {},
   "outputs": [
    {
     "data": {
      "text/plain": [
       "['__add__',\n",
       " '__class__',\n",
       " '__class_getitem__',\n",
       " '__contains__',\n",
       " '__delattr__',\n",
       " '__delitem__',\n",
       " '__dir__',\n",
       " '__doc__',\n",
       " '__eq__',\n",
       " '__format__',\n",
       " '__ge__',\n",
       " '__getattribute__',\n",
       " '__getitem__',\n",
       " '__getstate__',\n",
       " '__gt__',\n",
       " '__hash__',\n",
       " '__iadd__',\n",
       " '__imul__',\n",
       " '__init__',\n",
       " '__init_subclass__',\n",
       " '__iter__',\n",
       " '__le__',\n",
       " '__len__',\n",
       " '__lt__',\n",
       " '__mul__',\n",
       " '__ne__',\n",
       " '__new__',\n",
       " '__reduce__',\n",
       " '__reduce_ex__',\n",
       " '__repr__',\n",
       " '__reversed__',\n",
       " '__rmul__',\n",
       " '__setattr__',\n",
       " '__setitem__',\n",
       " '__sizeof__',\n",
       " '__str__',\n",
       " '__subclasshook__',\n",
       " 'append',\n",
       " 'clear',\n",
       " 'copy',\n",
       " 'count',\n",
       " 'extend',\n",
       " 'index',\n",
       " 'insert',\n",
       " 'pop',\n",
       " 'remove',\n",
       " 'reverse',\n",
       " 'sort']"
      ]
     },
     "execution_count": 45,
     "metadata": {},
     "output_type": "execute_result"
    }
   ],
   "source": [
    "dir([])"
   ]
  },
  {
   "cell_type": "code",
   "execution_count": null,
   "id": "9136f3ef-a48d-4bd2-8ccb-5195b1a5f1a4",
   "metadata": {},
   "outputs": [],
   "source": [
    "append',\n",
    " 'clear',\n",
    " 'copy',\n",
    " 'count',\n",
    " 'extend',\n",
    " 'index',\n",
    " 'insert',\n",
    " 'pop',\n",
    " 'remove',\n",
    " 'reverse',\n",
    " 'sort']"
   ]
  },
  {
   "cell_type": "code",
   "execution_count": 49,
   "id": "d61c812d-2004-4447-b10f-b31e71ccb2e0",
   "metadata": {},
   "outputs": [],
   "source": [
    "list1=[10,20,30]\n",
    "list1.clear()"
   ]
  },
  {
   "cell_type": "code",
   "execution_count": 53,
   "id": "31797233-707f-433e-9767-8c3cfd5a44a1",
   "metadata": {},
   "outputs": [
    {
     "data": {
      "text/plain": [
       "[]"
      ]
     },
     "execution_count": 53,
     "metadata": {},
     "output_type": "execute_result"
    }
   ],
   "source": [
    "list1"
   ]
  },
  {
   "cell_type": "code",
   "execution_count": 55,
   "id": "9a653a04-3b0f-4a5f-bb67-7d311a7d0041",
   "metadata": {},
   "outputs": [
    {
     "data": {
      "text/plain": [
       "[10, 20, 30]"
      ]
     },
     "execution_count": 55,
     "metadata": {},
     "output_type": "execute_result"
    }
   ],
   "source": [
    "list1=[10,20,30]\n",
    "list1.copy()"
   ]
  },
  {
   "cell_type": "code",
   "execution_count": 63,
   "id": "df17e4bd-1a05-4633-bc2d-bf6f1c8504f9",
   "metadata": {},
   "outputs": [
    {
     "data": {
      "text/plain": [
       "1"
      ]
     },
     "execution_count": 63,
     "metadata": {},
     "output_type": "execute_result"
    }
   ],
   "source": [
    "list1=[10,20,30]\n",
    "list1.count(20)"
   ]
  },
  {
   "cell_type": "code",
   "execution_count": null,
   "id": "03d852ac-ec8e-40da-8f58-35320d079ced",
   "metadata": {},
   "outputs": [],
   "source": [
    "**append**\n",
    "- append is very very important method in the entire list\n",
    "- in our life we will use this method very very frequently\n",
    "- append means adding an element at last"
   ]
  },
  {
   "cell_type": "code",
   "execution_count": 65,
   "id": "9db3783c-7286-4143-8761-6bd8fb75b3db",
   "metadata": {},
   "outputs": [
    {
     "data": {
      "text/plain": [
       "[10, 20, 30, 'Apple']"
      ]
     },
     "execution_count": 65,
     "metadata": {},
     "output_type": "execute_result"
    }
   ],
   "source": [
    "l1=[10,20,30]\n",
    "l1.append('Apple')\n",
    "l1"
   ]
  },
  {
   "cell_type": "code",
   "execution_count": 69,
   "id": "37c53da1-84ea-46a7-8d33-910414e7cf7d",
   "metadata": {},
   "outputs": [
    {
     "data": {
      "text/plain": [
       "[10, 20, 30, 'Sai']"
      ]
     },
     "execution_count": 69,
     "metadata": {},
     "output_type": "execute_result"
    }
   ],
   "source": [
    "l1=[10,20,30]\n",
    "l1.append('Sai')\n",
    "l1"
   ]
  },
  {
   "cell_type": "code",
   "execution_count": 71,
   "id": "8fdb613b-9dc8-4464-b062-3547b5d9563e",
   "metadata": {},
   "outputs": [
    {
     "data": {
      "text/plain": [
       "[10, -30, 50, 0]"
      ]
     },
     "execution_count": 71,
     "metadata": {},
     "output_type": "execute_result"
    }
   ],
   "source": [
    "l1=[10,-30,50]\n",
    "l1.append(0)\n",
    "l1"
   ]
  },
  {
   "cell_type": "code",
   "execution_count": 73,
   "id": "813f10b7-689f-4222-88aa-d29021ee04b3",
   "metadata": {},
   "outputs": [
    {
     "data": {
      "text/plain": [
       "[10, -30, 50, [-10, 'Apple', 'Banana']]"
      ]
     },
     "execution_count": 73,
     "metadata": {},
     "output_type": "execute_result"
    }
   ],
   "source": [
    "l1=[10,-30,50]\n",
    "l1.append([-10,'Apple','Banana'])\n",
    "l1"
   ]
  },
  {
   "cell_type": "code",
   "execution_count": 83,
   "id": "d4316897-c252-42bd-b775-a2898d3fd25c",
   "metadata": {},
   "outputs": [
    {
     "data": {
      "text/plain": [
       "[0, 0, 0, [0]]"
      ]
     },
     "execution_count": 83,
     "metadata": {},
     "output_type": "execute_result"
    }
   ],
   "source": [
    "l1=[0,0,0]\n",
    "l1.append([0])\n",
    "l1"
   ]
  },
  {
   "cell_type": "code",
   "execution_count": null,
   "id": "0614b82b-dcf4-41de-bfb3-e10d4fc4e97e",
   "metadata": {},
   "outputs": [],
   "source": [
    "**append method is used to store the outputs**"
   ]
  },
  {
   "cell_type": "code",
   "execution_count": 85,
   "id": "da431ab8-171a-4573-aedb-89a55421e7fc",
   "metadata": {},
   "outputs": [
    {
     "data": {
      "text/plain": [
       "[1, 2, 3, 4, 5]"
      ]
     },
     "execution_count": 85,
     "metadata": {},
     "output_type": "execute_result"
    }
   ],
   "source": [
    "l=[]\n",
    "for i in range(1,6):\n",
    "    l.append(i)\n",
    "\n",
    "l"
   ]
  },
  {
   "cell_type": "code",
   "execution_count": 95,
   "id": "8dddc495-f025-407f-a483-15edd39f6e84",
   "metadata": {},
   "outputs": [
    {
     "data": {
      "text/plain": [
       "[1, 0, -1, -2, -3, -4, -5, -6, -7, -8]"
      ]
     },
     "execution_count": 95,
     "metadata": {},
     "output_type": "execute_result"
    }
   ],
   "source": [
    "l=[]\n",
    "for i in range(1,-9,-1):\n",
    "    l.append(i)\n",
    "\n",
    "l"
   ]
  },
  {
   "cell_type": "code",
   "execution_count": 103,
   "id": "c24929f1-5adf-4b5d-8391-ab74503b4c5e",
   "metadata": {},
   "outputs": [
    {
     "data": {
      "text/plain": [
       "['84:7056', '86:7396', '46:2116']"
      ]
     },
     "execution_count": 103,
     "metadata": {},
     "output_type": "execute_result"
    }
   ],
   "source": [
    "# wap ask the user enter 3 random numbers \n",
    "# and perform the square of the numbers , save those squares in alist\n",
    "import random\n",
    "l=[]\n",
    "for i in range(0,3):\n",
    "    num=random.randint(1,100)\n",
    "    l.append(f'{num}:{num*num}')\n",
    "\n",
    "l"
   ]
  },
  {
   "cell_type": "code",
   "execution_count": 107,
   "id": "2ac6efb4-fb5e-4c7b-b543-7894b74a00a5",
   "metadata": {},
   "outputs": [
    {
     "name": "stdout",
     "output_type": "stream",
     "text": [
      "[47, 53, 57]\n",
      "[10, 12]\n"
     ]
    }
   ],
   "source": [
    "# i already have a list of numbers\n",
    "# l=[10,47,53,12,27]\n",
    "# from above list i want to get a even_list and odd_list\n",
    "# even_list=[10,12]\n",
    "# odd_list=[47,53,27]\n",
    "l=[10,47,53,12,57]\n",
    "odd=[]\n",
    "even=[]\n",
    "for i in l:\n",
    "    if(i%2==0):\n",
    "        even.append(i)\n",
    "    else:\n",
    "        odd.append(i)\n",
    "\n",
    "print(odd)\n",
    "print(even)"
   ]
  },
  {
   "cell_type": "code",
   "execution_count": 113,
   "id": "0044d48b-34f7-492d-8040-bb67d607b72e",
   "metadata": {},
   "outputs": [
    {
     "name": "stdout",
     "output_type": "stream",
     "text": [
      "['Hyd', 'Bengaluru', 'Pune', 'Mumbai']\n"
     ]
    }
   ],
   "source": [
    "l=['hyd','bengaluru','pune','mumbai']\n",
    "l1=[]\n",
    "for i in l:\n",
    "    l1.append(i.title())\n",
    "print(l1)"
   ]
  },
  {
   "cell_type": "code",
   "execution_count": 117,
   "id": "bd587cae-a9b6-4d85-8059-ab58c3cc7fb8",
   "metadata": {},
   "outputs": [
    {
     "name": "stdout",
     "output_type": "stream",
     "text": [
      "['HYD', 'BENGALURU', 'PUNE', 'MUMBAI']\n"
     ]
    }
   ],
   "source": [
    "l=['hyd','bengaluru','pune','mumbai']\n",
    "l1=[]\n",
    "for i in l:\n",
    "    l1.append(i.upper())\n",
    "print(l1)"
   ]
  },
  {
   "cell_type": "code",
   "execution_count": 129,
   "id": "dcfae458-c9a3-4bf8-bb63-5d1484c0eca4",
   "metadata": {},
   "outputs": [
    {
     "name": "stdout",
     "output_type": "stream",
     "text": [
      "['beng#aluru', 'mu#mbai']\n"
     ]
    }
   ],
   "source": [
    "l=['hyd','beng#aluru','pune','mu#mbai']\n",
    "l1=[]\n",
    "for i in l:\n",
    "    if '#' in i:\n",
    "        l1.append(i)\n",
    "print(l1)"
   ]
  },
  {
   "cell_type": "code",
   "execution_count": 3,
   "id": "c5e0ebf0-711c-458c-94f8-295e8a05c239",
   "metadata": {},
   "outputs": [
    {
     "data": {
      "text/plain": [
       "['can:4', 'canner:3', 'you:3', 'not:1', 'with:1', 'but:1', 'the:1']"
      ]
     },
     "execution_count": 3,
     "metadata": {},
     "output_type": "execute_result"
    }
   ],
   "source": [
    "input='can canner can you can not canner with you but you can the canner'\n",
    "l=input.split()\n",
    "l1=[]\n",
    "counter=[]\n",
    "for i in l:\n",
    "    if i not in l1:\n",
    "        counter.append(f\"{i}:{l.count(i)}\")\n",
    "        l1.append(i)  # s=s+i\n",
    "counter"
   ]
  },
  {
   "cell_type": "code",
   "execution_count": 11,
   "id": "ad975c82-5a04-4011-815d-119acab5eee3",
   "metadata": {},
   "outputs": [
    {
     "data": {
      "text/plain": [
       "['can', 'canner', 'can', 'can', 'canner', 'can', 'the', 'canner']"
      ]
     },
     "execution_count": 11,
     "metadata": {},
     "output_type": "execute_result"
    }
   ],
   "source": [
    "input = 'can canner can you can not canner with you but you can the canner'\n",
    "l=input.split()\n",
    "stopwords=['not','you','but','with']\n",
    "l1=stopwords\n",
    "output=[]\n",
    "for i in l:\n",
    "    if i not in l1:\n",
    "        output.append(i)\n",
    "output"
   ]
  },
  {
   "cell_type": "code",
   "execution_count": 15,
   "id": "89ad9e8c-c365-4fd2-9dbb-b9dfde94b110",
   "metadata": {},
   "outputs": [
    {
     "data": {
      "text/plain": [
       "'can canner can can canner can the canner'"
      ]
     },
     "execution_count": 15,
     "metadata": {},
     "output_type": "execute_result"
    }
   ],
   "source": [
    "' '.join(output)"
   ]
  },
  {
   "cell_type": "code",
   "execution_count": 23,
   "id": "45321da1-827d-4842-86b4-a6e83bd0d455",
   "metadata": {},
   "outputs": [
    {
     "data": {
      "text/plain": [
       "['can:4', 'canner:3', 'you:3', 'not:1', 'with:1', 'but:1', 'the:1']"
      ]
     },
     "execution_count": 23,
     "metadata": {},
     "output_type": "execute_result"
    }
   ],
   "source": [
    "#take a string find the most repeated word from string\n",
    "input='can canner can you can not canner with you but you can the canner'\n",
    "l=input.split()\n",
    "elements=[]\n",
    "counter=[]\n",
    "for i in l:\n",
    "    if i not in elements:\n",
    "        counter.append(f\"{i}:{l.count(i)}\")\n",
    "        elements.append(i)  # s=s+i\n",
    "counter\n"
   ]
  },
  {
   "cell_type": "code",
   "execution_count": null,
   "id": "6ee9edb1-3b5d-4e99-805d-23b92757d0c0",
   "metadata": {},
   "outputs": [],
   "source": [
    "**extend**"
   ]
  },
  {
   "cell_type": "code",
   "execution_count": 37,
   "id": "bacfba57-0c84-405c-b0f6-522b5ad699c7",
   "metadata": {},
   "outputs": [
    {
     "data": {
      "text/plain": [
       "[1, 2, 3, 4, 5, 'A', 'B', 'C', 'D']"
      ]
     },
     "execution_count": 37,
     "metadata": {},
     "output_type": "execute_result"
    }
   ],
   "source": [
    "l1=[1,2,3,4,5]\n",
    "l2=['A','B','C','D']\n",
    "l1.extend(l2)\n",
    "l1"
   ]
  },
  {
   "cell_type": "code",
   "execution_count": 39,
   "id": "3804d93d-8138-4476-8519-b0f1399a3c8d",
   "metadata": {},
   "outputs": [
    {
     "data": {
      "text/plain": [
       "[1, 2, 3, 4, 5, ['A', 'B', 'C', 'D']]"
      ]
     },
     "execution_count": 39,
     "metadata": {},
     "output_type": "execute_result"
    }
   ],
   "source": [
    "l1=[1,2,3,4,5]\n",
    "l2=['A','B','C','D']\n",
    "l1.append(l2)\n",
    "l1"
   ]
  },
  {
   "cell_type": "code",
   "execution_count": 41,
   "id": "5c90640f-2375-4435-9473-0409f5dd90c5",
   "metadata": {},
   "outputs": [
    {
     "data": {
      "text/plain": [
       "[1, 2, 3, 4, 5, ['A', 'B', 'C', 'D'], 'A', 'B', 'C', 'D']"
      ]
     },
     "execution_count": 41,
     "metadata": {},
     "output_type": "execute_result"
    }
   ],
   "source": [
    "l1=[1,2,3,4,5]\n",
    "l2=['A','B','C','D']\n",
    "l1.append(l2)\n",
    "l1+l2"
   ]
  },
  {
   "cell_type": "code",
   "execution_count": 43,
   "id": "60a09657-60a5-4ae6-9134-969673627dda",
   "metadata": {},
   "outputs": [
    {
     "data": {
      "text/plain": [
       "[1, 2, 3, 4, 5, 'A', 'B', 'C', 'D', 'A', 'B', 'C', 'D']"
      ]
     },
     "execution_count": 43,
     "metadata": {},
     "output_type": "execute_result"
    }
   ],
   "source": [
    "l1=[1,2,3,4,5]\n",
    "l2=['A','B','C','D']\n",
    "l1.extend(l2)\n",
    "l1+l2"
   ]
  },
  {
   "cell_type": "code",
   "execution_count": 61,
   "id": "a4d787c1-9d7a-4360-a570-3fc6092059b4",
   "metadata": {},
   "outputs": [
    {
     "data": {
      "text/plain": [
       "2"
      ]
     },
     "execution_count": 61,
     "metadata": {},
     "output_type": "execute_result"
    }
   ],
   "source": [
    "l1=[1,2,3,4,5]\n",
    "l2=['A','B','C','D']\n",
    "l1.index(2)\n",
    "l2.index('C')"
   ]
  },
  {
   "cell_type": "code",
   "execution_count": 85,
   "id": "4d77694d-7eb1-41d6-b809-648fe0ab05d8",
   "metadata": {},
   "outputs": [
    {
     "data": {
      "text/plain": [
       "[1, 2, 3, 50, 4, 5]"
      ]
     },
     "execution_count": 85,
     "metadata": {},
     "output_type": "execute_result"
    }
   ],
   "source": [
    "l1=[1,2,3,4,5]\n",
    "l1.insert(3,50)\n",
    "l1"
   ]
  },
  {
   "cell_type": "code",
   "execution_count": 93,
   "id": "ddf94f07-6d8e-4b36-9d4e-71efca3570ee",
   "metadata": {},
   "outputs": [
    {
     "data": {
      "text/plain": [
       "[1, 2, 4, 5, 'Apple', 'Banana', 'Cheery']"
      ]
     },
     "execution_count": 93,
     "metadata": {},
     "output_type": "execute_result"
    }
   ],
   "source": [
    "l1=[1,2,3,4,5,'Apple','Banana','Cheery']\n",
    "l1.pop(2)\n",
    "l1"
   ]
  },
  {
   "cell_type": "code",
   "execution_count": 97,
   "id": "d5b795a6-b706-4a1e-9179-663c31a9da52",
   "metadata": {},
   "outputs": [
    {
     "data": {
      "text/plain": [
       "[1, 2, 3, 4, 5, 'Banana', 'Cheery']"
      ]
     },
     "execution_count": 97,
     "metadata": {},
     "output_type": "execute_result"
    }
   ],
   "source": [
    "l1=[1,2,3,4,5,'Apple','Banana','Cheery']\n",
    "del(l1[5])\n",
    "l1"
   ]
  },
  {
   "cell_type": "code",
   "execution_count": 105,
   "id": "d7ef9fe3-e575-478d-8dd5-9b868014264b",
   "metadata": {},
   "outputs": [
    {
     "ename": "NameError",
     "evalue": "name 'l1' is not defined",
     "output_type": "error",
     "traceback": [
      "\u001b[1;31m---------------------------------------------------------------------------\u001b[0m",
      "\u001b[1;31mNameError\u001b[0m                                 Traceback (most recent call last)",
      "Cell \u001b[1;32mIn[105], line 3\u001b[0m\n\u001b[0;32m      1\u001b[0m l1\u001b[38;5;241m=\u001b[39m[\u001b[38;5;241m1\u001b[39m,\u001b[38;5;241m2\u001b[39m,\u001b[38;5;241m3\u001b[39m,\u001b[38;5;241m4\u001b[39m,\u001b[38;5;241m5\u001b[39m,\u001b[38;5;124m'\u001b[39m\u001b[38;5;124mApple\u001b[39m\u001b[38;5;124m'\u001b[39m,\u001b[38;5;124m'\u001b[39m\u001b[38;5;124mBanana\u001b[39m\u001b[38;5;124m'\u001b[39m,\u001b[38;5;124m'\u001b[39m\u001b[38;5;124mCheery\u001b[39m\u001b[38;5;124m'\u001b[39m]\n\u001b[0;32m      2\u001b[0m \u001b[38;5;28;01mdel\u001b[39;00m(l1)\n\u001b[1;32m----> 3\u001b[0m l1\n",
      "\u001b[1;31mNameError\u001b[0m: name 'l1' is not defined"
     ]
    }
   ],
   "source": [
    "l1=[1,2,3,4,5,'Apple','Banana','Cheery']\n",
    "del(l1)\n",
    "l1"
   ]
  },
  {
   "cell_type": "code",
   "execution_count": 107,
   "id": "c2f9d3a1-a2c7-4d63-8400-d2cf69b5db17",
   "metadata": {},
   "outputs": [
    {
     "data": {
      "text/plain": [
       "[1, 2, 3, 4, 5, 'Banana', 'Cheery']"
      ]
     },
     "execution_count": 107,
     "metadata": {},
     "output_type": "execute_result"
    }
   ],
   "source": [
    "l1=[1,2,3,4,5,'Apple','Banana','Cheery']\n",
    "del l1[5]\n",
    "l1"
   ]
  },
  {
   "cell_type": "code",
   "execution_count": 109,
   "id": "5408af0e-a90f-4fbe-aa97-dbf4d684cc53",
   "metadata": {},
   "outputs": [
    {
     "data": {
      "text/plain": [
       "['Cheery', 'Banana', 'Apple', 5, 4, 3, 2, 1]"
      ]
     },
     "execution_count": 109,
     "metadata": {},
     "output_type": "execute_result"
    }
   ],
   "source": [
    "l1=[1,2,3,4,5,'Apple','Banana','Cheery']\n",
    "l1.reverse()\n",
    "l1"
   ]
  },
  {
   "cell_type": "code",
   "execution_count": 123,
   "id": "5a78ee82-ff8d-4c3b-8268-0f34a775e51f",
   "metadata": {},
   "outputs": [
    {
     "name": "stdout",
     "output_type": "stream",
     "text": [
      "['Cheery', 'Banana', 'Apple', 5, 4, 3, 2, 1]\n"
     ]
    }
   ],
   "source": [
    "l1=[1,2,3,4,5,'Apple','Banana','Cheery']\n",
    "a=reversed(l1)\n",
    "print(list(a))"
   ]
  },
  {
   "cell_type": "code",
   "execution_count": null,
   "id": "56666190-4f7a-4f96-b487-2b8099d50f2c",
   "metadata": {},
   "outputs": [],
   "source": [
    "**in place**\n",
    "- when we perform the operations sometimes the values will not overwrite\n",
    "- if we see inplace word or inplace=True\n",
    "- this indicates the output will be overwrite in corresponding variable"
   ]
  },
  {
   "cell_type": "code",
   "execution_count": 137,
   "id": "397d0fcb-408d-4b82-ac7f-307cc362247a",
   "metadata": {},
   "outputs": [
    {
     "data": {
      "text/plain": [
       "[1, 2, 3, 4, 5]"
      ]
     },
     "execution_count": 137,
     "metadata": {},
     "output_type": "execute_result"
    }
   ],
   "source": [
    "l1=[1,2,3,4,5]\n",
    "l1.sort()\n",
    "l1"
   ]
  },
  {
   "cell_type": "code",
   "execution_count": 143,
   "id": "cc11eaf2-505a-4da1-99e0-0328c20a2438",
   "metadata": {},
   "outputs": [
    {
     "name": "stdout",
     "output_type": "stream",
     "text": [
      "[1, 2, 3, 4, 5]\n"
     ]
    }
   ],
   "source": [
    "l1=[1,2,3,4,5]\n",
    "sorted(l1)\n",
    "print(l1)"
   ]
  },
  {
   "cell_type": "code",
   "execution_count": null,
   "id": "28b79b10-0678-4e02-9e78-942897e3d2ff",
   "metadata": {},
   "outputs": [],
   "source": [
    "- inbuilt functions are applicable for every type\n",
    "- but methods works at wrt data types "
   ]
  }
 ],
 "metadata": {
  "kernelspec": {
   "display_name": "Python [conda env:base] *",
   "language": "python",
   "name": "conda-base-py"
  },
  "language_info": {
   "codemirror_mode": {
    "name": "ipython",
    "version": 3
   },
   "file_extension": ".py",
   "mimetype": "text/x-python",
   "name": "python",
   "nbconvert_exporter": "python",
   "pygments_lexer": "ipython3",
   "version": "3.12.7"
  }
 },
 "nbformat": 4,
 "nbformat_minor": 5
}

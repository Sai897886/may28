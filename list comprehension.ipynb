{
 "cells": [
  {
   "cell_type": "markdown",
   "id": "2c0aec8a-6043-44d2-8cad-405b2fbea59b",
   "metadata": {},
   "source": [
    "-list comprehension is a way to list operations in a single line \n",
    "- when we apply for loop and if-else conditional statements then the code complication become slow\n",
    "- which means it takes much time\n",
    "- in order to avoid the time complexity we will use list comprehension\n",
    "-list comprehension is a single line code"
   ]
  },
  {
   "cell_type": "code",
   "execution_count": 5,
   "id": "bfac9b62-d455-482a-9da4-7cf8e05dcf51",
   "metadata": {},
   "outputs": [
    {
     "data": {
      "text/plain": [
       "[0, 1, 2, 3, 4, 5, 6, 7, 8, 9]"
      ]
     },
     "execution_count": 5,
     "metadata": {},
     "output_type": "execute_result"
    }
   ],
   "source": [
    "list1=[]\n",
    "for i in range(10):\n",
    "    list1.append(i)\n",
    "list1"
   ]
  },
  {
   "cell_type": "code",
   "execution_count": 10,
   "id": "961f1bbe-d60f-4819-93bc-1b90dfbe682a",
   "metadata": {},
   "outputs": [
    {
     "data": {
      "text/plain": [
       "[0, 1, 2, 3, 4, 5, 6, 7, 8, 9]"
      ]
     },
     "execution_count": 10,
     "metadata": {},
     "output_type": "execute_result"
    }
   ],
   "source": [
    "list1=[i for i in range(10)]\n",
    "list1"
   ]
  },
  {
   "cell_type": "code",
   "execution_count": 12,
   "id": "4e922c5c-4179-4920-bad4-13da1e00ffe1",
   "metadata": {},
   "outputs": [
    {
     "data": {
      "text/plain": [
       "['Hyderabad', 'Bengaluru', 'Pune', 'Mumbai']"
      ]
     },
     "execution_count": 12,
     "metadata": {},
     "output_type": "execute_result"
    }
   ],
   "source": [
    "#Q1) input=['hyderabad','bengaluru','pune','mumbai']\n",
    "#    output=['Hyderabad','Bengaluru','Pune]\n",
    "\n",
    "input=['hyderabad','bengaluru','pune','mumbai']\n",
    "output=[i.capitalize()for i in input]\n",
    "output"
   ]
  },
  {
   "cell_type": "code",
   "execution_count": 14,
   "id": "4b687e4c-cf3b-481c-b0b5-4b722fa708cc",
   "metadata": {},
   "outputs": [
    {
     "data": {
      "text/plain": [
       "['HYDERABAD', 'BENGALURU', 'PUNE', 'MUMBAI']"
      ]
     },
     "execution_count": 14,
     "metadata": {},
     "output_type": "execute_result"
    }
   ],
   "source": [
    "input=['hyderabad','bengaluru','pune','mumbai']\n",
    "output=[i.upper()for i in input]\n",
    "output"
   ]
  },
  {
   "cell_type": "code",
   "execution_count": 28,
   "id": "ab079d48-0977-4d6d-b65c-f1737eea189f",
   "metadata": {},
   "outputs": [
    {
     "data": {
      "text/plain": [
       "[0, 10, 20, 30]"
      ]
     },
     "execution_count": 28,
     "metadata": {},
     "output_type": "execute_result"
    }
   ],
   "source": [
    "input=['hyderabad','bengaluru','pune','mumbai']\n",
    "output=[input.index(i)*10 for i in input ]\n",
    "output"
   ]
  },
  {
   "cell_type": "code",
   "execution_count": 34,
   "id": "f1bfbcbe-bec3-41e5-b6b2-40889550aac3",
   "metadata": {},
   "outputs": [
    {
     "data": {
      "text/plain": [
       "60"
      ]
     },
     "execution_count": 34,
     "metadata": {},
     "output_type": "execute_result"
    }
   ],
   "source": [
    "input=['hyderabad','bengaluru','pune','mumbai']\n",
    "output=[input.index(i)*10 for i in input ]\n",
    "sum(output)"
   ]
  },
  {
   "cell_type": "markdown",
   "id": "7fef16ae-156b-4d4e-a8bb-aea25d3c45d2",
   "metadata": {},
   "source": [
    "**walrus operator**"
   ]
  },
  {
   "cell_type": "code",
   "execution_count": 41,
   "id": "7fa8495b-8d03-49df-b96a-9a7acaa72cf2",
   "metadata": {},
   "outputs": [
    {
     "data": {
      "text/plain": [
       "55"
      ]
     },
     "execution_count": 41,
     "metadata": {},
     "output_type": "execute_result"
    }
   ],
   "source": [
    "summ=0\n",
    "[summ:=summ+i for i in range(1,11)]\n",
    "summ"
   ]
  },
  {
   "cell_type": "code",
   "execution_count": 56,
   "id": "005dcb70-abdb-4023-a029-14e512d3349b",
   "metadata": {},
   "outputs": [
    {
     "data": {
      "text/plain": [
       "1320"
      ]
     },
     "execution_count": 56,
     "metadata": {},
     "output_type": "execute_result"
    }
   ],
   "source": [
    "input=['hyderabad','bengaluru','pune','mumbai']\n",
    "output=[summ:=summ+i for i in range(1,11)]\n",
    "sum(output)"
   ]
  },
  {
   "cell_type": "markdown",
   "id": "290a4264-0577-45bf-bbb9-c8dd62e13ccb",
   "metadata": {},
   "source": [
    "**case-2: for loop if condition**"
   ]
  },
  {
   "cell_type": "code",
   "execution_count": 58,
   "id": "d1d17445-9757-4de2-a5dd-b0de5763b30a",
   "metadata": {},
   "outputs": [
    {
     "data": {
      "text/plain": [
       "['even:2', 'even:4', 'even:6', 'even:8']"
      ]
     },
     "execution_count": 58,
     "metadata": {},
     "output_type": "execute_result"
    }
   ],
   "source": [
    "[f'even:{i}'for i in range(1,10) if i%2==0]"
   ]
  },
  {
   "cell_type": "code",
   "execution_count": 60,
   "id": "6f6afdeb-89e7-4425-8685-a5c2a304aafa",
   "metadata": {},
   "outputs": [
    {
     "name": "stdout",
     "output_type": "stream",
     "text": [
      "['beng#aluru', 'mu#mbai']\n"
     ]
    }
   ],
   "source": [
    "l=['hyd','beng#aluru','pune','mu#mbai']\n",
    "l1=[]\n",
    "for i in l:\n",
    "    if '#' in i:\n",
    "        l1.append(i)\n",
    "print(l1)"
   ]
  },
  {
   "cell_type": "code",
   "execution_count": 74,
   "id": "1f0d2b85-f85f-4f20-ad55-eddb180e5789",
   "metadata": {},
   "outputs": [
    {
     "data": {
      "text/plain": [
       "['beng#aluru', 'mu#mbai']"
      ]
     },
     "execution_count": 74,
     "metadata": {},
     "output_type": "execute_result"
    }
   ],
   "source": [
    "l=['hyd','beng#aluru','pune','mu#mbai']\n",
    "output=[i for i in l if '#' in i]\n",
    "output"
   ]
  },
  {
   "cell_type": "code",
   "execution_count": 76,
   "id": "c5f44436-cabf-4ae0-a58d-8576c2399ff9",
   "metadata": {},
   "outputs": [
    {
     "data": {
      "text/plain": [
       "['hyd', 'pune']"
      ]
     },
     "execution_count": 76,
     "metadata": {},
     "output_type": "execute_result"
    }
   ],
   "source": [
    "l=['hyd','beng#aluru','pune','mu#mbai']\n",
    "output=[i for i in l if '#' not in i]\n",
    "output"
   ]
  },
  {
   "cell_type": "code",
   "execution_count": 88,
   "id": "e02c88a4-8639-4a16-9e33-0493fa42d255",
   "metadata": {},
   "outputs": [
    {
     "data": {
      "text/plain": [
       "['even:0', 'odd:1', 'even:2']"
      ]
     },
     "execution_count": 88,
     "metadata": {},
     "output_type": "execute_result"
    }
   ],
   "source": [
    "l=[12,32,44]\n",
    "output=[f'even:{i}' if i%2==0 else f'odd:{i}' for i in range(len(l))]\n",
    "output"
   ]
  },
  {
   "cell_type": "markdown",
   "id": "b4a28d2f-5e1b-4e46-a137-6000c4e2d9b3",
   "metadata": {},
   "source": [
    "**case-4: for-if-elif-else**"
   ]
  },
  {
   "cell_type": "markdown",
   "id": "cd90e45e-bf6c-4664-9c80-0cf125474b88",
   "metadata": {},
   "source": [
    "- In list Comprehension we dont have **elif** representation\n",
    "- elif also represent \n",
    "\n",
    "\n",
    "**note**: instead of elif term write if"
   ]
  },
  {
   "cell_type": "code",
   "execution_count": null,
   "id": "aaf54b81-a64b-493a-b476-b39088f245e8",
   "metadata": {},
   "outputs": [],
   "source": [
    "[<if out> <if condition> else <elif out> <elif condition> else <else out> <for loop>]case"
   ]
  },
  {
   "cell_type": "code",
   "execution_count": 94,
   "id": "22d63e65-d1ef-470d-a2a0-16cab2510a0b",
   "metadata": {},
   "outputs": [
    {
     "name": "stdout",
     "output_type": "stream",
     "text": [
      "35:c grade\n",
      "45:c grade\n",
      "55:c grade\n",
      "65:B grade\n",
      "75:B grade\n",
      "85:B grade\n",
      "95:A grade\n"
     ]
    }
   ],
   "source": [
    "l=[35,45,55,65,75,85,95]\n",
    "for i in l:\n",
    "    if i>85:\n",
    "        print(f'{i}:A grade')\n",
    "    elif i>60:\n",
    "        print(f'{i}:B grade')\n",
    "    else:\n",
    "        print(f'{i}:c grade')\n",
    "\n"
   ]
  },
  {
   "cell_type": "code",
   "execution_count": 96,
   "id": "9317ef1a-0833-4dd9-b35b-a936f2570c8f",
   "metadata": {},
   "outputs": [
    {
     "data": {
      "text/plain": [
       "['35:c grade',\n",
       " '45:c grade',\n",
       " '55:c grade',\n",
       " '65:B grade',\n",
       " '75:B grade',\n",
       " '85:B grade',\n",
       " '95:A grade']"
      ]
     },
     "execution_count": 96,
     "metadata": {},
     "output_type": "execute_result"
    }
   ],
   "source": [
    "[f'{i}:A grade' if i>85 else f'{i}:B grade' if i>60 else f'{i}:c grade' for i in l]"
   ]
  },
  {
   "cell_type": "code",
   "execution_count": null,
   "id": "ea633afa-7b07-4348-84e3-d6718762aca9",
   "metadata": {},
   "outputs": [],
   "source": []
  }
 ],
 "metadata": {
  "kernelspec": {
   "display_name": "Python [conda env:base] *",
   "language": "python",
   "name": "conda-base-py"
  },
  "language_info": {
   "codemirror_mode": {
    "name": "ipython",
    "version": 3
   },
   "file_extension": ".py",
   "mimetype": "text/x-python",
   "name": "python",
   "nbconvert_exporter": "python",
   "pygments_lexer": "ipython3",
   "version": "3.12.7"
  }
 },
 "nbformat": 4,
 "nbformat_minor": 5
}

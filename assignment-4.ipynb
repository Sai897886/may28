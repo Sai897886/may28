{
 "cells": [
  {
   "cell_type": "code",
   "execution_count": 3,
   "id": "a931d169-512c-4e3e-831a-40449d0b5b08",
   "metadata": {},
   "outputs": [
    {
     "name": "stdin",
     "output_type": "stream",
     "text": [
      "enter the number 10\n",
      "enter the number 10\n"
     ]
    },
    {
     "name": "stdout",
     "output_type": "stream",
     "text": [
      "we are won\n"
     ]
    }
   ],
   "source": [
    "#assignment\n",
    "try:\n",
    "    n1=eval(input('enter the number'))\n",
    "    n2=eval(input('enter the number'))\n",
    "    if n1==n2:\n",
    "        print('we are won')\n",
    "    else:\n",
    "        print('we lost ')\n",
    "except Exception as e:\n",
    "    print(e)"
   ]
  },
  {
   "cell_type": "code",
   "execution_count": 17,
   "id": "65b6b5f5-2a53-49b5-9b02-98b170639b66",
   "metadata": {},
   "outputs": [
    {
     "name": "stdin",
     "output_type": "stream",
     "text": [
      "enter the number between 1 to 10 1\n"
     ]
    },
    {
     "name": "stdout",
     "output_type": "stream",
     "text": [
      "we lost\n"
     ]
    }
   ],
   "source": [
    "#assignment\n",
    "try:\n",
    "    import random\n",
    "    n1=eval(input('enter the number between 1 to 10'))\n",
    "    n2=random.randint(1,10)\n",
    "    if n1==n2:\n",
    "        print('we are won')\n",
    "    else:\n",
    "        print('we lost')\n",
    "except Exception as e:\n",
    "    print(e)"
   ]
  },
  {
   "cell_type": "code",
   "execution_count": 19,
   "id": "005c044b-fdce-4210-b4c8-a127f43ffb4f",
   "metadata": {},
   "outputs": [
    {
     "name": "stdin",
     "output_type": "stream",
     "text": [
      "enter the number 10\n"
     ]
    },
    {
     "name": "stdout",
     "output_type": "stream",
     "text": [
      "the given number is even\n"
     ]
    }
   ],
   "source": [
    "#assignment\n",
    "try:\n",
    "    num=eval(input('enter the number'))\n",
    "    if num%2==0:\n",
    "        print('the given number is even')\n",
    "    else:\n",
    "        print('the given number is odd')\n",
    "except Exception as e:\n",
    "    print(e)"
   ]
  },
  {
   "cell_type": "code",
   "execution_count": 23,
   "id": "0ffcbe8f-466b-4418-ac56-e572f7ea8c1a",
   "metadata": {},
   "outputs": [
    {
     "name": "stdin",
     "output_type": "stream",
     "text": [
      "enter the distance: 30\n",
      "enter the charge per km: 10\n"
     ]
    },
    {
     "name": "stdout",
     "output_type": "stream",
     "text": [
      "The total charge is: 50\n"
     ]
    }
   ],
   "source": [
    "#assignment\n",
    "try:\n",
    "        distance=eval(input('enter the distance:'))\n",
    "        if distance>25:\n",
    "            charge=eval(input('enter the charge per km:'))\n",
    "            total_charge=(distance-25)*charge\n",
    "            print(\"The total charge is:\",total_charge)\n",
    "        else:\n",
    "            print('free ride')\n",
    "except Exception as e:\n",
    "        print(e)\n",
    "    "
   ]
  },
  {
   "cell_type": "code",
   "execution_count": 27,
   "id": "1d18c090-a752-4086-b701-bf86791bea15",
   "metadata": {},
   "outputs": [
    {
     "name": "stdin",
     "output_type": "stream",
     "text": [
      "enter the number 10\n",
      "enter the number 20\n"
     ]
    },
    {
     "name": "stdout",
     "output_type": "stream",
     "text": [
      "20 is a greater number\n"
     ]
    }
   ],
   "source": [
    "#assignment\n",
    "try:\n",
    "        n1=eval(input('enter the number'))\n",
    "        n2=eval(input('enter the number'))\n",
    "        if n1>n2:\n",
    "            print(f'{n1} is a greater number')\n",
    "        else:\n",
    "            print(f'{n2} is a greater number')\n",
    "except Exception as e:\n",
    "        print(e)\n",
    "    "
   ]
  },
  {
   "cell_type": "code",
   "execution_count": 29,
   "id": "464a821f-9d6a-42fe-8e80-aa8d29ace24f",
   "metadata": {},
   "outputs": [
    {
     "name": "stdin",
     "output_type": "stream",
     "text": [
      "enter the course name data science\n",
      "enter the institute name nareshit\n"
     ]
    },
    {
     "name": "stdout",
     "output_type": "stream",
     "text": [
      "we are good\n"
     ]
    }
   ],
   "source": [
    "#assignment\n",
    "try:\n",
    "        course_name=input('enter the course name')\n",
    "        inst_name=input('enter the institute name')\n",
    "        if course_name.lower()==\"data science\" and inst_name.lower()==\"nareshit\":\n",
    "            print('we are good')\n",
    "        else:\n",
    "            print('not good')\n",
    "except Exception as e:\n",
    "        print(e)"
   ]
  },
  {
   "cell_type": "code",
   "execution_count": null,
   "id": "e423ff4b-340f-44aa-b129-376da1fe4b48",
   "metadata": {},
   "outputs": [],
   "source": []
  }
 ],
 "metadata": {
  "kernelspec": {
   "display_name": "Python [conda env:base] *",
   "language": "python",
   "name": "conda-base-py"
  },
  "language_info": {
   "codemirror_mode": {
    "name": "ipython",
    "version": 3
   },
   "file_extension": ".py",
   "mimetype": "text/x-python",
   "name": "python",
   "nbconvert_exporter": "python",
   "pygments_lexer": "ipython3",
   "version": "3.12.7"
  }
 },
 "nbformat": 4,
 "nbformat_minor": 5
}

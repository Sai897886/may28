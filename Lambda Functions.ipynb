{
 "cells": [
  {
   "cell_type": "markdown",
   "id": "e9d94386-3f8b-4e61-aec3-a05dddf158bc",
   "metadata": {},
   "source": [
    "**Lamda Functions**"
   ]
  },
  {
   "cell_type": "markdown",
   "id": "8f6e9256-f995-4c3b-91bf-cb7c671752fb",
   "metadata": {},
   "source": [
    "- lamda functions represent functions in a single line\n",
    "- it is similar to analogy to list comprehension\n",
    "- to reduce the time complexity will go for lambda functions"
   ]
  },
  {
   "cell_type": "markdown",
   "id": "741f0453-4b59-47fb-beb7-f36c41487d88",
   "metadata": {},
   "source": [
    "$pattern-1$:**function with one argument**"
   ]
  },
  {
   "cell_type": "code",
   "execution_count": 5,
   "id": "d04c3c68-b97e-418c-affc-273276ac8da3",
   "metadata": {},
   "outputs": [
    {
     "data": {
      "text/plain": [
       "100"
      ]
     },
     "execution_count": 5,
     "metadata": {},
     "output_type": "execute_result"
    }
   ],
   "source": [
    "def mul(a):\n",
    "    return(a*a)\n",
    "ans=mul(10)\n",
    "ans"
   ]
  },
  {
   "cell_type": "code",
   "execution_count": 7,
   "id": "d092788b-837d-45fc-bbbc-cd85c73bd375",
   "metadata": {},
   "outputs": [
    {
     "data": {
      "text/plain": [
       "400"
      ]
     },
     "execution_count": 7,
     "metadata": {},
     "output_type": "execute_result"
    }
   ],
   "source": [
    "def mul(a):\n",
    "    return(a*a)\n",
    "ans=mul(20)\n",
    "ans"
   ]
  },
  {
   "cell_type": "code",
   "execution_count": null,
   "id": "f52e6b25-7f30-4ad4-8c51-0b423fe419ab",
   "metadata": {},
   "outputs": [],
   "source": [
    "# syntax\n",
    "# function_name=lamda <argument> :<return output>\n",
    "#function_name=mul\n",
    "#argument name=a\n",
    "#output name =a*a"
   ]
  },
  {
   "cell_type": "code",
   "execution_count": 17,
   "id": "536392cd-7905-4216-a7ab-338af66ff07c",
   "metadata": {},
   "outputs": [
    {
     "data": {
      "text/plain": [
       "1600"
      ]
     },
     "execution_count": 17,
     "metadata": {},
     "output_type": "execute_result"
    }
   ],
   "source": [
    "mul= lambda a: a*a\n",
    "mul(40)"
   ]
  },
  {
   "cell_type": "code",
   "execution_count": 23,
   "id": "8c2273e5-e4c8-4106-afe3-da54fb97ea74",
   "metadata": {},
   "outputs": [
    {
     "data": {
      "text/plain": [
       "8000"
      ]
     },
     "execution_count": 23,
     "metadata": {},
     "output_type": "execute_result"
    }
   ],
   "source": [
    "cube= lambda a : a*a*a\n",
    "cube(20)"
   ]
  },
  {
   "cell_type": "markdown",
   "id": "07952dd3-2381-490d-9bf8-d223ecae3403",
   "metadata": {},
   "source": [
    "$pattern-2: **Function with two agruments**"
   ]
  },
  {
   "cell_type": "code",
   "execution_count": 26,
   "id": "365f6e0e-fe7a-4c26-94ce-d100896437fb",
   "metadata": {},
   "outputs": [
    {
     "data": {
      "text/plain": [
       "30"
      ]
     },
     "execution_count": 26,
     "metadata": {},
     "output_type": "execute_result"
    }
   ],
   "source": [
    "def add(a,b):\n",
    "    return(a+b)\n",
    "add(10,20)"
   ]
  },
  {
   "cell_type": "code",
   "execution_count": 30,
   "id": "f442ba2c-b3d5-4e67-a293-cdfece04334b",
   "metadata": {},
   "outputs": [
    {
     "data": {
      "text/plain": [
       "30"
      ]
     },
     "execution_count": 30,
     "metadata": {},
     "output_type": "execute_result"
    }
   ],
   "source": [
    "add= lambda a,b : a+b\n",
    "add(10,20)"
   ]
  },
  {
   "cell_type": "code",
   "execution_count": 32,
   "id": "ac3078b7-186b-4705-9383-b6b682e95dd1",
   "metadata": {},
   "outputs": [
    {
     "data": {
      "text/plain": [
       "60"
      ]
     },
     "execution_count": 32,
     "metadata": {},
     "output_type": "execute_result"
    }
   ],
   "source": [
    "def add(a,b,c):\n",
    "    return(a+b+c)\n",
    "add(10,20,30)"
   ]
  },
  {
   "cell_type": "code",
   "execution_count": 34,
   "id": "61d0e3fe-5e5c-416d-bb6c-c2b5eeb0eb33",
   "metadata": {},
   "outputs": [
    {
     "data": {
      "text/plain": [
       "60"
      ]
     },
     "execution_count": 34,
     "metadata": {},
     "output_type": "execute_result"
    }
   ],
   "source": [
    "add= lambda a,b,c :a+b+c\n",
    "add(10,20,30)"
   ]
  },
  {
   "cell_type": "code",
   "execution_count": 36,
   "id": "697f3e0c-5653-4fb8-a2a2-5e11907f49a0",
   "metadata": {},
   "outputs": [
    {
     "data": {
      "text/plain": [
       "22.0"
      ]
     },
     "execution_count": 36,
     "metadata": {},
     "output_type": "execute_result"
    }
   ],
   "source": [
    "def avg(a,b,c):\n",
    "    return(round(a+b+c)/3)\n",
    "avg(11,22,33)"
   ]
  },
  {
   "cell_type": "code",
   "execution_count": 44,
   "id": "a854f6cf-270f-40a3-9386-db70d6d13403",
   "metadata": {},
   "outputs": [
    {
     "data": {
      "text/plain": [
       "22.0"
      ]
     },
     "execution_count": 44,
     "metadata": {},
     "output_type": "execute_result"
    }
   ],
   "source": [
    "avg= lambda a,b,c: round(a+b+c)/3\n",
    "avg(11,22,33)"
   ]
  },
  {
   "cell_type": "markdown",
   "id": "757b3d17-db80-470e-be09-093d1d177c6e",
   "metadata": {},
   "source": [
    "$pattern-4: **Default arguments**"
   ]
  },
  {
   "cell_type": "code",
   "execution_count": 59,
   "id": "1371de99-151e-4050-9a7e-2fbb444dbd92",
   "metadata": {},
   "outputs": [
    {
     "data": {
      "text/plain": [
       "18"
      ]
     },
     "execution_count": 59,
     "metadata": {},
     "output_type": "execute_result"
    }
   ],
   "source": [
    "avg= lambda a,b,c=22:round((a+b+c)/3)\n",
    "avg(11,22)"
   ]
  },
  {
   "cell_type": "code",
   "execution_count": 51,
   "id": "4ed4b4d0-9df4-42d6-9fee-be9b133b468b",
   "metadata": {},
   "outputs": [
    {
     "data": {
      "text/plain": [
       "1600"
      ]
     },
     "execution_count": 51,
     "metadata": {},
     "output_type": "execute_result"
    }
   ],
   "source": [
    "mul=lambda a:a*a\n",
    "mul(40)"
   ]
  },
  {
   "cell_type": "code",
   "execution_count": 55,
   "id": "466ea7de-6c44-481a-954d-e4cf0b7ae673",
   "metadata": {},
   "outputs": [
    {
     "data": {
      "text/plain": [
       "1.0"
      ]
     },
     "execution_count": 55,
     "metadata": {},
     "output_type": "execute_result"
    }
   ],
   "source": [
    "div=lambda a:a/a\n",
    "div(100)"
   ]
  },
  {
   "cell_type": "code",
   "execution_count": 67,
   "id": "821d6f15-1998-4b3a-96f3-c75b73e23bf7",
   "metadata": {},
   "outputs": [
    {
     "data": {
      "text/plain": [
       "['Hyd', 'Bengaleru', 'Mumbai', 'Pune']"
      ]
     },
     "execution_count": 67,
     "metadata": {},
     "output_type": "execute_result"
    }
   ],
   "source": [
    "input=['hyd','bengaleru','mumbai','pune']\n",
    "output=[]\n",
    "for i in input:\n",
    "    output.append(i.capitalize())\n",
    "output"
   ]
  },
  {
   "cell_type": "code",
   "execution_count": null,
   "id": "357f00cf-f178-4748-a62a-5f1d965198ae",
   "metadata": {},
   "outputs": [],
   "source": [
    "#step-1: lambda <variable> : <output>\n",
    "#step-2: lambda <variable> : <output>,<iterator>\n",
    "#step-3: map(lambda <variable> : <output>,<iterator>)\n",
    "#step-4: list(map(lambda <variable> : <output>,<iterator>))"
   ]
  },
  {
   "cell_type": "code",
   "execution_count": 69,
   "id": "e30deeba-a2f4-4f69-bb82-ac9ac382ce1d",
   "metadata": {},
   "outputs": [
    {
     "data": {
      "text/plain": [
       "<function __main__.<lambda>(i)>"
      ]
     },
     "execution_count": 69,
     "metadata": {},
     "output_type": "execute_result"
    }
   ],
   "source": [
    "#step-1:\n",
    "lambda i: i.capitalize()"
   ]
  },
  {
   "cell_type": "code",
   "execution_count": 71,
   "id": "0edfa2fe-2f82-417d-9528-4c8287351fa2",
   "metadata": {},
   "outputs": [
    {
     "data": {
      "text/plain": [
       "(<function __main__.<lambda>(i)>, ['hyd', 'bengaleru', 'mumbai', 'pune'])"
      ]
     },
     "execution_count": 71,
     "metadata": {},
     "output_type": "execute_result"
    }
   ],
   "source": [
    "#step-2:\n",
    "lambda i: i.capitalize(),input"
   ]
  },
  {
   "cell_type": "code",
   "execution_count": 73,
   "id": "356b1257-5515-4f2f-b364-41b7e935bd8c",
   "metadata": {},
   "outputs": [
    {
     "data": {
      "text/plain": [
       "<map at 0x22473e5ae90>"
      ]
     },
     "execution_count": 73,
     "metadata": {},
     "output_type": "execute_result"
    }
   ],
   "source": [
    "#step-3:\n",
    "map(lambda i: i.capitalize(),input)"
   ]
  },
  {
   "cell_type": "code",
   "execution_count": 75,
   "id": "ad079f9e-bfe1-4889-9b24-8e51615e3ddc",
   "metadata": {},
   "outputs": [
    {
     "data": {
      "text/plain": [
       "['Hyd', 'Bengaleru', 'Mumbai', 'Pune']"
      ]
     },
     "execution_count": 75,
     "metadata": {},
     "output_type": "execute_result"
    }
   ],
   "source": [
    "#step-4:\n",
    "list(map(lambda i: i.capitalize(),input))"
   ]
  },
  {
   "cell_type": "code",
   "execution_count": 79,
   "id": "e8e70181-89df-4490-ba9c-ffa3b8420db8",
   "metadata": {},
   "outputs": [
    {
     "data": {
      "text/plain": [
       "['HYD', 'BENGALERU', 'MUMBAI', 'PUNE']"
      ]
     },
     "execution_count": 79,
     "metadata": {},
     "output_type": "execute_result"
    }
   ],
   "source": [
    "input=['hyd','bengaleru','mumbai','pune']\n",
    "output=[]\n",
    "for i in input:\n",
    "    output.append(i.upper())\n",
    "output"
   ]
  },
  {
   "cell_type": "code",
   "execution_count": 83,
   "id": "62ad0d00-8d72-49b1-9a36-850455ad143f",
   "metadata": {},
   "outputs": [
    {
     "data": {
      "text/plain": [
       "['HYD', 'BENGALERU', 'MUMBAI', 'PUNE']"
      ]
     },
     "execution_count": 83,
     "metadata": {},
     "output_type": "execute_result"
    }
   ],
   "source": [
    "list(map(lambda i :i.upper(),input))"
   ]
  },
  {
   "cell_type": "code",
   "execution_count": 101,
   "id": "784b47c7-6efa-46da-9be1-0cc6a0a86ddb",
   "metadata": {},
   "outputs": [
    {
     "name": "stdout",
     "output_type": "stream",
     "text": [
      "['beng#leru', 'pu#e']\n"
     ]
    }
   ],
   "source": [
    "input=['hyd','beng#leru','mumbai','pu#e']\n",
    "output=[]\n",
    "for i in input:\n",
    "    if '#' in i:\n",
    "            output.append(i)\n",
    "print(output)"
   ]
  },
  {
   "cell_type": "code",
   "execution_count": 123,
   "id": "3756d131-de4a-4186-b487-3a8661dbc9ea",
   "metadata": {},
   "outputs": [
    {
     "data": {
      "text/plain": [
       "['beng#leru', 'pu#e']"
      ]
     },
     "execution_count": 123,
     "metadata": {},
     "output_type": "execute_result"
    }
   ],
   "source": [
    "list(filter(lambda i:'#' in i ,input))"
   ]
  },
  {
   "cell_type": "code",
   "execution_count": 117,
   "id": "ed05dc63-1493-47c6-96a0-03ba750671b2",
   "metadata": {},
   "outputs": [
    {
     "data": {
      "text/plain": [
       "[0, 1, 2, 3]"
      ]
     },
     "execution_count": 117,
     "metadata": {},
     "output_type": "execute_result"
    }
   ],
   "source": [
    "list(map(lambda i:input.index(i),input))"
   ]
  },
  {
   "cell_type": "code",
   "execution_count": 129,
   "id": "796fdcd4-604c-42ec-a1d0-b8c12a9c2b4a",
   "metadata": {},
   "outputs": [
    {
     "ename": "AttributeError",
     "evalue": "'list' object has no attribute 'split'",
     "output_type": "error",
     "traceback": [
      "\u001b[1;31m---------------------------------------------------------------------------\u001b[0m",
      "\u001b[1;31mAttributeError\u001b[0m                            Traceback (most recent call last)",
      "Cell \u001b[1;32mIn[129], line 1\u001b[0m\n\u001b[1;32m----> 1\u001b[0m \u001b[38;5;28mlist\u001b[39m(\u001b[38;5;28mmap\u001b[39m(\u001b[38;5;28;01mlambda\u001b[39;00m i: i\u001b[38;5;241m.\u001b[39mupper(),\u001b[38;5;28minput\u001b[39m\u001b[38;5;241m.\u001b[39msplit()))\n",
      "\u001b[1;31mAttributeError\u001b[0m: 'list' object has no attribute 'split'"
     ]
    }
   ],
   "source": [
    "list(map(lambda i: i.upper(),input.split()))"
   ]
  },
  {
   "cell_type": "markdown",
   "id": "7806dd73-dd5d-45ab-92d1-a3a6af40fb54",
   "metadata": {},
   "source": [
    "**Filter**\n",
    "- filter is apply on lambda fuctions to retrieve the trust output\n",
    "- map will just map the function and iterator\n",
    "- when we apply condition map will give True false\n",
    "- filter will use instead of map"
   ]
  },
  {
   "cell_type": "code",
   "execution_count": 127,
   "id": "c101b346-7c07-46b9-b63b-bb028c7e41f1",
   "metadata": {},
   "outputs": [
    {
     "data": {
      "text/plain": [
       "['beng#leru', 'pu#e']"
      ]
     },
     "execution_count": 127,
     "metadata": {},
     "output_type": "execute_result"
    }
   ],
   "source": [
    "list(filter(lambda i:'#' in i ,input))"
   ]
  },
  {
   "cell_type": "markdown",
   "id": "656e810d-ccaf-4f42-a49c-7fe54ca9559f",
   "metadata": {},
   "source": [
    "**reduce**\n",
    "- reduce will helpful to perform math operations using lambda functions\n",
    "- it is a method under a package called : **functools**"
   ]
  },
  {
   "cell_type": "code",
   "execution_count": 137,
   "id": "78005fd9-fa43-4802-a3ea-6d12e63850e1",
   "metadata": {},
   "outputs": [
    {
     "data": {
      "text/plain": [
       "['GenericAlias',\n",
       " 'RLock',\n",
       " 'WRAPPER_ASSIGNMENTS',\n",
       " 'WRAPPER_UPDATES',\n",
       " '_CacheInfo',\n",
       " '_HashedSeq',\n",
       " '_NOT_FOUND',\n",
       " '__all__',\n",
       " '__builtins__',\n",
       " '__cached__',\n",
       " '__doc__',\n",
       " '__file__',\n",
       " '__loader__',\n",
       " '__name__',\n",
       " '__package__',\n",
       " '__spec__',\n",
       " '_c3_merge',\n",
       " '_c3_mro',\n",
       " '_compose_mro',\n",
       " '_convert',\n",
       " '_find_impl',\n",
       " '_ge_from_gt',\n",
       " '_ge_from_le',\n",
       " '_ge_from_lt',\n",
       " '_gt_from_ge',\n",
       " '_gt_from_le',\n",
       " '_gt_from_lt',\n",
       " '_initial_missing',\n",
       " '_le_from_ge',\n",
       " '_le_from_gt',\n",
       " '_le_from_lt',\n",
       " '_lru_cache_wrapper',\n",
       " '_lt_from_ge',\n",
       " '_lt_from_gt',\n",
       " '_lt_from_le',\n",
       " '_make_key',\n",
       " '_unwrap_partial',\n",
       " 'cache',\n",
       " 'cached_property',\n",
       " 'cmp_to_key',\n",
       " 'get_cache_token',\n",
       " 'lru_cache',\n",
       " 'namedtuple',\n",
       " 'partial',\n",
       " 'partialmethod',\n",
       " 'recursive_repr',\n",
       " 'reduce',\n",
       " 'singledispatch',\n",
       " 'singledispatchmethod',\n",
       " 'total_ordering',\n",
       " 'update_wrapper',\n",
       " 'wraps']"
      ]
     },
     "execution_count": 137,
     "metadata": {},
     "output_type": "execute_result"
    }
   ],
   "source": [
    "import functools\n",
    "dir(functools)"
   ]
  },
  {
   "cell_type": "code",
   "execution_count": 147,
   "id": "99e8089d-f8b5-4fd0-a35b-193ae4edc8d0",
   "metadata": {},
   "outputs": [
    {
     "name": "stdout",
     "output_type": "stream",
     "text": [
      "15\n"
     ]
    }
   ],
   "source": [
    "l1=[1,2,3,4,5]\n",
    "summ=0\n",
    "for i in l1:\n",
    "    summ=summ+i\n",
    "print(summ)"
   ]
  },
  {
   "cell_type": "code",
   "execution_count": 149,
   "id": "bc9a2cb6-20cf-48b0-bfb5-73713afcf022",
   "metadata": {},
   "outputs": [
    {
     "data": {
      "text/plain": [
       "15"
      ]
     },
     "execution_count": 149,
     "metadata": {},
     "output_type": "execute_result"
    }
   ],
   "source": [
    "from functools import reduce\n",
    "reduce(lambda summ,i:summ+i,l1)"
   ]
  },
  {
   "cell_type": "code",
   "execution_count": null,
   "id": "f27033ba-950a-4dfb-a190-4ed1f99a4c9c",
   "metadata": {},
   "outputs": [],
   "source": [
    "from functools import reduce\n",
    "reduce(lambda summ,i:summ+i,l1)"
   ]
  }
 ],
 "metadata": {
  "kernelspec": {
   "display_name": "Python [conda env:base] *",
   "language": "python",
   "name": "conda-base-py"
  },
  "language_info": {
   "codemirror_mode": {
    "name": "ipython",
    "version": 3
   },
   "file_extension": ".py",
   "mimetype": "text/x-python",
   "name": "python",
   "nbconvert_exporter": "python",
   "pygments_lexer": "ipython3",
   "version": "3.12.7"
  }
 },
 "nbformat": 4,
 "nbformat_minor": 5
}

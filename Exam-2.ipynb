{
 "cells": [
  {
   "cell_type": "code",
   "execution_count": null,
   "id": "31c009c9-2ff0-425c-8fda-c15cb2741c1c",
   "metadata": {},
   "outputs": [],
   "source": [
    "1. Write a Python program to check if a given number is prime or not.\n",
    "2. Write a Python program to generate n Fibonacci series values.\n",
    "3. Write a Python program to convert characters at prime index to\n",
    "uppercase. For example, given input: python, output: pyTHoN.\n",
    "4. Write a Python program to check if a number is a palindrome without\n",
    "converting it to a string (without using slicing).\n",
    "5. Write a Python program to find the length of a list or string without\n",
    "using the len() function.\n",
    "6. Write a Python program that asks the user to enter a number and\n",
    "prints its multiplication table using a while loop.\n",
    "7. Write a Python program to find the sum of a given list using a lambda\n",
    "function.\n",
    "8. Write a Python program that asks the user to enter a year and\n",
    "determines whether it is a leap year or not.\n",
    "9. Write a Python program to count the frequency of each element in a\n",
    "list.\n",
    "10.Write a Python program to find the second largest number in a list that\n",
    "contains duplicate values, without converting the list to a set. For\n",
    "example, given the list [1, 2, 3, 4, 2, 3, 4, 1, 4, 5, 5, 4], the output should\n",
    "be 4."
   ]
  },
  {
   "cell_type": "code",
   "execution_count": 7,
   "id": "f31b51e9-0e90-44bd-ad6e-0d238797e057",
   "metadata": {},
   "outputs": [
    {
     "name": "stdout",
     "output_type": "stream",
     "text": [
      "10 is not a prime number\n",
      "10 it is a prime number\n",
      "10 it is a prime number\n",
      "10 is not a prime number\n"
     ]
    }
   ],
   "source": [
    "#Q1. Write a Python program to check if a given number is prime or not.\n",
    "num=10\n",
    "if num>1:\n",
    "    for i in range(2,(num//2)+1):\n",
    "        if num%i==0:\n",
    "            print(num,\"is not a prime number\")\n",
    "        else:\n",
    "            print(num,\"it is a prime number\")"
   ]
  },
  {
   "cell_type": "code",
   "execution_count": 11,
   "id": "3daa4a52-b4c6-4a23-9aab-156e513ec53e",
   "metadata": {},
   "outputs": [
    {
     "name": "stdout",
     "output_type": "stream",
     "text": [
      "1 2 3 5 8 13 21 34 55 89 \n"
     ]
    }
   ],
   "source": [
    "#Q2. Write a Python program to generate n Fibonacci series values.\n",
    "n=10\n",
    "num1=0\n",
    "num2=1\n",
    "next_number=num2  \n",
    "count =1\n",
    "while count<=n:\n",
    "    print(next_number, end=\" \")\n",
    "    count+=1\n",
    "    num1,num2 = num2,next_number\n",
    "    next_number = num1+num2\n",
    "print()"
   ]
  },
  {
   "cell_type": "code",
   "execution_count": 13,
   "id": "3f8581a3-da29-4001-92b9-f3030b1a16bc",
   "metadata": {},
   "outputs": [
    {
     "name": "stdout",
     "output_type": "stream",
     "text": [
      "Output: pyTHoN\n"
     ]
    }
   ],
   "source": [
    "def is_prime(num):\n",
    "    if num < 2:\n",
    "        return False\n",
    "    for i in range(2, num):\n",
    "        if num % i == 0:\n",
    "            return False\n",
    "    return True\n",
    "def convert_to_uppercase_at_prime_indices(s):\n",
    "    result = list(s)\n",
    "    for i in range(len(s)):\n",
    "        if is_prime(i):\n",
    "            result[i] = result[i].upper()\n",
    "    return ''.join(result)\n",
    "input_str = \"python\"\n",
    "output_str = convert_to_uppercase_at_prime_indices(input_str)\n",
    "print(\"Output:\", output_str)"
   ]
  },
  {
   "cell_type": "code",
   "execution_count": 17,
   "id": "713ecf36-836d-4821-8f90-41f242f9220f",
   "metadata": {},
   "outputs": [
    {
     "name": "stdout",
     "output_type": "stream",
     "text": [
      "4006 is not a palindrome.\n"
     ]
    }
   ],
   "source": [
    "def is_palindrome_native(num):\n",
    "    return str(num) == str(num)[::-1]\n",
    "number=4006\n",
    "if is_palindrome_native(number):\n",
    "    print(f\"{number} is a palindrome.\")\n",
    "else:\n",
    "    print(f\"{number} is not a palindrome.\")"
   ]
  },
  {
   "cell_type": "code",
   "execution_count": 29,
   "id": "81af737e-3207-4ad3-92e5-0b6c955b1136",
   "metadata": {},
   "outputs": [
    {
     "name": "stdout",
     "output_type": "stream",
     "text": [
      "15 x 1 = 15\n",
      "15 x 2 = 30\n",
      "15 x 3 = 45\n",
      "15 x 4 = 60\n",
      "15 x 5 = 75\n",
      "15 x 6 = 90\n",
      "15 x 7 = 105\n",
      "15 x 8 = 120\n",
      "15 x 9 = 135\n",
      "15 x 10 = 150\n"
     ]
    }
   ],
   "source": [
    "num = 15\n",
    "for i in range(1, 11):\n",
    "   print(num, 'x', i, '=', num*i)"
   ]
  },
  {
   "cell_type": "code",
   "execution_count": 33,
   "id": "8985e0d3-907d-4221-be64-2f82a6fa723d",
   "metadata": {},
   "outputs": [
    {
     "name": "stdout",
     "output_type": "stream",
     "text": [
      "110\n"
     ]
    }
   ],
   "source": [
    "a = [11,22,33,44]\n",
    "s1= sum(a)\n",
    "print(s1)"
   ]
  },
  {
   "cell_type": "code",
   "execution_count": 35,
   "id": "bb9fbc05-a218-47fe-8943-42ad9cbdb4f0",
   "metadata": {},
   "outputs": [
    {
     "name": "stdout",
     "output_type": "stream",
     "text": [
      "2004 is a leap year\n"
     ]
    }
   ],
   "source": [
    "year = 2004\n",
    "if (year % 400 == 0) and (year % 100 == 0):\n",
    "    print(\"{0} is a leap year\".format(year))\n",
    "elif (year % 4 ==0) and (year % 100 != 0):\n",
    "    print(\"{0} is a leap year\".format(year))\n",
    "else:\n",
    "    print(\"{0} is not a leap year\".format(year))"
   ]
  },
  {
   "cell_type": "code",
   "execution_count": 41,
   "id": "cadcf9ab-78d3-4ae2-8a25-163af46f9959",
   "metadata": {},
   "outputs": [
    {
     "name": "stdout",
     "output_type": "stream",
     "text": [
      "99\n"
     ]
    }
   ],
   "source": [
    "a=[22,33,45,57,89,99,100]\n",
    "max1=max2=float('-inf')\n",
    "for n in a:\n",
    "    if n>max1:\n",
    "        max2=max1  \n",
    "        max1=n     \n",
    "    elif n>max2 and n!=max1:\n",
    "        max2=n  \n",
    "print(max2)"
   ]
  },
  {
   "cell_type": "code",
   "execution_count": null,
   "id": "a660130e-3821-44d8-97b7-1b007e73ee46",
   "metadata": {},
   "outputs": [],
   "source": []
  }
 ],
 "metadata": {
  "kernelspec": {
   "display_name": "Python [conda env:base] *",
   "language": "python",
   "name": "conda-base-py"
  },
  "language_info": {
   "codemirror_mode": {
    "name": "ipython",
    "version": 3
   },
   "file_extension": ".py",
   "mimetype": "text/x-python",
   "name": "python",
   "nbconvert_exporter": "python",
   "pygments_lexer": "ipython3",
   "version": "3.12.7"
  }
 },
 "nbformat": 4,
 "nbformat_minor": 5
}
